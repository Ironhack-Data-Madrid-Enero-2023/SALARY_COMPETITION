{
 "cells": [
  {
   "cell_type": "code",
   "execution_count": 1,
   "metadata": {},
   "outputs": [],
   "source": [
    "import pandas as pd\n",
    "import numpy as np\n",
    "import matplotlib.pyplot as plt\n",
    "import seaborn as sns\n",
    "\n",
    "# Importamos los datos\n",
    "df = pd.read_csv('../data/salaries_data.csv')"
   ]
  },
  {
   "cell_type": "code",
   "execution_count": 2,
   "metadata": {},
   "outputs": [],
   "source": [
    "df.head()\n",
    "#voy a eliminar la columna salary, y salary_urrency, porque no me aportan nada\n",
    "df.drop(['salary', 'salary_currency'], axis=1, inplace=True)"
   ]
  },
  {
   "cell_type": "code",
   "execution_count": 3,
   "metadata": {},
   "outputs": [
    {
     "data": {
      "text/html": [
       "<div>\n",
       "<style scoped>\n",
       "    .dataframe tbody tr th:only-of-type {\n",
       "        vertical-align: middle;\n",
       "    }\n",
       "\n",
       "    .dataframe tbody tr th {\n",
       "        vertical-align: top;\n",
       "    }\n",
       "\n",
       "    .dataframe thead th {\n",
       "        text-align: right;\n",
       "    }\n",
       "</style>\n",
       "<table border=\"1\" class=\"dataframe\">\n",
       "  <thead>\n",
       "    <tr style=\"text-align: right;\">\n",
       "      <th></th>\n",
       "      <th>work_year</th>\n",
       "      <th>experience_level</th>\n",
       "      <th>employment_type</th>\n",
       "      <th>job_title</th>\n",
       "      <th>salary_in_usd</th>\n",
       "      <th>employee_residence</th>\n",
       "      <th>remote_ratio</th>\n",
       "      <th>company_location</th>\n",
       "      <th>company_size</th>\n",
       "    </tr>\n",
       "  </thead>\n",
       "  <tbody>\n",
       "    <tr>\n",
       "      <th>0</th>\n",
       "      <td>2022</td>\n",
       "      <td>SE</td>\n",
       "      <td>FT</td>\n",
       "      <td>Data Engineer</td>\n",
       "      <td>140250</td>\n",
       "      <td>US</td>\n",
       "      <td>100</td>\n",
       "      <td>US</td>\n",
       "      <td>M</td>\n",
       "    </tr>\n",
       "    <tr>\n",
       "      <th>1</th>\n",
       "      <td>2022</td>\n",
       "      <td>SE</td>\n",
       "      <td>FT</td>\n",
       "      <td>Data Engineer</td>\n",
       "      <td>135000</td>\n",
       "      <td>US</td>\n",
       "      <td>100</td>\n",
       "      <td>US</td>\n",
       "      <td>M</td>\n",
       "    </tr>\n",
       "    <tr>\n",
       "      <th>2</th>\n",
       "      <td>2021</td>\n",
       "      <td>MI</td>\n",
       "      <td>FT</td>\n",
       "      <td>BI Data Analyst</td>\n",
       "      <td>100000</td>\n",
       "      <td>US</td>\n",
       "      <td>100</td>\n",
       "      <td>US</td>\n",
       "      <td>M</td>\n",
       "    </tr>\n",
       "    <tr>\n",
       "      <th>3</th>\n",
       "      <td>2021</td>\n",
       "      <td>MI</td>\n",
       "      <td>CT</td>\n",
       "      <td>ML Engineer</td>\n",
       "      <td>270000</td>\n",
       "      <td>US</td>\n",
       "      <td>100</td>\n",
       "      <td>US</td>\n",
       "      <td>L</td>\n",
       "    </tr>\n",
       "    <tr>\n",
       "      <th>4</th>\n",
       "      <td>2021</td>\n",
       "      <td>MI</td>\n",
       "      <td>FT</td>\n",
       "      <td>Data Engineer</td>\n",
       "      <td>26005</td>\n",
       "      <td>RO</td>\n",
       "      <td>0</td>\n",
       "      <td>US</td>\n",
       "      <td>L</td>\n",
       "    </tr>\n",
       "  </tbody>\n",
       "</table>\n",
       "</div>"
      ],
      "text/plain": [
       "   work_year experience_level employment_type        job_title  salary_in_usd  \\\n",
       "0       2022               SE              FT    Data Engineer         140250   \n",
       "1       2022               SE              FT    Data Engineer         135000   \n",
       "2       2021               MI              FT  BI Data Analyst         100000   \n",
       "3       2021               MI              CT      ML Engineer         270000   \n",
       "4       2021               MI              FT    Data Engineer          26005   \n",
       "\n",
       "  employee_residence  remote_ratio company_location company_size  \n",
       "0                 US           100               US            M  \n",
       "1                 US           100               US            M  \n",
       "2                 US           100               US            M  \n",
       "3                 US           100               US            L  \n",
       "4                 RO             0               US            L  "
      ]
     },
     "execution_count": 3,
     "metadata": {},
     "output_type": "execute_result"
    }
   ],
   "source": [
    "df.head()"
   ]
  },
  {
   "cell_type": "code",
   "execution_count": 4,
   "metadata": {},
   "outputs": [
    {
     "data": {
      "text/plain": [
       "(500, 9)"
      ]
     },
     "execution_count": 4,
     "metadata": {},
     "output_type": "execute_result"
    }
   ],
   "source": [
    "df.shape"
   ]
  },
  {
   "cell_type": "code",
   "execution_count": 5,
   "metadata": {},
   "outputs": [
    {
     "data": {
      "text/plain": [
       "array([2022, 2021, 2020])"
      ]
     },
     "execution_count": 5,
     "metadata": {},
     "output_type": "execute_result"
    }
   ],
   "source": [
    "df.work_year.unique()"
   ]
  },
  {
   "cell_type": "code",
   "execution_count": 6,
   "metadata": {},
   "outputs": [],
   "source": [
    "#los años los voy a poner en nivel 1, 2 o 3 dependiendo de si es 2022, 2021 o 2020, porque no me aportan nada los años exactos\n",
    "df['work_year'] = df['work_year'].apply(lambda x: 1 if x == 2022 else 2 if x == 2021 else 3)"
   ]
  },
  {
   "cell_type": "code",
   "execution_count": 7,
   "metadata": {},
   "outputs": [
    {
     "data": {
      "text/html": [
       "<div>\n",
       "<style scoped>\n",
       "    .dataframe tbody tr th:only-of-type {\n",
       "        vertical-align: middle;\n",
       "    }\n",
       "\n",
       "    .dataframe tbody tr th {\n",
       "        vertical-align: top;\n",
       "    }\n",
       "\n",
       "    .dataframe thead th {\n",
       "        text-align: right;\n",
       "    }\n",
       "</style>\n",
       "<table border=\"1\" class=\"dataframe\">\n",
       "  <thead>\n",
       "    <tr style=\"text-align: right;\">\n",
       "      <th></th>\n",
       "      <th>work_year</th>\n",
       "      <th>experience_level</th>\n",
       "      <th>employment_type</th>\n",
       "      <th>job_title</th>\n",
       "      <th>salary_in_usd</th>\n",
       "      <th>employee_residence</th>\n",
       "      <th>remote_ratio</th>\n",
       "      <th>company_location</th>\n",
       "      <th>company_size</th>\n",
       "    </tr>\n",
       "  </thead>\n",
       "  <tbody>\n",
       "    <tr>\n",
       "      <th>0</th>\n",
       "      <td>1</td>\n",
       "      <td>SE</td>\n",
       "      <td>FT</td>\n",
       "      <td>Data Engineer</td>\n",
       "      <td>140250</td>\n",
       "      <td>US</td>\n",
       "      <td>100</td>\n",
       "      <td>US</td>\n",
       "      <td>M</td>\n",
       "    </tr>\n",
       "    <tr>\n",
       "      <th>1</th>\n",
       "      <td>1</td>\n",
       "      <td>SE</td>\n",
       "      <td>FT</td>\n",
       "      <td>Data Engineer</td>\n",
       "      <td>135000</td>\n",
       "      <td>US</td>\n",
       "      <td>100</td>\n",
       "      <td>US</td>\n",
       "      <td>M</td>\n",
       "    </tr>\n",
       "    <tr>\n",
       "      <th>2</th>\n",
       "      <td>2</td>\n",
       "      <td>MI</td>\n",
       "      <td>FT</td>\n",
       "      <td>BI Data Analyst</td>\n",
       "      <td>100000</td>\n",
       "      <td>US</td>\n",
       "      <td>100</td>\n",
       "      <td>US</td>\n",
       "      <td>M</td>\n",
       "    </tr>\n",
       "    <tr>\n",
       "      <th>3</th>\n",
       "      <td>2</td>\n",
       "      <td>MI</td>\n",
       "      <td>CT</td>\n",
       "      <td>ML Engineer</td>\n",
       "      <td>270000</td>\n",
       "      <td>US</td>\n",
       "      <td>100</td>\n",
       "      <td>US</td>\n",
       "      <td>L</td>\n",
       "    </tr>\n",
       "    <tr>\n",
       "      <th>4</th>\n",
       "      <td>2</td>\n",
       "      <td>MI</td>\n",
       "      <td>FT</td>\n",
       "      <td>Data Engineer</td>\n",
       "      <td>26005</td>\n",
       "      <td>RO</td>\n",
       "      <td>0</td>\n",
       "      <td>US</td>\n",
       "      <td>L</td>\n",
       "    </tr>\n",
       "  </tbody>\n",
       "</table>\n",
       "</div>"
      ],
      "text/plain": [
       "   work_year experience_level employment_type        job_title  salary_in_usd  \\\n",
       "0          1               SE              FT    Data Engineer         140250   \n",
       "1          1               SE              FT    Data Engineer         135000   \n",
       "2          2               MI              FT  BI Data Analyst         100000   \n",
       "3          2               MI              CT      ML Engineer         270000   \n",
       "4          2               MI              FT    Data Engineer          26005   \n",
       "\n",
       "  employee_residence  remote_ratio company_location company_size  \n",
       "0                 US           100               US            M  \n",
       "1                 US           100               US            M  \n",
       "2                 US           100               US            M  \n",
       "3                 US           100               US            L  \n",
       "4                 RO             0               US            L  "
      ]
     },
     "execution_count": 7,
     "metadata": {},
     "output_type": "execute_result"
    }
   ],
   "source": [
    "df.head()"
   ]
  },
  {
   "cell_type": "code",
   "execution_count": 8,
   "metadata": {},
   "outputs": [
    {
     "data": {
      "text/plain": [
       "array(['SE', 'MI', 'EN', 'EX'], dtype=object)"
      ]
     },
     "execution_count": 8,
     "metadata": {},
     "output_type": "execute_result"
    }
   ],
   "source": [
    "df.experience_level.unique()"
   ]
  },
  {
   "cell_type": "code",
   "execution_count": 9,
   "metadata": {},
   "outputs": [],
   "source": [
    "#la columna experience_level la voy a cambiar por 1, 2, 3 o 4 dependiendo de si es junior, senior o experto, que corresponde a SE MI, EN y EX\n",
    "#df['experience_level'] = df['experience_level'].apply(lambda x: 1 if x == 'SE' else 2 if x == 'MI' else 3 if x == 'EN' else 4)\n"
   ]
  },
  {
   "cell_type": "code",
   "execution_count": 10,
   "metadata": {},
   "outputs": [
    {
     "data": {
      "text/plain": [
       "array(['FT', 'CT', 'FL', 'PT'], dtype=object)"
      ]
     },
     "execution_count": 10,
     "metadata": {},
     "output_type": "execute_result"
    }
   ],
   "source": [
    "df.employment_type.unique()"
   ]
  },
  {
   "cell_type": "code",
   "execution_count": 11,
   "metadata": {},
   "outputs": [
    {
     "data": {
      "text/plain": [
       "array(['Data Engineer', 'BI Data Analyst', 'ML Engineer',\n",
       "       'Machine Learning Scientist', 'Data Scientist', 'Data Analyst',\n",
       "       'Machine Learning Engineer', 'Principal Data Scientist',\n",
       "       'Data Engineering Manager', 'Data Analytics Manager',\n",
       "       'Big Data Engineer', 'Research Scientist',\n",
       "       'Machine Learning Developer', 'Computer Vision Engineer',\n",
       "       'AI Scientist', 'Machine Learning Manager', 'Lead Data Scientist',\n",
       "       'Director of Data Science', '3D Computer Vision Researcher',\n",
       "       'Data Specialist', 'Applied Data Scientist',\n",
       "       'Data Science Engineer', 'Head of Data', 'Analytics Engineer',\n",
       "       'ETL Developer', 'Marketing Data Analyst', 'Data Architect',\n",
       "       'Data Science Consultant', 'Principal Data Analyst',\n",
       "       'Head of Data Science', 'Lead Data Engineer',\n",
       "       'Data Science Manager', 'Applied Machine Learning Scientist',\n",
       "       'Lead Data Analyst', 'Cloud Data Engineer',\n",
       "       'Lead Machine Learning Engineer',\n",
       "       'Machine Learning Infrastructure Engineer', 'Big Data Architect',\n",
       "       'Product Data Analyst', 'Business Data Analyst',\n",
       "       'Director of Data Engineering', 'Data Analytics Lead',\n",
       "       'Financial Data Analyst', 'Finance Data Analyst',\n",
       "       'Head of Machine Learning', 'Staff Data Scientist',\n",
       "       'Data Analytics Engineer', 'Computer Vision Software Engineer'],\n",
       "      dtype=object)"
      ]
     },
     "execution_count": 11,
     "metadata": {},
     "output_type": "execute_result"
    }
   ],
   "source": [
    "df.job_title.unique()"
   ]
  },
  {
   "cell_type": "code",
   "execution_count": 12,
   "metadata": {},
   "outputs": [],
   "source": [
    "#con esta columna vamos a crear una función que haga lo siguiente: \n",
    "#si tiene la palabra \"ml\" o \"machine learning\", que sea \"ml\"\n",
    "#si tiene la palabra \"anayst\" que sea \"analyst\"\n",
    "#si tiene la palabra engineer que sea \"engineer\"\n",
    "#si tiene la palabra scientist que sea \"scientist\"\n",
    "#y si no tienen ninguno de estos, que sea \"other\"\n",
    "def job_title(x):\n",
    "    if 'ml' in x.lower() or 'machine learning' in x.lower():\n",
    "        return 'ml'\n",
    "    elif 'analyst' in x.lower():\n",
    "        return 'analyst'\n",
    "    elif 'engineer' in x.lower():\n",
    "        return 'engineer'\n",
    "    elif 'scientist' in x.lower():\n",
    "        return 'scientist'\n",
    "    else:\n",
    "        return 'other'\n",
    "#aplicamos la función en la columna job_title con un lambda\n",
    "df['job_title'] = df['job_title'].apply(lambda x: job_title(x))\n"
   ]
  },
  {
   "cell_type": "code",
   "execution_count": 13,
   "metadata": {},
   "outputs": [
    {
     "data": {
      "text/plain": [
       "array(['engineer', 'analyst', 'ml', 'scientist', 'other'], dtype=object)"
      ]
     },
     "execution_count": 13,
     "metadata": {},
     "output_type": "execute_result"
    }
   ],
   "source": [
    "df.job_title.unique()"
   ]
  },
  {
   "cell_type": "code",
   "execution_count": 14,
   "metadata": {},
   "outputs": [
    {
     "data": {
      "text/plain": [
       "array(['US', 'RO', 'FR', 'GR', 'SI', 'DE', 'IN', 'GB', 'PK', 'MD', 'JP',\n",
       "       'CA', 'PT', 'IE', 'AE', 'IT', 'MX', 'VN', 'BE', 'KE', 'ES', 'CH',\n",
       "       'CL', 'JE', 'TR', 'NZ', 'UA', 'AU', 'NG', 'BG', 'HK', 'EE', 'CZ',\n",
       "       'RU', 'PR', 'AT', 'BR', 'DZ', 'IR', 'NL', 'RS', 'HU', 'PL', 'HN',\n",
       "       'MY', 'BO', 'MT', 'LU', 'SG'], dtype=object)"
      ]
     },
     "execution_count": 14,
     "metadata": {},
     "output_type": "execute_result"
    }
   ],
   "source": [
    "df.employee_residence.unique()"
   ]
  },
  {
   "cell_type": "code",
   "execution_count": 15,
   "metadata": {},
   "outputs": [
    {
     "data": {
      "text/plain": [
       "array(['US', 'FR', 'GR', 'LU', 'SI', 'DE', 'IN', 'GB', 'PK', 'MD', 'JP',\n",
       "       'CA', 'AS', 'IE', 'AE', 'MX', 'VN', 'BE', 'KE', 'ES', 'CH', 'CL',\n",
       "       'CN', 'DK', 'TR', 'NZ', 'PL', 'UA', 'AU', 'NG', 'EE', 'CZ', 'AT',\n",
       "       'BR', 'DZ', 'IR', 'NL', 'HU', 'PT', 'HN', 'MT', 'RO', 'SG'],\n",
       "      dtype=object)"
      ]
     },
     "execution_count": 15,
     "metadata": {},
     "output_type": "execute_result"
    }
   ],
   "source": [
    "df.company_location.unique()"
   ]
  },
  {
   "cell_type": "code",
   "execution_count": 16,
   "metadata": {},
   "outputs": [],
   "source": [
    "#considero que la columna de employee_residence no es determinante porque lo determinante es que sea en remoto o no. La voy a eliminar\n",
    "df.drop(['employee_residence'], axis=1, inplace=True)"
   ]
  },
  {
   "cell_type": "code",
   "execution_count": 17,
   "metadata": {},
   "outputs": [
    {
     "data": {
      "text/html": [
       "<div>\n",
       "<style scoped>\n",
       "    .dataframe tbody tr th:only-of-type {\n",
       "        vertical-align: middle;\n",
       "    }\n",
       "\n",
       "    .dataframe tbody tr th {\n",
       "        vertical-align: top;\n",
       "    }\n",
       "\n",
       "    .dataframe thead th {\n",
       "        text-align: right;\n",
       "    }\n",
       "</style>\n",
       "<table border=\"1\" class=\"dataframe\">\n",
       "  <thead>\n",
       "    <tr style=\"text-align: right;\">\n",
       "      <th></th>\n",
       "      <th>work_year</th>\n",
       "      <th>experience_level</th>\n",
       "      <th>employment_type</th>\n",
       "      <th>job_title</th>\n",
       "      <th>salary_in_usd</th>\n",
       "      <th>remote_ratio</th>\n",
       "      <th>company_location</th>\n",
       "      <th>company_size</th>\n",
       "    </tr>\n",
       "  </thead>\n",
       "  <tbody>\n",
       "    <tr>\n",
       "      <th>0</th>\n",
       "      <td>1</td>\n",
       "      <td>SE</td>\n",
       "      <td>FT</td>\n",
       "      <td>engineer</td>\n",
       "      <td>140250</td>\n",
       "      <td>100</td>\n",
       "      <td>US</td>\n",
       "      <td>M</td>\n",
       "    </tr>\n",
       "    <tr>\n",
       "      <th>1</th>\n",
       "      <td>1</td>\n",
       "      <td>SE</td>\n",
       "      <td>FT</td>\n",
       "      <td>engineer</td>\n",
       "      <td>135000</td>\n",
       "      <td>100</td>\n",
       "      <td>US</td>\n",
       "      <td>M</td>\n",
       "    </tr>\n",
       "    <tr>\n",
       "      <th>2</th>\n",
       "      <td>2</td>\n",
       "      <td>MI</td>\n",
       "      <td>FT</td>\n",
       "      <td>analyst</td>\n",
       "      <td>100000</td>\n",
       "      <td>100</td>\n",
       "      <td>US</td>\n",
       "      <td>M</td>\n",
       "    </tr>\n",
       "    <tr>\n",
       "      <th>3</th>\n",
       "      <td>2</td>\n",
       "      <td>MI</td>\n",
       "      <td>CT</td>\n",
       "      <td>ml</td>\n",
       "      <td>270000</td>\n",
       "      <td>100</td>\n",
       "      <td>US</td>\n",
       "      <td>L</td>\n",
       "    </tr>\n",
       "    <tr>\n",
       "      <th>4</th>\n",
       "      <td>2</td>\n",
       "      <td>MI</td>\n",
       "      <td>FT</td>\n",
       "      <td>engineer</td>\n",
       "      <td>26005</td>\n",
       "      <td>0</td>\n",
       "      <td>US</td>\n",
       "      <td>L</td>\n",
       "    </tr>\n",
       "  </tbody>\n",
       "</table>\n",
       "</div>"
      ],
      "text/plain": [
       "   work_year experience_level employment_type job_title  salary_in_usd  \\\n",
       "0          1               SE              FT  engineer         140250   \n",
       "1          1               SE              FT  engineer         135000   \n",
       "2          2               MI              FT   analyst         100000   \n",
       "3          2               MI              CT        ml         270000   \n",
       "4          2               MI              FT  engineer          26005   \n",
       "\n",
       "   remote_ratio company_location company_size  \n",
       "0           100               US            M  \n",
       "1           100               US            M  \n",
       "2           100               US            M  \n",
       "3           100               US            L  \n",
       "4             0               US            L  "
      ]
     },
     "execution_count": 17,
     "metadata": {},
     "output_type": "execute_result"
    }
   ],
   "source": [
    "df.head()"
   ]
  },
  {
   "cell_type": "code",
   "execution_count": 18,
   "metadata": {},
   "outputs": [
    {
     "data": {
      "text/plain": [
       "array(['M', 'L', 'S'], dtype=object)"
      ]
     },
     "execution_count": 18,
     "metadata": {},
     "output_type": "execute_result"
    }
   ],
   "source": [
    "df.company_size.unique()"
   ]
  },
  {
   "cell_type": "code",
   "execution_count": 19,
   "metadata": {},
   "outputs": [
    {
     "data": {
      "text/plain": [
       "US    296\n",
       "GB     41\n",
       "CA     25\n",
       "DE     23\n",
       "IN     19\n",
       "FR     12\n",
       "ES     12\n",
       "GR     10\n",
       "JP      4\n",
       "NL      4\n",
       "PT      4\n",
       "LU      3\n",
       "AE      3\n",
       "AT      3\n",
       "PL      3\n",
       "PK      3\n",
       "TR      3\n",
       "CH      2\n",
       "AU      2\n",
       "BR      2\n",
       "NG      2\n",
       "SI      2\n",
       "BE      2\n",
       "MT      1\n",
       "IR      1\n",
       "DZ      1\n",
       "HU      1\n",
       "CZ      1\n",
       "HN      1\n",
       "RO      1\n",
       "CL      1\n",
       "EE      1\n",
       "UA      1\n",
       "NZ      1\n",
       "DK      1\n",
       "CN      1\n",
       "KE      1\n",
       "VN      1\n",
       "MX      1\n",
       "IE      1\n",
       "AS      1\n",
       "MD      1\n",
       "SG      1\n",
       "Name: company_location, dtype: int64"
      ]
     },
     "execution_count": 19,
     "metadata": {},
     "output_type": "execute_result"
    }
   ],
   "source": [
    "#voy a contar los valores dentro de company_location\n",
    "df.company_location.value_counts()"
   ]
  },
  {
   "cell_type": "code",
   "execution_count": 20,
   "metadata": {},
   "outputs": [
    {
     "data": {
      "text/plain": [
       "US    296\n",
       "GB     41\n",
       "CA     25\n",
       "DE     23\n",
       "IN     19\n",
       "FR     12\n",
       "ES     12\n",
       "GR     10\n",
       "Name: company_location, dtype: int64"
      ]
     },
     "execution_count": 20,
     "metadata": {},
     "output_type": "execute_result"
    }
   ],
   "source": [
    "#todos los valores que tengan un recuento menor que 10 en el value count, los voy a poner en \"other\"\n",
    "\n",
    "df.company_location.value_counts().head(8)"
   ]
  },
  {
   "cell_type": "code",
   "execution_count": 21,
   "metadata": {},
   "outputs": [],
   "source": [
    "#df.company_location = df.company_location.apply(lambda x: 'other' if x not in [\"US\",\"GB\",\"CA\",\"DE\",\"IN\",\"FR\",\"ES\", \"GR\"] else x)"
   ]
  },
  {
   "cell_type": "code",
   "execution_count": 22,
   "metadata": {},
   "outputs": [
    {
     "data": {
      "text/plain": [
       "US    296\n",
       "GB     41\n",
       "CA     25\n",
       "DE     23\n",
       "IN     19\n",
       "FR     12\n",
       "ES     12\n",
       "GR     10\n",
       "JP      4\n",
       "NL      4\n",
       "PT      4\n",
       "LU      3\n",
       "AE      3\n",
       "AT      3\n",
       "PL      3\n",
       "PK      3\n",
       "TR      3\n",
       "CH      2\n",
       "AU      2\n",
       "BR      2\n",
       "NG      2\n",
       "SI      2\n",
       "BE      2\n",
       "MT      1\n",
       "IR      1\n",
       "DZ      1\n",
       "HU      1\n",
       "CZ      1\n",
       "HN      1\n",
       "RO      1\n",
       "CL      1\n",
       "EE      1\n",
       "UA      1\n",
       "NZ      1\n",
       "DK      1\n",
       "CN      1\n",
       "KE      1\n",
       "VN      1\n",
       "MX      1\n",
       "IE      1\n",
       "AS      1\n",
       "MD      1\n",
       "SG      1\n",
       "Name: company_location, dtype: int64"
      ]
     },
     "execution_count": 22,
     "metadata": {},
     "output_type": "execute_result"
    }
   ],
   "source": [
    "df.company_location.value_counts()"
   ]
  },
  {
   "cell_type": "code",
   "execution_count": 23,
   "metadata": {},
   "outputs": [
    {
     "data": {
      "text/plain": [
       "Index(['work_year', 'experience_level', 'employment_type', 'job_title',\n",
       "       'salary_in_usd', 'remote_ratio', 'company_location', 'company_size'],\n",
       "      dtype='object')"
      ]
     },
     "execution_count": 23,
     "metadata": {},
     "output_type": "execute_result"
    }
   ],
   "source": [
    "df.columns"
   ]
  },
  {
   "cell_type": "code",
   "execution_count": 24,
   "metadata": {},
   "outputs": [],
   "source": [
    "\"\"\"from lazypredict.Supervised import LazyClassifier\n",
    "from sklearn.model_selection import train_test_split\n",
    "from lazypredict.Supervised import LazyRegressor\n",
    "from sklearn.utils import shuffle\n",
    "\n",
    "X = df['work_year', 'experience_level', 'employment_type', 'job_title',\n",
    "    'remote_ratio', 'company_location', 'company_size']\n",
    "y= df.salary_in_usd\n",
    "\n",
    "X_train, X_test, y_train, y_test = train_test_split(X, y,test_size=.5,random_state =123)\n",
    "\n",
    "clf = LazyClassifier(verbose=0,ignore_warnings=True, custom_metric=None)\n",
    "models,predictions = clf.fit(X_train, X_test, y_train, y_test)\n",
    "\n",
    "print(models)\"\"\"\n",
    "#ahora le voy a aplicar a todas las columnas menos a salary_in_usd un one hot encoding\n",
    "df = pd.get_dummies(df, columns=['work_year', 'experience_level', 'employment_type', 'job_title',\n",
    "    'remote_ratio', 'company_location', 'company_size'], drop_first=True)\n"
   ]
  },
  {
   "cell_type": "code",
   "execution_count": 25,
   "metadata": {},
   "outputs": [
    {
     "data": {
      "text/html": [
       "<div>\n",
       "<style scoped>\n",
       "    .dataframe tbody tr th:only-of-type {\n",
       "        vertical-align: middle;\n",
       "    }\n",
       "\n",
       "    .dataframe tbody tr th {\n",
       "        vertical-align: top;\n",
       "    }\n",
       "\n",
       "    .dataframe thead th {\n",
       "        text-align: right;\n",
       "    }\n",
       "</style>\n",
       "<table border=\"1\" class=\"dataframe\">\n",
       "  <thead>\n",
       "    <tr style=\"text-align: right;\">\n",
       "      <th></th>\n",
       "      <th>work_year</th>\n",
       "      <th>experience_level</th>\n",
       "      <th>employment_type</th>\n",
       "      <th>job_title</th>\n",
       "      <th>employee_residence</th>\n",
       "      <th>remote_ratio</th>\n",
       "      <th>company_location</th>\n",
       "      <th>company_size</th>\n",
       "    </tr>\n",
       "  </thead>\n",
       "  <tbody>\n",
       "    <tr>\n",
       "      <th>0</th>\n",
       "      <td>2020</td>\n",
       "      <td>SE</td>\n",
       "      <td>FT</td>\n",
       "      <td>Machine Learning Scientist</td>\n",
       "      <td>JP</td>\n",
       "      <td>0</td>\n",
       "      <td>JP</td>\n",
       "      <td>S</td>\n",
       "    </tr>\n",
       "    <tr>\n",
       "      <th>1</th>\n",
       "      <td>2020</td>\n",
       "      <td>MI</td>\n",
       "      <td>FT</td>\n",
       "      <td>Lead Data Analyst</td>\n",
       "      <td>US</td>\n",
       "      <td>100</td>\n",
       "      <td>US</td>\n",
       "      <td>L</td>\n",
       "    </tr>\n",
       "    <tr>\n",
       "      <th>2</th>\n",
       "      <td>2020</td>\n",
       "      <td>MI</td>\n",
       "      <td>FT</td>\n",
       "      <td>Data Analyst</td>\n",
       "      <td>US</td>\n",
       "      <td>100</td>\n",
       "      <td>US</td>\n",
       "      <td>L</td>\n",
       "    </tr>\n",
       "    <tr>\n",
       "      <th>3</th>\n",
       "      <td>2020</td>\n",
       "      <td>MI</td>\n",
       "      <td>FT</td>\n",
       "      <td>Machine Learning Engineer</td>\n",
       "      <td>CN</td>\n",
       "      <td>0</td>\n",
       "      <td>CN</td>\n",
       "      <td>M</td>\n",
       "    </tr>\n",
       "    <tr>\n",
       "      <th>4</th>\n",
       "      <td>2020</td>\n",
       "      <td>MI</td>\n",
       "      <td>FT</td>\n",
       "      <td>Product Data Analyst</td>\n",
       "      <td>IN</td>\n",
       "      <td>100</td>\n",
       "      <td>IN</td>\n",
       "      <td>L</td>\n",
       "    </tr>\n",
       "  </tbody>\n",
       "</table>\n",
       "</div>"
      ],
      "text/plain": [
       "   work_year experience_level employment_type                   job_title  \\\n",
       "0       2020               SE              FT  Machine Learning Scientist   \n",
       "1       2020               MI              FT           Lead Data Analyst   \n",
       "2       2020               MI              FT                Data Analyst   \n",
       "3       2020               MI              FT   Machine Learning Engineer   \n",
       "4       2020               MI              FT        Product Data Analyst   \n",
       "\n",
       "  employee_residence  remote_ratio company_location company_size  \n",
       "0                 JP             0               JP            S  \n",
       "1                 US           100               US            L  \n",
       "2                 US           100               US            L  \n",
       "3                 CN             0               CN            M  \n",
       "4                 IN           100               IN            L  "
      ]
     },
     "execution_count": 25,
     "metadata": {},
     "output_type": "execute_result"
    }
   ],
   "source": [
    "dftest =  pd.read_csv('../data/testeo.csv')\n",
    "dftest.head()"
   ]
  },
  {
   "cell_type": "code",
   "execution_count": 26,
   "metadata": {},
   "outputs": [
    {
     "data": {
      "text/html": [
       "<div>\n",
       "<style scoped>\n",
       "    .dataframe tbody tr th:only-of-type {\n",
       "        vertical-align: middle;\n",
       "    }\n",
       "\n",
       "    .dataframe tbody tr th {\n",
       "        vertical-align: top;\n",
       "    }\n",
       "\n",
       "    .dataframe thead th {\n",
       "        text-align: right;\n",
       "    }\n",
       "</style>\n",
       "<table border=\"1\" class=\"dataframe\">\n",
       "  <thead>\n",
       "    <tr style=\"text-align: right;\">\n",
       "      <th></th>\n",
       "      <th>work_year</th>\n",
       "      <th>experience_level</th>\n",
       "      <th>employment_type</th>\n",
       "      <th>job_title</th>\n",
       "      <th>remote_ratio</th>\n",
       "      <th>company_location</th>\n",
       "      <th>company_size</th>\n",
       "    </tr>\n",
       "  </thead>\n",
       "  <tbody>\n",
       "    <tr>\n",
       "      <th>0</th>\n",
       "      <td>3</td>\n",
       "      <td>SE</td>\n",
       "      <td>FT</td>\n",
       "      <td>ml</td>\n",
       "      <td>0</td>\n",
       "      <td>JP</td>\n",
       "      <td>S</td>\n",
       "    </tr>\n",
       "    <tr>\n",
       "      <th>1</th>\n",
       "      <td>3</td>\n",
       "      <td>MI</td>\n",
       "      <td>FT</td>\n",
       "      <td>analyst</td>\n",
       "      <td>100</td>\n",
       "      <td>US</td>\n",
       "      <td>L</td>\n",
       "    </tr>\n",
       "    <tr>\n",
       "      <th>2</th>\n",
       "      <td>3</td>\n",
       "      <td>MI</td>\n",
       "      <td>FT</td>\n",
       "      <td>analyst</td>\n",
       "      <td>100</td>\n",
       "      <td>US</td>\n",
       "      <td>L</td>\n",
       "    </tr>\n",
       "    <tr>\n",
       "      <th>3</th>\n",
       "      <td>3</td>\n",
       "      <td>MI</td>\n",
       "      <td>FT</td>\n",
       "      <td>ml</td>\n",
       "      <td>0</td>\n",
       "      <td>CN</td>\n",
       "      <td>M</td>\n",
       "    </tr>\n",
       "    <tr>\n",
       "      <th>4</th>\n",
       "      <td>3</td>\n",
       "      <td>MI</td>\n",
       "      <td>FT</td>\n",
       "      <td>analyst</td>\n",
       "      <td>100</td>\n",
       "      <td>IN</td>\n",
       "      <td>L</td>\n",
       "    </tr>\n",
       "  </tbody>\n",
       "</table>\n",
       "</div>"
      ],
      "text/plain": [
       "   work_year experience_level employment_type job_title  remote_ratio  \\\n",
       "0          3               SE              FT        ml             0   \n",
       "1          3               MI              FT   analyst           100   \n",
       "2          3               MI              FT   analyst           100   \n",
       "3          3               MI              FT        ml             0   \n",
       "4          3               MI              FT   analyst           100   \n",
       "\n",
       "  company_location company_size  \n",
       "0               JP            S  \n",
       "1               US            L  \n",
       "2               US            L  \n",
       "3               CN            M  \n",
       "4               IN            L  "
      ]
     },
     "execution_count": 26,
     "metadata": {},
     "output_type": "execute_result"
    }
   ],
   "source": [
    "#voy a hacer sobre df_test lo mismo que he hecho sobre df\n",
    "dftest['work_year'] = dftest['work_year'].apply(lambda x: 1 if x == 2022 else 2 if x == 2021 else 3)\n",
    "dftest['job_title'] = dftest['job_title'].apply(lambda x: job_title(x))\n",
    "dftest.drop(['employee_residence'], axis=1, inplace=True)\n",
    "#dftest.company_location = dftest.company_location.apply(lambda x: 'other' if x not in [\"US\",\"GB\",\"CA\",\"DE\",\"IN\",\"FR\",\"ES\", \"GR\"] else x)\n",
    "dftest.head()\n"
   ]
  },
  {
   "cell_type": "code",
   "execution_count": 27,
   "metadata": {},
   "outputs": [],
   "source": [
    "#le voy a aplicar a las columnas un one hot encoder\n",
    "dftest = pd.get_dummies(dftest, columns=['work_year', 'experience_level', 'employment_type', 'job_title', 'remote_ratio', 'company_location', 'company_size'], drop_first=True)"
   ]
  },
  {
   "cell_type": "code",
   "execution_count": 28,
   "metadata": {},
   "outputs": [
    {
     "name": "stderr",
     "output_type": "stream",
     "text": [
      "100%|██████████| 29/29 [00:23<00:00,  1.25it/s]"
     ]
    },
    {
     "name": "stdout",
     "output_type": "stream",
     "text": [
      "                             Accuracy  Balanced Accuracy ROC AUC  F1 Score  \\\n",
      "Model                                                                        \n",
      "BernoulliNB                      0.03               0.02    None      0.01   \n",
      "GaussianNB                       0.03               0.02    None      0.04   \n",
      "NearestCentroid                  0.03               0.02    None      0.04   \n",
      "LogisticRegression               0.02               0.02    None      0.02   \n",
      "SVC                              0.02               0.02    None      0.01   \n",
      "RandomForestClassifier           0.02               0.02    None      0.02   \n",
      "KNeighborsClassifier             0.02               0.02    None      0.02   \n",
      "AdaBoostClassifier               0.03               0.01    None      0.00   \n",
      "SGDClassifier                    0.01               0.01    None      0.01   \n",
      "RidgeClassifierCV                0.02               0.01    None      0.02   \n",
      "RidgeClassifier                  0.02               0.01    None      0.02   \n",
      "Perceptron                       0.01               0.01    None      0.01   \n",
      "PassiveAggressiveClassifier      0.01               0.01    None      0.01   \n",
      "LinearDiscriminantAnalysis       0.01               0.01    None      0.00   \n",
      "DummyClassifier                  0.03               0.01    None      0.00   \n",
      "CalibratedClassifierCV           0.03               0.01    None      0.01   \n",
      "LinearSVC                        0.01               0.01    None      0.01   \n",
      "BaggingClassifier                0.01               0.01    None      0.01   \n",
      "DecisionTreeClassifier           0.01               0.01    None      0.01   \n",
      "LabelSpreading                   0.00               0.00    None      0.00   \n",
      "LabelPropagation                 0.00               0.00    None      0.00   \n",
      "ExtraTreesClassifier             0.00               0.00    None      0.00   \n",
      "ExtraTreeClassifier              0.00               0.00    None      0.00   \n",
      "LGBMClassifier                   0.00               0.00    None      0.00   \n",
      "\n",
      "                             Time Taken  \n",
      "Model                                    \n",
      "BernoulliNB                        0.01  \n",
      "GaussianNB                         0.03  \n",
      "NearestCentroid                    0.02  \n",
      "LogisticRegression                 0.33  \n",
      "SVC                                0.21  \n",
      "RandomForestClassifier             0.25  \n",
      "KNeighborsClassifier               0.01  \n",
      "AdaBoostClassifier                 0.18  \n",
      "SGDClassifier                      0.25  \n",
      "RidgeClassifierCV                  0.02  \n",
      "RidgeClassifier                    0.01  \n",
      "Perceptron                         0.19  \n",
      "PassiveAggressiveClassifier        0.27  \n",
      "LinearDiscriminantAnalysis         0.02  \n",
      "DummyClassifier                    0.01  \n",
      "CalibratedClassifierCV            13.60  \n",
      "LinearSVC                          3.99  \n",
      "BaggingClassifier                  0.05  \n",
      "DecisionTreeClassifier             0.01  \n",
      "LabelSpreading                     0.05  \n",
      "LabelPropagation                   0.02  \n",
      "ExtraTreesClassifier               0.23  \n",
      "ExtraTreeClassifier                0.01  \n",
      "LGBMClassifier                     3.42  \n"
     ]
    },
    {
     "name": "stderr",
     "output_type": "stream",
     "text": [
      "\n"
     ]
    }
   ],
   "source": [
    "#ahora voy a aplicaar un modelo predictivo en df para ver si puedo predecir el salario en usd\n",
    "#voy a utilizar la libreria lazy predict\n",
    "from lazypredict.Supervised import LazyClassifier\n",
    "from sklearn.model_selection import train_test_split\n",
    "from lazypredict.Supervised import LazyRegressor\n",
    "from sklearn.utils import shuffle\n",
    "#primero, voy a crear las variables X e y\n",
    "X = df.drop(['salary_in_usd'], axis=1)\n",
    "y= df.salary_in_usd\n",
    "#ahora, voy a dividir el dataset en train y test\n",
    "X_train, X_test, y_train, y_test = train_test_split(X, y,test_size=.2,random_state =42)\n",
    "#ahora, voy a aplicar el modelo predictivo\n",
    "clf = LazyClassifier(verbose=0,ignore_warnings=True, custom_metric=None)\n",
    "models,predictions = clf.fit(X_train, X_test, y_train, y_test)\n",
    "#y ahora, voy a ver los resultados\n",
    "print(models)\n"
   ]
  },
  {
   "cell_type": "code",
   "execution_count": 29,
   "metadata": {},
   "outputs": [
    {
     "name": "stderr",
     "output_type": "stream",
     "text": [
      "100%|██████████| 42/42 [00:02<00:00, 16.16it/s]"
     ]
    },
    {
     "name": "stdout",
     "output_type": "stream",
     "text": [
      "                                         Adjusted R-Squared  \\\n",
      "Model                                                         \n",
      "LGBMRegressor                                         -0.40   \n",
      "HistGradientBoostingRegressor                         -0.40   \n",
      "GradientBoostingRegressor                             -0.41   \n",
      "ElasticNet                                            -0.43   \n",
      "BayesianRidge                                         -0.44   \n",
      "LassoLarsIC                                           -0.45   \n",
      "GammaRegressor                                        -0.46   \n",
      "RandomForestRegressor                                 -0.47   \n",
      "PassiveAggressiveRegressor                            -0.48   \n",
      "LarsCV                                                -0.49   \n",
      "LassoLarsCV                                           -0.49   \n",
      "LassoCV                                               -0.50   \n",
      "TweedieRegressor                                      -0.50   \n",
      "XGBRegressor                                          -0.51   \n",
      "RidgeCV                                               -0.53   \n",
      "HuberRegressor                                        -0.56   \n",
      "LassoLars                                             -0.56   \n",
      "Ridge                                                 -0.56   \n",
      "Lasso                                                 -0.57   \n",
      "Lars                                                  -0.57   \n",
      "SGDRegressor                                          -0.57   \n",
      "PoissonRegressor                                      -0.59   \n",
      "BaggingRegressor                                      -0.59   \n",
      "OrthogonalMatchingPursuit                             -0.60   \n",
      "OrthogonalMatchingPursuitCV                           -0.60   \n",
      "ExtraTreesRegressor                                   -0.89   \n",
      "ExtraTreeRegressor                                    -0.92   \n",
      "DecisionTreeRegressor                                 -0.95   \n",
      "KNeighborsRegressor                                   -1.10   \n",
      "AdaBoostRegressor                                     -1.15   \n",
      "ElasticNetCV                                          -1.32   \n",
      "NuSVR                                                 -1.42   \n",
      "DummyRegressor                                        -1.42   \n",
      "QuantileRegressor                                     -1.45   \n",
      "SVR                                                   -1.45   \n",
      "GaussianProcessRegressor                              -2.98   \n",
      "KernelRidge                                           -8.12   \n",
      "LinearSVR                                             -8.81   \n",
      "MLPRegressor                                          -8.84   \n",
      "RANSACRegressor                 -42269765551797793980416.00   \n",
      "TransformedTargetRegressor    -4280019329229518983397376.00   \n",
      "LinearRegression              -4280019329229518983397376.00   \n",
      "\n",
      "                                                  R-Squared  \\\n",
      "Model                                                         \n",
      "LGBMRegressor                                          0.42   \n",
      "HistGradientBoostingRegressor                          0.42   \n",
      "GradientBoostingRegressor                              0.42   \n",
      "ElasticNet                                             0.41   \n",
      "BayesianRidge                                          0.41   \n",
      "LassoLarsIC                                            0.40   \n",
      "GammaRegressor                                         0.40   \n",
      "RandomForestRegressor                                  0.39   \n",
      "PassiveAggressiveRegressor                             0.39   \n",
      "LarsCV                                                 0.38   \n",
      "LassoLarsCV                                            0.38   \n",
      "LassoCV                                                0.38   \n",
      "TweedieRegressor                                       0.38   \n",
      "XGBRegressor                                           0.37   \n",
      "RidgeCV                                                0.37   \n",
      "HuberRegressor                                         0.36   \n",
      "LassoLars                                              0.35   \n",
      "Ridge                                                  0.35   \n",
      "Lasso                                                  0.35   \n",
      "Lars                                                   0.35   \n",
      "SGDRegressor                                           0.35   \n",
      "PoissonRegressor                                       0.34   \n",
      "BaggingRegressor                                       0.34   \n",
      "OrthogonalMatchingPursuit                              0.34   \n",
      "OrthogonalMatchingPursuitCV                            0.34   \n",
      "ExtraTreesRegressor                                    0.22   \n",
      "ExtraTreeRegressor                                     0.20   \n",
      "DecisionTreeRegressor                                  0.19   \n",
      "KNeighborsRegressor                                    0.13   \n",
      "AdaBoostRegressor                                      0.11   \n",
      "ElasticNetCV                                           0.04   \n",
      "NuSVR                                                 -0.00   \n",
      "DummyRegressor                                        -0.00   \n",
      "QuantileRegressor                                     -0.02   \n",
      "SVR                                                   -0.02   \n",
      "GaussianProcessRegressor                              -0.65   \n",
      "KernelRidge                                           -2.78   \n",
      "LinearSVR                                             -3.06   \n",
      "MLPRegressor                                          -3.08   \n",
      "RANSACRegressor                 -17505660481047573299200.00   \n",
      "TransformedTargetRegressor    -1772533257559699837943808.00   \n",
      "LinearRegression              -1772533257559699837943808.00   \n",
      "\n",
      "                                              RMSE  Time Taken  \n",
      "Model                                                           \n",
      "LGBMRegressor                             47587.75        0.04  \n",
      "HistGradientBoostingRegressor             47587.75        0.18  \n",
      "GradientBoostingRegressor                 47778.38        0.05  \n",
      "ElasticNet                                48205.86        0.01  \n",
      "BayesianRidge                             48236.75        0.01  \n",
      "LassoLarsIC                               48446.27        0.02  \n",
      "GammaRegressor                            48576.49        0.01  \n",
      "RandomForestRegressor                     48860.70        0.16  \n",
      "PassiveAggressiveRegressor                48993.07        0.09  \n",
      "LarsCV                                    49054.92        0.06  \n",
      "LassoLarsCV                               49054.92        0.05  \n",
      "LassoCV                                   49232.14        0.07  \n",
      "TweedieRegressor                          49366.56        0.01  \n",
      "XGBRegressor                              49502.29        0.14  \n",
      "RidgeCV                                   49755.14        0.01  \n",
      "HuberRegressor                            50220.65        0.04  \n",
      "LassoLars                                 50303.88        0.02  \n",
      "Ridge                                     50358.81        0.01  \n",
      "Lasso                                     50390.28        0.02  \n",
      "Lars                                      50394.76        0.02  \n",
      "SGDRegressor                              50503.08        0.01  \n",
      "PoissonRegressor                          50699.21        0.02  \n",
      "BaggingRegressor                          50727.25        0.03  \n",
      "OrthogonalMatchingPursuit                 50840.94        0.01  \n",
      "OrthogonalMatchingPursuitCV               50840.94        0.02  \n",
      "ExtraTreesRegressor                       55307.10        0.15  \n",
      "ExtraTreeRegressor                        55818.55        0.01  \n",
      "DecisionTreeRegressor                     56220.40        0.01  \n",
      "KNeighborsRegressor                       58341.40        0.02  \n",
      "AdaBoostRegressor                         59090.01        0.03  \n",
      "ElasticNetCV                              61261.34        0.06  \n",
      "NuSVR                                     62590.63        0.03  \n",
      "DummyRegressor                            62674.87        0.01  \n",
      "QuantileRegressor                         63041.01        0.74  \n",
      "SVR                                       63057.63        0.02  \n",
      "GaussianProcessRegressor                  80292.89        0.03  \n",
      "KernelRidge                              121568.46        0.01  \n",
      "LinearSVR                                126076.52        0.01  \n",
      "MLPRegressor                             126297.18        0.25  \n",
      "RANSACRegressor                8276255465230478.00        0.08  \n",
      "TransformedTargetRegressor    83280214164118016.00        0.01  \n",
      "LinearRegression              83280214164118016.00        0.01  \n"
     ]
    },
    {
     "name": "stderr",
     "output_type": "stream",
     "text": [
      "\n"
     ]
    }
   ],
   "source": [
    "#vamos a usar el lazyregressor para ver si podemos predecir el salario en usd\n",
    "#primero, voy a crear las variables X e y\n",
    "X = df.drop(['salary_in_usd'], axis=1)\n",
    "y= df.salary_in_usd\n",
    "#ahora, voy a dividir el dataset en train y test\n",
    "X_train, X_test, y_train, y_test = train_test_split(X, y,test_size=.2,random_state =42)\n",
    "#ahora, voy a aplicar el modelo predictivo que devuelva siempre numeros positivos\n",
    "reg = LazyRegressor(verbose=0,ignore_warnings=True, custom_metric=None)\n",
    "models,predictions = reg.fit(X_train, X_test, y_train, y_test)\n",
    "#y ahora, voy a ver los resultados\n",
    "print(models)\n",
    "\n"
   ]
  },
  {
   "cell_type": "code",
   "execution_count": 30,
   "metadata": {},
   "outputs": [
    {
     "data": {
      "text/plain": [
       "LGBMRegressor()"
      ]
     },
     "execution_count": 30,
     "metadata": {},
     "output_type": "execute_result"
    }
   ],
   "source": [
    "#voy a importar LGBMRegressor  \n",
    "from lightgbm import LGBMRegressor\n",
    "X = df.drop(['salary_in_usd'], axis=1)\n",
    "y= df.salary_in_usd\n",
    "#ahora, no voy a diviir el dataset en train y test, voy a entrenar el modelo con todo el dataset\n",
    "#ahora, voy a aplicar el modelo predictivo\n",
    "model2 = LGBMRegressor()\n",
    "model2.fit(X, y)"
   ]
  },
  {
   "cell_type": "code",
   "execution_count": null,
   "metadata": {},
   "outputs": [],
   "source": []
  },
  {
   "cell_type": "code",
   "execution_count": 31,
   "metadata": {},
   "outputs": [
    {
     "data": {
      "text/plain": [
       "PassiveAggressiveRegressor()"
      ]
     },
     "execution_count": 31,
     "metadata": {},
     "output_type": "execute_result"
    }
   ],
   "source": [
    "#una vez decidido que PassiveAggressiveRegressor es el modelo que mejor predice, voy a entrenarlo con todo el dataset\n",
    "#voy a importar passiveaggressiveregressor\n",
    "from sklearn.linear_model import PassiveAggressiveRegressor\n",
    "#primero, voy a crear las variables X e y\n",
    "X = df.drop(['salary_in_usd'], axis=1)\n",
    "y= df.salary_in_usd\n",
    "#ahora, no voy a diviir el dataset en train y test, voy a entrenar el modelo con todo el dataset\n",
    "#ahora, voy a aplicar el modelo predictivo\n",
    "model = PassiveAggressiveRegressor()\n",
    "model.fit(X, y)\n",
    "\n",
    "\n"
   ]
  },
  {
   "cell_type": "code",
   "execution_count": 32,
   "metadata": {},
   "outputs": [],
   "source": [
    "#ahora vamos a aplicar el modelo a df_test\n",
    "#model.predict(dftest)\n"
   ]
  },
  {
   "cell_type": "code",
   "execution_count": 33,
   "metadata": {},
   "outputs": [
    {
     "data": {
      "text/plain": [
       "Index(['salary_in_usd', 'work_year_2', 'work_year_3', 'experience_level_EX',\n",
       "       'experience_level_MI', 'experience_level_SE', 'employment_type_FL',\n",
       "       'employment_type_FT', 'employment_type_PT', 'job_title_engineer',\n",
       "       'job_title_ml', 'job_title_other', 'job_title_scientist',\n",
       "       'remote_ratio_50', 'remote_ratio_100', 'company_location_AS',\n",
       "       'company_location_AT', 'company_location_AU', 'company_location_BE',\n",
       "       'company_location_BR', 'company_location_CA', 'company_location_CH',\n",
       "       'company_location_CL', 'company_location_CN', 'company_location_CZ',\n",
       "       'company_location_DE', 'company_location_DK', 'company_location_DZ',\n",
       "       'company_location_EE', 'company_location_ES', 'company_location_FR',\n",
       "       'company_location_GB', 'company_location_GR', 'company_location_HN',\n",
       "       'company_location_HU', 'company_location_IE', 'company_location_IN',\n",
       "       'company_location_IR', 'company_location_JP', 'company_location_KE',\n",
       "       'company_location_LU', 'company_location_MD', 'company_location_MT',\n",
       "       'company_location_MX', 'company_location_NG', 'company_location_NL',\n",
       "       'company_location_NZ', 'company_location_PK', 'company_location_PL',\n",
       "       'company_location_PT', 'company_location_RO', 'company_location_SG',\n",
       "       'company_location_SI', 'company_location_TR', 'company_location_UA',\n",
       "       'company_location_US', 'company_location_VN', 'company_size_M',\n",
       "       'company_size_S'],\n",
       "      dtype='object')"
      ]
     },
     "execution_count": 33,
     "metadata": {},
     "output_type": "execute_result"
    }
   ],
   "source": [
    "#X has 23 features, but PassiveAggressiveRegressor is expecting 24 features as input.\n",
    "#voy a ver las columnas de df y dftest\n",
    "df.columns\n"
   ]
  },
  {
   "cell_type": "code",
   "execution_count": 34,
   "metadata": {},
   "outputs": [
    {
     "data": {
      "text/plain": [
       "Index(['work_year_2', 'work_year_3', 'experience_level_EX',\n",
       "       'experience_level_MI', 'experience_level_SE', 'employment_type_FT',\n",
       "       'employment_type_PT', 'job_title_engineer', 'job_title_ml',\n",
       "       'job_title_other', 'job_title_scientist', 'remote_ratio_50',\n",
       "       'remote_ratio_100', 'company_location_AU', 'company_location_BR',\n",
       "       'company_location_CA', 'company_location_CN', 'company_location_CO',\n",
       "       'company_location_CZ', 'company_location_DE', 'company_location_DK',\n",
       "       'company_location_ES', 'company_location_FR', 'company_location_GB',\n",
       "       'company_location_GR', 'company_location_HR', 'company_location_IL',\n",
       "       'company_location_IN', 'company_location_IQ', 'company_location_IT',\n",
       "       'company_location_JP', 'company_location_MX', 'company_location_MY',\n",
       "       'company_location_PL', 'company_location_RU', 'company_location_US',\n",
       "       'company_size_M', 'company_size_S'],\n",
       "      dtype='object')"
      ]
     },
     "execution_count": 34,
     "metadata": {},
     "output_type": "execute_result"
    }
   ],
   "source": [
    "dftest.columns"
   ]
  },
  {
   "cell_type": "code",
   "execution_count": 35,
   "metadata": {},
   "outputs": [
    {
     "data": {
      "text/plain": [
       "Index(['company_location_AS', 'company_location_AT', 'company_location_BE',\n",
       "       'company_location_CH', 'company_location_CL', 'company_location_DZ',\n",
       "       'company_location_EE', 'company_location_HN', 'company_location_HU',\n",
       "       'company_location_IE', 'company_location_IR', 'company_location_KE',\n",
       "       'company_location_LU', 'company_location_MD', 'company_location_MT',\n",
       "       'company_location_NG', 'company_location_NL', 'company_location_NZ',\n",
       "       'company_location_PK', 'company_location_PT', 'company_location_RO',\n",
       "       'company_location_SG', 'company_location_SI', 'company_location_TR',\n",
       "       'company_location_UA', 'company_location_VN', 'employment_type_FL',\n",
       "       'salary_in_usd'],\n",
       "      dtype='object')"
      ]
     },
     "execution_count": 35,
     "metadata": {},
     "output_type": "execute_result"
    }
   ],
   "source": [
    "#voy a locallizar la columna que no está en dftest\n",
    "df.columns.difference(dftest.columns)"
   ]
  },
  {
   "cell_type": "code",
   "execution_count": 36,
   "metadata": {},
   "outputs": [],
   "source": [
    "#vamos a crear las columnas que faltan en dftest respecto a df\n",
    "def create_missing_columns(df, dftest):\n",
    "    missing_cols = set(df.columns) - set(dftest.columns)\n",
    "    for c in missing_cols:\n",
    "        dftest[c] = 0\n",
    "    dftest = dftest[df.columns]\n",
    "    return dftest\n",
    "\n",
    "dftest = create_missing_columns(df, dftest)\n",
    "#elimino la columna salary_in_usd\n",
    "dftest.drop(['salary_in_usd'], axis=1, inplace=True)"
   ]
  },
  {
   "cell_type": "code",
   "execution_count": 37,
   "metadata": {},
   "outputs": [
    {
     "data": {
      "text/plain": [
       "array([ 78361.16589666, 112552.0947416 , 112552.0947416 ,  58083.54642121,\n",
       "        46929.18276048,  74701.18646949, 150879.63583859,  59879.2789403 ,\n",
       "       111658.09984847, 148558.29907872,  57458.76817961, 151534.2157524 ,\n",
       "       116189.0992186 ,  30496.74531566,  85213.7861401 ,  58985.28404718,\n",
       "        93933.09783764, 114196.8420457 ,  59409.59844619, 101267.26166103,\n",
       "       105137.17322784,  60228.48074806,  70898.59403005, 134411.55339649,\n",
       "        32635.30961664,  47671.88953045,  91062.95868702, 134119.51416759,\n",
       "        59200.02256979,  88002.54657706,  72580.10216515, 110361.82255526,\n",
       "        68841.49296372,  53344.90902089,  54524.22566045,  59854.60248359,\n",
       "       135237.53282366,  41701.06619634,  59209.43782806, 140488.79765115,\n",
       "        20327.9270171 ,  44738.91057414, 104482.59331403, 142810.13441102,\n",
       "        99753.57893046, 130055.82255526,  99428.9775476 ,  58383.45840089,\n",
       "       110361.82255526,  51702.52178424, 113337.73922894,  64436.48940556,\n",
       "       109122.27865857, 115491.56214213,  97086.69316702,  61892.24941892,\n",
       "       144104.85450746, 121636.29392002, 132069.26901591, 141783.51774758,\n",
       "       132069.26901591, 139883.5987408 , 141783.51774758, 133092.89750415,\n",
       "       133918.87693132, 150316.57383669, 150316.57383669, 141783.51774758,\n",
       "       123378.64877247,  62718.22884609, 109122.27865857, 147860.76200225,\n",
       "        90234.35703702,  58741.35600979,  95623.85002113, 106800.94189869,\n",
       "        58673.75684616,  70582.86966236, 102965.92240825, 122223.38631061,\n",
       "        40154.40142934,  58267.23117555, 108674.11808849, 150836.67867593,\n",
       "       105777.31341046,  64213.58617879,  64213.58617879, 144104.85450746,\n",
       "       141783.51774758,  37235.60712268,  53305.39250493,  71747.23117555,\n",
       "        97509.28296083,  68814.21168511, 141783.51774758, 120055.12366623,\n",
       "        55563.29454057,  72193.31412648,  51467.1083915 , 133092.89750415,\n",
       "       141783.51774758, 132069.26901591, 132069.26901591, 150316.57383669,\n",
       "       144104.85450746,  47632.08890106, 123378.64877247])"
      ]
     },
     "execution_count": 37,
     "metadata": {},
     "output_type": "execute_result"
    }
   ],
   "source": [
    "model.predict(dftest)"
   ]
  },
  {
   "cell_type": "code",
   "execution_count": 38,
   "metadata": {},
   "outputs": [
    {
     "data": {
      "text/plain": [
       "array([ 81621.71765061, 113761.89365385, 113761.89365385,  42722.17776961,\n",
       "        27492.54048119,  79903.18941258, 261222.45981772,  43017.68061775,\n",
       "       107662.67024446, 176110.33773568,  55090.89312831, 205724.03317874,\n",
       "       119019.33994772,  55090.89312831,  88537.68181278,  61915.10035165,\n",
       "       107372.70757704, 141003.59195748,  47012.17056682,  94194.16257739,\n",
       "       116568.46783782,  69876.00791053,  72335.44346962, 125306.80241517,\n",
       "        32005.14318776,  48357.82934336,  49670.70077986, 146296.03471663,\n",
       "        38660.99154096, 140355.70608768, 131503.47569838, 103175.01865705,\n",
       "       143012.17747892,  54063.5271988 ,  43476.64890908,  48120.39239939,\n",
       "       178132.75740459,  16165.39119585,  70189.90301972, 169944.05996633,\n",
       "        37540.15377865,  22493.29871109, 164044.75724883, 192863.37577611,\n",
       "        72710.63162734, 211516.07842261,  99527.17020875,  54964.63272609,\n",
       "       103175.01865705,  52918.30462765, 114873.7507671 ,  57787.48979316,\n",
       "       125944.76906828, 143763.7513052 , 102811.89499496,  79059.12087138,\n",
       "       160211.17462347, 182596.55648586, 112615.94157435, 137035.35370212,\n",
       "       112615.94157435, 227521.70840187, 137035.35370212, 139348.95966213,\n",
       "       172620.27923888, 169795.39269866, 169795.39269866, 137035.35370212,\n",
       "       111091.20216043,  69315.39419252, 125944.76906828, 176039.07490141,\n",
       "        51068.57412465,  70501.56219153,  79648.44987002, 118103.03526863,\n",
       "        70501.56219153,  88595.46965646,  98846.4686797 , 109804.08748983,\n",
       "        41697.00717517,  60879.09279145,  99805.98157868, 147578.35248286,\n",
       "       117876.57979673,  74543.17835019,  74543.17835019, 160211.17462347,\n",
       "       137035.35370212,  16016.71206392,  38314.21397915,  60879.09279145,\n",
       "        72227.92182859,  42212.02417481, 137035.35370212, 146880.11260258,\n",
       "         8385.7643559 ,  71835.10308782,  66805.47175681, 139348.95966213,\n",
       "       137035.35370212, 112615.94157435, 112615.94157435, 169795.39269866,\n",
       "       160211.17462347,  57467.11669425, 111091.20216043])"
      ]
     },
     "execution_count": 38,
     "metadata": {},
     "output_type": "execute_result"
    }
   ],
   "source": [
    "model2.predict(dftest)"
   ]
  },
  {
   "cell_type": "code",
   "execution_count": null,
   "metadata": {},
   "outputs": [],
   "source": []
  },
  {
   "cell_type": "code",
   "execution_count": 39,
   "metadata": {},
   "outputs": [],
   "source": [
    "muestra = pd.read_csv('../data/muestra.csv')"
   ]
  },
  {
   "cell_type": "code",
   "execution_count": 40,
   "metadata": {},
   "outputs": [],
   "source": [
    "muestra2 = pd.read_csv('../data/muestra.csv')\n"
   ]
  },
  {
   "cell_type": "code",
   "execution_count": 41,
   "metadata": {},
   "outputs": [],
   "source": [
    "muestra[\"salary_in_usd\"] = model.predict(dftest)"
   ]
  },
  {
   "cell_type": "code",
   "execution_count": 42,
   "metadata": {},
   "outputs": [
    {
     "data": {
      "text/html": [
       "<div>\n",
       "<style scoped>\n",
       "    .dataframe tbody tr th:only-of-type {\n",
       "        vertical-align: middle;\n",
       "    }\n",
       "\n",
       "    .dataframe tbody tr th {\n",
       "        vertical-align: top;\n",
       "    }\n",
       "\n",
       "    .dataframe thead th {\n",
       "        text-align: right;\n",
       "    }\n",
       "</style>\n",
       "<table border=\"1\" class=\"dataframe\">\n",
       "  <thead>\n",
       "    <tr style=\"text-align: right;\">\n",
       "      <th></th>\n",
       "      <th>id</th>\n",
       "      <th>salary_in_usd</th>\n",
       "    </tr>\n",
       "  </thead>\n",
       "  <tbody>\n",
       "    <tr>\n",
       "      <th>0</th>\n",
       "      <td>0</td>\n",
       "      <td>78361.17</td>\n",
       "    </tr>\n",
       "    <tr>\n",
       "      <th>1</th>\n",
       "      <td>1</td>\n",
       "      <td>112552.09</td>\n",
       "    </tr>\n",
       "    <tr>\n",
       "      <th>2</th>\n",
       "      <td>2</td>\n",
       "      <td>112552.09</td>\n",
       "    </tr>\n",
       "    <tr>\n",
       "      <th>3</th>\n",
       "      <td>3</td>\n",
       "      <td>58083.55</td>\n",
       "    </tr>\n",
       "    <tr>\n",
       "      <th>4</th>\n",
       "      <td>4</td>\n",
       "      <td>46929.18</td>\n",
       "    </tr>\n",
       "  </tbody>\n",
       "</table>\n",
       "</div>"
      ],
      "text/plain": [
       "   id  salary_in_usd\n",
       "0   0       78361.17\n",
       "1   1      112552.09\n",
       "2   2      112552.09\n",
       "3   3       58083.55\n",
       "4   4       46929.18"
      ]
     },
     "execution_count": 42,
     "metadata": {},
     "output_type": "execute_result"
    }
   ],
   "source": [
    "muestra.head()"
   ]
  },
  {
   "cell_type": "code",
   "execution_count": 43,
   "metadata": {},
   "outputs": [],
   "source": [
    "#muestra.to_csv('../data/muestra2.csv', index=False)"
   ]
  },
  {
   "cell_type": "code",
   "execution_count": 44,
   "metadata": {},
   "outputs": [],
   "source": [
    "#ahora voy a convertir los numeros negativos de muestra a positivos multiplicandolos por -1 donde sea negativo\n",
    "\n"
   ]
  },
  {
   "cell_type": "code",
   "execution_count": 45,
   "metadata": {},
   "outputs": [],
   "source": [
    "#muestra.to_csv('../data/muestra3.csv', index=False)"
   ]
  },
  {
   "cell_type": "code",
   "execution_count": 46,
   "metadata": {},
   "outputs": [],
   "source": [
    "muestra.to_csv('../data/muestra4.csv', index=False)"
   ]
  },
  {
   "cell_type": "code",
   "execution_count": null,
   "metadata": {},
   "outputs": [],
   "source": []
  },
  {
   "cell_type": "code",
   "execution_count": 47,
   "metadata": {},
   "outputs": [],
   "source": [
    "muestra2[\"salary_in_usd\"] = model.predict(dftest)"
   ]
  },
  {
   "cell_type": "code",
   "execution_count": 48,
   "metadata": {},
   "outputs": [],
   "source": [
    "muestra2.to_csv('../data/muestra5.csv', index=False)"
   ]
  },
  {
   "cell_type": "code",
   "execution_count": 49,
   "metadata": {},
   "outputs": [
    {
     "name": "stdout",
     "output_type": "stream",
     "text": [
      "0.42123651897733916\n"
     ]
    }
   ],
   "source": [
    "#voy a importar LGBMRegressor  \n",
    "from lightgbm import LGBMRegressor\n",
    "X = df.drop(['salary_in_usd'], axis=1)\n",
    "y= df.salary_in_usd\n",
    "#ahora dividimos para hacer el train y el test\n",
    "X_train, X_test, y_train, y_test = train_test_split(X, y,test_size=.2,random_state =42)\n",
    "#ahora, voy a aplicar el modelo predictivo\n",
    "model3 = LGBMRegressor()\n",
    "model3.fit(X_train, y_train)\n",
    "#y ahora, voy a ver los resultados\n",
    "print(model3.score(X_test, y_test))"
   ]
  },
  {
   "cell_type": "code",
   "execution_count": 50,
   "metadata": {},
   "outputs": [
    {
     "name": "stderr",
     "output_type": "stream",
     "text": [
      "100%|██████████| 42/42 [00:02<00:00, 14.44it/s]"
     ]
    },
    {
     "name": "stdout",
     "output_type": "stream",
     "text": [
      "                                         Adjusted R-Squared  \\\n",
      "Model                                                         \n",
      "LGBMRegressor                                         -0.40   \n",
      "HistGradientBoostingRegressor                         -0.40   \n",
      "GradientBoostingRegressor                             -0.41   \n",
      "ElasticNet                                            -0.43   \n",
      "BayesianRidge                                         -0.44   \n",
      "LassoLarsIC                                           -0.45   \n",
      "GammaRegressor                                        -0.46   \n",
      "RandomForestRegressor                                 -0.47   \n",
      "PassiveAggressiveRegressor                            -0.48   \n",
      "LarsCV                                                -0.49   \n",
      "LassoLarsCV                                           -0.49   \n",
      "LassoCV                                               -0.50   \n",
      "TweedieRegressor                                      -0.50   \n",
      "XGBRegressor                                          -0.51   \n",
      "RidgeCV                                               -0.53   \n",
      "HuberRegressor                                        -0.56   \n",
      "LassoLars                                             -0.56   \n",
      "Ridge                                                 -0.56   \n",
      "Lasso                                                 -0.57   \n",
      "Lars                                                  -0.57   \n",
      "SGDRegressor                                          -0.57   \n",
      "PoissonRegressor                                      -0.59   \n",
      "BaggingRegressor                                      -0.59   \n",
      "OrthogonalMatchingPursuit                             -0.60   \n",
      "OrthogonalMatchingPursuitCV                           -0.60   \n",
      "ExtraTreesRegressor                                   -0.89   \n",
      "ExtraTreeRegressor                                    -0.92   \n",
      "DecisionTreeRegressor                                 -0.95   \n",
      "KNeighborsRegressor                                   -1.10   \n",
      "AdaBoostRegressor                                     -1.15   \n",
      "ElasticNetCV                                          -1.32   \n",
      "NuSVR                                                 -1.42   \n",
      "DummyRegressor                                        -1.42   \n",
      "QuantileRegressor                                     -1.45   \n",
      "SVR                                                   -1.45   \n",
      "GaussianProcessRegressor                              -2.98   \n",
      "KernelRidge                                           -8.12   \n",
      "LinearSVR                                             -8.81   \n",
      "MLPRegressor                                          -8.84   \n",
      "RANSACRegressor                 -42269765551797793980416.00   \n",
      "TransformedTargetRegressor    -4280019329229518983397376.00   \n",
      "LinearRegression              -4280019329229518983397376.00   \n",
      "\n",
      "                                                  R-Squared  \\\n",
      "Model                                                         \n",
      "LGBMRegressor                                          0.42   \n",
      "HistGradientBoostingRegressor                          0.42   \n",
      "GradientBoostingRegressor                              0.42   \n",
      "ElasticNet                                             0.41   \n",
      "BayesianRidge                                          0.41   \n",
      "LassoLarsIC                                            0.40   \n",
      "GammaRegressor                                         0.40   \n",
      "RandomForestRegressor                                  0.39   \n",
      "PassiveAggressiveRegressor                             0.39   \n",
      "LarsCV                                                 0.38   \n",
      "LassoLarsCV                                            0.38   \n",
      "LassoCV                                                0.38   \n",
      "TweedieRegressor                                       0.38   \n",
      "XGBRegressor                                           0.37   \n",
      "RidgeCV                                                0.37   \n",
      "HuberRegressor                                         0.36   \n",
      "LassoLars                                              0.35   \n",
      "Ridge                                                  0.35   \n",
      "Lasso                                                  0.35   \n",
      "Lars                                                   0.35   \n",
      "SGDRegressor                                           0.35   \n",
      "PoissonRegressor                                       0.34   \n",
      "BaggingRegressor                                       0.34   \n",
      "OrthogonalMatchingPursuit                              0.34   \n",
      "OrthogonalMatchingPursuitCV                            0.34   \n",
      "ExtraTreesRegressor                                    0.22   \n",
      "ExtraTreeRegressor                                     0.20   \n",
      "DecisionTreeRegressor                                  0.19   \n",
      "KNeighborsRegressor                                    0.13   \n",
      "AdaBoostRegressor                                      0.11   \n",
      "ElasticNetCV                                           0.04   \n",
      "NuSVR                                                 -0.00   \n",
      "DummyRegressor                                        -0.00   \n",
      "QuantileRegressor                                     -0.02   \n",
      "SVR                                                   -0.02   \n",
      "GaussianProcessRegressor                              -0.65   \n",
      "KernelRidge                                           -2.78   \n",
      "LinearSVR                                             -3.06   \n",
      "MLPRegressor                                          -3.08   \n",
      "RANSACRegressor                 -17505660481047573299200.00   \n",
      "TransformedTargetRegressor    -1772533257559699837943808.00   \n",
      "LinearRegression              -1772533257559699837943808.00   \n",
      "\n",
      "                                              RMSE  Time Taken  \n",
      "Model                                                           \n",
      "LGBMRegressor                             47587.75        0.08  \n",
      "HistGradientBoostingRegressor             47587.75        0.31  \n",
      "GradientBoostingRegressor                 47778.38        0.05  \n",
      "ElasticNet                                48205.86        0.01  \n",
      "BayesianRidge                             48236.75        0.04  \n",
      "LassoLarsIC                               48446.27        0.03  \n",
      "GammaRegressor                            48576.49        0.01  \n",
      "RandomForestRegressor                     48860.70        0.17  \n",
      "PassiveAggressiveRegressor                48993.07        0.09  \n",
      "LarsCV                                    49054.92        0.06  \n",
      "LassoLarsCV                               49054.92        0.05  \n",
      "LassoCV                                   49232.14        0.07  \n",
      "TweedieRegressor                          49366.56        0.01  \n",
      "XGBRegressor                              49502.29        0.15  \n",
      "RidgeCV                                   49755.14        0.01  \n",
      "HuberRegressor                            50220.65        0.03  \n",
      "LassoLars                                 50303.88        0.02  \n",
      "Ridge                                     50358.81        0.01  \n",
      "Lasso                                     50390.28        0.02  \n",
      "Lars                                      50394.76        0.02  \n",
      "SGDRegressor                              50503.08        0.01  \n",
      "PoissonRegressor                          50699.21        0.02  \n",
      "BaggingRegressor                          50727.25        0.05  \n",
      "OrthogonalMatchingPursuit                 50840.94        0.01  \n",
      "OrthogonalMatchingPursuitCV               50840.94        0.01  \n",
      "ExtraTreesRegressor                       55307.10        0.16  \n",
      "ExtraTreeRegressor                        55818.55        0.01  \n",
      "DecisionTreeRegressor                     56220.40        0.01  \n",
      "KNeighborsRegressor                       58341.40        0.01  \n",
      "AdaBoostRegressor                         59090.01        0.04  \n",
      "ElasticNetCV                              61261.34        0.06  \n",
      "NuSVR                                     62590.63        0.02  \n",
      "DummyRegressor                            62674.87        0.01  \n",
      "QuantileRegressor                         63041.01        0.78  \n",
      "SVR                                       63057.63        0.03  \n",
      "GaussianProcessRegressor                  80292.89        0.02  \n",
      "KernelRidge                              121568.46        0.02  \n",
      "LinearSVR                                126076.52        0.01  \n",
      "MLPRegressor                             126297.18        0.27  \n",
      "RANSACRegressor                8276255465230478.00        0.08  \n",
      "TransformedTargetRegressor    83280214164118016.00        0.01  \n",
      "LinearRegression              83280214164118016.00        0.01  \n"
     ]
    },
    {
     "name": "stderr",
     "output_type": "stream",
     "text": [
      "\n"
     ]
    }
   ],
   "source": [
    "#vamos a usar el lazyregressor para ver si podemos predecir el salario en usd\n",
    "#primero, voy a crear las variables X e y\n",
    "X = df.drop(['salary_in_usd'], axis=1)\n",
    "y= df.salary_in_usd\n",
    "#ahora, voy a dividir el dataset en train y test\n",
    "X_train, X_test, y_train, y_test = train_test_split(X, y,test_size=.2,random_state =42)\n",
    "#ahora, voy a aplicar el modelo predictivo que devuelva siempre numeros positivos\n",
    "reg = LazyRegressor(verbose=0,ignore_warnings=True, custom_metric=None)\n",
    "models,predictions = reg.fit(X_train, X_test, y_train, y_test)\n",
    "#y ahora, voy a ver los resultados\n",
    "print(models)"
   ]
  },
  {
   "cell_type": "code",
   "execution_count": null,
   "metadata": {},
   "outputs": [],
   "source": []
  }
 ],
 "metadata": {
  "kernelspec": {
   "display_name": "base",
   "language": "python",
   "name": "python3"
  },
  "language_info": {
   "codemirror_mode": {
    "name": "ipython",
    "version": 3
   },
   "file_extension": ".py",
   "mimetype": "text/x-python",
   "name": "python",
   "nbconvert_exporter": "python",
   "pygments_lexer": "ipython3",
   "version": "3.9.13"
  },
  "orig_nbformat": 4,
  "vscode": {
   "interpreter": {
    "hash": "a6d33b64cc62f2a6469a8726ef6950befbe59fb73bfa1f17dddc91d0226f47aa"
   }
  }
 },
 "nbformat": 4,
 "nbformat_minor": 2
}
