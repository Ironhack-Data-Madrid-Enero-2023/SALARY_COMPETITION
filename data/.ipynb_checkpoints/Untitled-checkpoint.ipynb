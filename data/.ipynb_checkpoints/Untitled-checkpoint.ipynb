{
 "cells": [
  {
   "cell_type": "code",
   "execution_count": 1,
   "id": "d6f478cf",
   "metadata": {},
   "outputs": [],
   "source": [
    "import pandas as pd\n"
   ]
  },
  {
   "cell_type": "code",
   "execution_count": 2,
   "id": "f28ee5a8",
   "metadata": {},
   "outputs": [],
   "source": [
    "training=pd.read_csv('salaries_data.csv')\n",
    "testing=pd.read_csv('testeo.csv')"
   ]
  },
  {
   "cell_type": "code",
   "execution_count": 3,
   "id": "b00d91fc",
   "metadata": {},
   "outputs": [
    {
     "data": {
      "text/html": [
       "<div>\n",
       "<style scoped>\n",
       "    .dataframe tbody tr th:only-of-type {\n",
       "        vertical-align: middle;\n",
       "    }\n",
       "\n",
       "    .dataframe tbody tr th {\n",
       "        vertical-align: top;\n",
       "    }\n",
       "\n",
       "    .dataframe thead th {\n",
       "        text-align: right;\n",
       "    }\n",
       "</style>\n",
       "<table border=\"1\" class=\"dataframe\">\n",
       "  <thead>\n",
       "    <tr style=\"text-align: right;\">\n",
       "      <th></th>\n",
       "      <th>work_year</th>\n",
       "      <th>experience_level</th>\n",
       "      <th>employment_type</th>\n",
       "      <th>job_title</th>\n",
       "      <th>salary</th>\n",
       "      <th>salary_currency</th>\n",
       "      <th>salary_in_usd</th>\n",
       "      <th>employee_residence</th>\n",
       "      <th>remote_ratio</th>\n",
       "      <th>company_location</th>\n",
       "      <th>company_size</th>\n",
       "    </tr>\n",
       "  </thead>\n",
       "  <tbody>\n",
       "    <tr>\n",
       "      <th>0</th>\n",
       "      <td>2022</td>\n",
       "      <td>SE</td>\n",
       "      <td>FT</td>\n",
       "      <td>Data Engineer</td>\n",
       "      <td>140250</td>\n",
       "      <td>USD</td>\n",
       "      <td>140250</td>\n",
       "      <td>US</td>\n",
       "      <td>100</td>\n",
       "      <td>US</td>\n",
       "      <td>M</td>\n",
       "    </tr>\n",
       "    <tr>\n",
       "      <th>1</th>\n",
       "      <td>2022</td>\n",
       "      <td>SE</td>\n",
       "      <td>FT</td>\n",
       "      <td>Data Engineer</td>\n",
       "      <td>135000</td>\n",
       "      <td>USD</td>\n",
       "      <td>135000</td>\n",
       "      <td>US</td>\n",
       "      <td>100</td>\n",
       "      <td>US</td>\n",
       "      <td>M</td>\n",
       "    </tr>\n",
       "    <tr>\n",
       "      <th>2</th>\n",
       "      <td>2021</td>\n",
       "      <td>MI</td>\n",
       "      <td>FT</td>\n",
       "      <td>BI Data Analyst</td>\n",
       "      <td>100000</td>\n",
       "      <td>USD</td>\n",
       "      <td>100000</td>\n",
       "      <td>US</td>\n",
       "      <td>100</td>\n",
       "      <td>US</td>\n",
       "      <td>M</td>\n",
       "    </tr>\n",
       "    <tr>\n",
       "      <th>3</th>\n",
       "      <td>2021</td>\n",
       "      <td>MI</td>\n",
       "      <td>CT</td>\n",
       "      <td>ML Engineer</td>\n",
       "      <td>270000</td>\n",
       "      <td>USD</td>\n",
       "      <td>270000</td>\n",
       "      <td>US</td>\n",
       "      <td>100</td>\n",
       "      <td>US</td>\n",
       "      <td>L</td>\n",
       "    </tr>\n",
       "    <tr>\n",
       "      <th>4</th>\n",
       "      <td>2021</td>\n",
       "      <td>MI</td>\n",
       "      <td>FT</td>\n",
       "      <td>Data Engineer</td>\n",
       "      <td>22000</td>\n",
       "      <td>EUR</td>\n",
       "      <td>26005</td>\n",
       "      <td>RO</td>\n",
       "      <td>0</td>\n",
       "      <td>US</td>\n",
       "      <td>L</td>\n",
       "    </tr>\n",
       "  </tbody>\n",
       "</table>\n",
       "</div>"
      ],
      "text/plain": [
       "   work_year experience_level employment_type        job_title  salary  \\\n",
       "0       2022               SE              FT    Data Engineer  140250   \n",
       "1       2022               SE              FT    Data Engineer  135000   \n",
       "2       2021               MI              FT  BI Data Analyst  100000   \n",
       "3       2021               MI              CT      ML Engineer  270000   \n",
       "4       2021               MI              FT    Data Engineer   22000   \n",
       "\n",
       "  salary_currency  salary_in_usd employee_residence  remote_ratio  \\\n",
       "0             USD         140250                 US           100   \n",
       "1             USD         135000                 US           100   \n",
       "2             USD         100000                 US           100   \n",
       "3             USD         270000                 US           100   \n",
       "4             EUR          26005                 RO             0   \n",
       "\n",
       "  company_location company_size  \n",
       "0               US            M  \n",
       "1               US            M  \n",
       "2               US            M  \n",
       "3               US            L  \n",
       "4               US            L  "
      ]
     },
     "execution_count": 3,
     "metadata": {},
     "output_type": "execute_result"
    }
   ],
   "source": [
    "training.head()"
   ]
  },
  {
   "cell_type": "code",
   "execution_count": 4,
   "id": "899339a9",
   "metadata": {},
   "outputs": [],
   "source": [
    "training = training.drop(['salary', 'salary_currency'], axis=1)"
   ]
  },
  {
   "cell_type": "code",
   "execution_count": 5,
   "id": "1393f8bd",
   "metadata": {},
   "outputs": [
    {
     "data": {
      "text/html": [
       "<div>\n",
       "<style scoped>\n",
       "    .dataframe tbody tr th:only-of-type {\n",
       "        vertical-align: middle;\n",
       "    }\n",
       "\n",
       "    .dataframe tbody tr th {\n",
       "        vertical-align: top;\n",
       "    }\n",
       "\n",
       "    .dataframe thead th {\n",
       "        text-align: right;\n",
       "    }\n",
       "</style>\n",
       "<table border=\"1\" class=\"dataframe\">\n",
       "  <thead>\n",
       "    <tr style=\"text-align: right;\">\n",
       "      <th></th>\n",
       "      <th>work_year</th>\n",
       "      <th>experience_level</th>\n",
       "      <th>employment_type</th>\n",
       "      <th>job_title</th>\n",
       "      <th>salary_in_usd</th>\n",
       "      <th>employee_residence</th>\n",
       "      <th>remote_ratio</th>\n",
       "      <th>company_location</th>\n",
       "      <th>company_size</th>\n",
       "    </tr>\n",
       "  </thead>\n",
       "  <tbody>\n",
       "    <tr>\n",
       "      <th>0</th>\n",
       "      <td>2022</td>\n",
       "      <td>SE</td>\n",
       "      <td>FT</td>\n",
       "      <td>Data Engineer</td>\n",
       "      <td>140250</td>\n",
       "      <td>US</td>\n",
       "      <td>100</td>\n",
       "      <td>US</td>\n",
       "      <td>M</td>\n",
       "    </tr>\n",
       "    <tr>\n",
       "      <th>1</th>\n",
       "      <td>2022</td>\n",
       "      <td>SE</td>\n",
       "      <td>FT</td>\n",
       "      <td>Data Engineer</td>\n",
       "      <td>135000</td>\n",
       "      <td>US</td>\n",
       "      <td>100</td>\n",
       "      <td>US</td>\n",
       "      <td>M</td>\n",
       "    </tr>\n",
       "    <tr>\n",
       "      <th>2</th>\n",
       "      <td>2021</td>\n",
       "      <td>MI</td>\n",
       "      <td>FT</td>\n",
       "      <td>BI Data Analyst</td>\n",
       "      <td>100000</td>\n",
       "      <td>US</td>\n",
       "      <td>100</td>\n",
       "      <td>US</td>\n",
       "      <td>M</td>\n",
       "    </tr>\n",
       "    <tr>\n",
       "      <th>3</th>\n",
       "      <td>2021</td>\n",
       "      <td>MI</td>\n",
       "      <td>CT</td>\n",
       "      <td>ML Engineer</td>\n",
       "      <td>270000</td>\n",
       "      <td>US</td>\n",
       "      <td>100</td>\n",
       "      <td>US</td>\n",
       "      <td>L</td>\n",
       "    </tr>\n",
       "    <tr>\n",
       "      <th>4</th>\n",
       "      <td>2021</td>\n",
       "      <td>MI</td>\n",
       "      <td>FT</td>\n",
       "      <td>Data Engineer</td>\n",
       "      <td>26005</td>\n",
       "      <td>RO</td>\n",
       "      <td>0</td>\n",
       "      <td>US</td>\n",
       "      <td>L</td>\n",
       "    </tr>\n",
       "    <tr>\n",
       "      <th>...</th>\n",
       "      <td>...</td>\n",
       "      <td>...</td>\n",
       "      <td>...</td>\n",
       "      <td>...</td>\n",
       "      <td>...</td>\n",
       "      <td>...</td>\n",
       "      <td>...</td>\n",
       "      <td>...</td>\n",
       "      <td>...</td>\n",
       "    </tr>\n",
       "    <tr>\n",
       "      <th>495</th>\n",
       "      <td>2022</td>\n",
       "      <td>SE</td>\n",
       "      <td>FT</td>\n",
       "      <td>Data Engineer</td>\n",
       "      <td>100000</td>\n",
       "      <td>US</td>\n",
       "      <td>100</td>\n",
       "      <td>US</td>\n",
       "      <td>M</td>\n",
       "    </tr>\n",
       "    <tr>\n",
       "      <th>496</th>\n",
       "      <td>2021</td>\n",
       "      <td>EN</td>\n",
       "      <td>FT</td>\n",
       "      <td>Big Data Engineer</td>\n",
       "      <td>5882</td>\n",
       "      <td>IN</td>\n",
       "      <td>0</td>\n",
       "      <td>CH</td>\n",
       "      <td>L</td>\n",
       "    </tr>\n",
       "    <tr>\n",
       "      <th>497</th>\n",
       "      <td>2022</td>\n",
       "      <td>SE</td>\n",
       "      <td>FT</td>\n",
       "      <td>Data Architect</td>\n",
       "      <td>90700</td>\n",
       "      <td>CA</td>\n",
       "      <td>100</td>\n",
       "      <td>CA</td>\n",
       "      <td>M</td>\n",
       "    </tr>\n",
       "    <tr>\n",
       "      <th>498</th>\n",
       "      <td>2021</td>\n",
       "      <td>MI</td>\n",
       "      <td>FT</td>\n",
       "      <td>Data Engineer</td>\n",
       "      <td>82528</td>\n",
       "      <td>GB</td>\n",
       "      <td>100</td>\n",
       "      <td>GB</td>\n",
       "      <td>L</td>\n",
       "    </tr>\n",
       "    <tr>\n",
       "      <th>499</th>\n",
       "      <td>2021</td>\n",
       "      <td>EN</td>\n",
       "      <td>FT</td>\n",
       "      <td>Computer Vision Software Engineer</td>\n",
       "      <td>70000</td>\n",
       "      <td>US</td>\n",
       "      <td>100</td>\n",
       "      <td>US</td>\n",
       "      <td>M</td>\n",
       "    </tr>\n",
       "  </tbody>\n",
       "</table>\n",
       "<p>500 rows × 9 columns</p>\n",
       "</div>"
      ],
      "text/plain": [
       "     work_year experience_level employment_type  \\\n",
       "0         2022               SE              FT   \n",
       "1         2022               SE              FT   \n",
       "2         2021               MI              FT   \n",
       "3         2021               MI              CT   \n",
       "4         2021               MI              FT   \n",
       "..         ...              ...             ...   \n",
       "495       2022               SE              FT   \n",
       "496       2021               EN              FT   \n",
       "497       2022               SE              FT   \n",
       "498       2021               MI              FT   \n",
       "499       2021               EN              FT   \n",
       "\n",
       "                             job_title  salary_in_usd employee_residence  \\\n",
       "0                        Data Engineer         140250                 US   \n",
       "1                        Data Engineer         135000                 US   \n",
       "2                      BI Data Analyst         100000                 US   \n",
       "3                          ML Engineer         270000                 US   \n",
       "4                        Data Engineer          26005                 RO   \n",
       "..                                 ...            ...                ...   \n",
       "495                      Data Engineer         100000                 US   \n",
       "496                  Big Data Engineer           5882                 IN   \n",
       "497                     Data Architect          90700                 CA   \n",
       "498                      Data Engineer          82528                 GB   \n",
       "499  Computer Vision Software Engineer          70000                 US   \n",
       "\n",
       "     remote_ratio company_location company_size  \n",
       "0             100               US            M  \n",
       "1             100               US            M  \n",
       "2             100               US            M  \n",
       "3             100               US            L  \n",
       "4               0               US            L  \n",
       "..            ...              ...          ...  \n",
       "495           100               US            M  \n",
       "496             0               CH            L  \n",
       "497           100               CA            M  \n",
       "498           100               GB            L  \n",
       "499           100               US            M  \n",
       "\n",
       "[500 rows x 9 columns]"
      ]
     },
     "execution_count": 5,
     "metadata": {},
     "output_type": "execute_result"
    }
   ],
   "source": [
    "training"
   ]
  },
  {
   "cell_type": "code",
   "execution_count": 6,
   "id": "6c56bf2a",
   "metadata": {},
   "outputs": [
    {
     "name": "stdout",
     "output_type": "stream",
     "text": [
      "<class 'pandas.core.frame.DataFrame'>\n",
      "RangeIndex: 500 entries, 0 to 499\n",
      "Data columns (total 9 columns):\n",
      " #   Column              Non-Null Count  Dtype \n",
      "---  ------              --------------  ----- \n",
      " 0   work_year           500 non-null    int64 \n",
      " 1   experience_level    500 non-null    object\n",
      " 2   employment_type     500 non-null    object\n",
      " 3   job_title           500 non-null    object\n",
      " 4   salary_in_usd       500 non-null    int64 \n",
      " 5   employee_residence  500 non-null    object\n",
      " 6   remote_ratio        500 non-null    int64 \n",
      " 7   company_location    500 non-null    object\n",
      " 8   company_size        500 non-null    object\n",
      "dtypes: int64(3), object(6)\n",
      "memory usage: 35.3+ KB\n"
     ]
    }
   ],
   "source": [
    "training.info()"
   ]
  },
  {
   "cell_type": "code",
   "execution_count": 7,
   "id": "1d0ae5d6",
   "metadata": {},
   "outputs": [
    {
     "data": {
      "text/plain": [
       "array(['SE', 'MI', 'EN', 'EX'], dtype=object)"
      ]
     },
     "execution_count": 7,
     "metadata": {},
     "output_type": "execute_result"
    }
   ],
   "source": [
    "training.experience_level.unique()"
   ]
  },
  {
   "cell_type": "code",
   "execution_count": 8,
   "id": "1441b33f",
   "metadata": {},
   "outputs": [
    {
     "data": {
      "text/plain": [
       "array([2022, 2021, 2020], dtype=int64)"
      ]
     },
     "execution_count": 8,
     "metadata": {},
     "output_type": "execute_result"
    }
   ],
   "source": [
    "training.work_year.unique()\n",
    "\n"
   ]
  },
  {
   "cell_type": "code",
   "execution_count": 9,
   "id": "595b8068",
   "metadata": {},
   "outputs": [
    {
     "data": {
      "text/plain": [
       "array(['Data Engineer', 'BI Data Analyst', 'ML Engineer',\n",
       "       'Machine Learning Scientist', 'Data Scientist', 'Data Analyst',\n",
       "       'Machine Learning Engineer', 'Principal Data Scientist',\n",
       "       'Data Engineering Manager', 'Data Analytics Manager',\n",
       "       'Big Data Engineer', 'Research Scientist',\n",
       "       'Machine Learning Developer', 'Computer Vision Engineer',\n",
       "       'AI Scientist', 'Machine Learning Manager', 'Lead Data Scientist',\n",
       "       'Director of Data Science', '3D Computer Vision Researcher',\n",
       "       'Data Specialist', 'Applied Data Scientist',\n",
       "       'Data Science Engineer', 'Head of Data', 'Analytics Engineer',\n",
       "       'ETL Developer', 'Marketing Data Analyst', 'Data Architect',\n",
       "       'Data Science Consultant', 'Principal Data Analyst',\n",
       "       'Head of Data Science', 'Lead Data Engineer',\n",
       "       'Data Science Manager', 'Applied Machine Learning Scientist',\n",
       "       'Lead Data Analyst', 'Cloud Data Engineer',\n",
       "       'Lead Machine Learning Engineer',\n",
       "       'Machine Learning Infrastructure Engineer', 'Big Data Architect',\n",
       "       'Product Data Analyst', 'Business Data Analyst',\n",
       "       'Director of Data Engineering', 'Data Analytics Lead',\n",
       "       'Financial Data Analyst', 'Finance Data Analyst',\n",
       "       'Head of Machine Learning', 'Staff Data Scientist',\n",
       "       'Data Analytics Engineer', 'Computer Vision Software Engineer'],\n",
       "      dtype=object)"
      ]
     },
     "execution_count": 9,
     "metadata": {},
     "output_type": "execute_result"
    }
   ],
   "source": [
    "training.job_title.unique()"
   ]
  },
  {
   "cell_type": "code",
   "execution_count": 10,
   "id": "82bbbbd4",
   "metadata": {},
   "outputs": [
    {
     "data": {
      "text/plain": [
       "array(['FT', 'CT', 'FL', 'PT'], dtype=object)"
      ]
     },
     "execution_count": 10,
     "metadata": {},
     "output_type": "execute_result"
    }
   ],
   "source": [
    "training.employment_type.unique()"
   ]
  },
  {
   "cell_type": "code",
   "execution_count": 11,
   "id": "9d574e37",
   "metadata": {},
   "outputs": [
    {
     "data": {
      "text/plain": [
       "array(['US', 'RO', 'FR', 'GR', 'SI', 'DE', 'IN', 'GB', 'PK', 'MD', 'JP',\n",
       "       'CA', 'PT', 'IE', 'AE', 'IT', 'MX', 'VN', 'BE', 'KE', 'ES', 'CH',\n",
       "       'CL', 'JE', 'TR', 'NZ', 'UA', 'AU', 'NG', 'BG', 'HK', 'EE', 'CZ',\n",
       "       'RU', 'PR', 'AT', 'BR', 'DZ', 'IR', 'NL', 'RS', 'HU', 'PL', 'HN',\n",
       "       'MY', 'BO', 'MT', 'LU', 'SG'], dtype=object)"
      ]
     },
     "execution_count": 11,
     "metadata": {},
     "output_type": "execute_result"
    }
   ],
   "source": [
    "training.employee_residence.unique()"
   ]
  },
  {
   "cell_type": "code",
   "execution_count": 12,
   "id": "edef0421",
   "metadata": {},
   "outputs": [
    {
     "data": {
      "text/plain": [
       "array(['US', 'FR', 'GR', 'LU', 'SI', 'DE', 'IN', 'GB', 'PK', 'MD', 'JP',\n",
       "       'CA', 'AS', 'IE', 'AE', 'MX', 'VN', 'BE', 'KE', 'ES', 'CH', 'CL',\n",
       "       'CN', 'DK', 'TR', 'NZ', 'PL', 'UA', 'AU', 'NG', 'EE', 'CZ', 'AT',\n",
       "       'BR', 'DZ', 'IR', 'NL', 'HU', 'PT', 'HN', 'MT', 'RO', 'SG'],\n",
       "      dtype=object)"
      ]
     },
     "execution_count": 12,
     "metadata": {},
     "output_type": "execute_result"
    }
   ],
   "source": [
    "training.company_location.unique()"
   ]
  },
  {
   "cell_type": "code",
   "execution_count": 13,
   "id": "e4f039e2",
   "metadata": {},
   "outputs": [
    {
     "data": {
      "text/plain": [
       "array(['M', 'L', 'S'], dtype=object)"
      ]
     },
     "execution_count": 13,
     "metadata": {},
     "output_type": "execute_result"
    }
   ],
   "source": [
    "training.company_size.unique()"
   ]
  },
  {
   "cell_type": "code",
   "execution_count": 14,
   "id": "a6c28e49",
   "metadata": {},
   "outputs": [
    {
     "data": {
      "text/plain": [
       "SE    243\n",
       "MI    172\n",
       "EN     65\n",
       "EX     20\n",
       "Name: experience_level, dtype: int64"
      ]
     },
     "execution_count": 14,
     "metadata": {},
     "output_type": "execute_result"
    }
   ],
   "source": [
    "training.experience_level.value_counts()"
   ]
  },
  {
   "cell_type": "code",
   "execution_count": 15,
   "id": "565e0f83",
   "metadata": {},
   "outputs": [
    {
     "data": {
      "text/plain": [
       "US    278\n",
       "GB     38\n",
       "IN     25\n",
       "CA     24\n",
       "DE     19\n",
       "FR     14\n",
       "ES     13\n",
       "GR     11\n",
       "PK      6\n",
       "PT      6\n",
       "BR      5\n",
       "NL      4\n",
       "JP      4\n",
       "VN      3\n",
       "PL      3\n",
       "AT      3\n",
       "TR      3\n",
       "AE      3\n",
       "RO      2\n",
       "BE      2\n",
       "NG      2\n",
       "AU      2\n",
       "RU      2\n",
       "IT      2\n",
       "SI      2\n",
       "MY      1\n",
       "BO      1\n",
       "HN      1\n",
       "IE      1\n",
       "MT      1\n",
       "HU      1\n",
       "RS      1\n",
       "MD      1\n",
       "IR      1\n",
       "LU      1\n",
       "DZ      1\n",
       "MX      1\n",
       "PR      1\n",
       "CZ      1\n",
       "EE      1\n",
       "HK      1\n",
       "BG      1\n",
       "UA      1\n",
       "NZ      1\n",
       "JE      1\n",
       "CL      1\n",
       "CH      1\n",
       "KE      1\n",
       "SG      1\n",
       "Name: employee_residence, dtype: int64"
      ]
     },
     "execution_count": 15,
     "metadata": {},
     "output_type": "execute_result"
    }
   ],
   "source": [
    "training.employee_residence.value_counts()"
   ]
  },
  {
   "cell_type": "code",
   "execution_count": 16,
   "id": "fad93763",
   "metadata": {},
   "outputs": [
    {
     "data": {
      "text/plain": [
       "US    296\n",
       "GB     41\n",
       "CA     25\n",
       "DE     23\n",
       "IN     19\n",
       "FR     12\n",
       "ES     12\n",
       "GR     10\n",
       "JP      4\n",
       "NL      4\n",
       "PT      4\n",
       "LU      3\n",
       "AE      3\n",
       "AT      3\n",
       "PL      3\n",
       "PK      3\n",
       "TR      3\n",
       "CH      2\n",
       "AU      2\n",
       "BR      2\n",
       "NG      2\n",
       "SI      2\n",
       "BE      2\n",
       "MT      1\n",
       "IR      1\n",
       "DZ      1\n",
       "HU      1\n",
       "CZ      1\n",
       "HN      1\n",
       "RO      1\n",
       "CL      1\n",
       "EE      1\n",
       "UA      1\n",
       "NZ      1\n",
       "DK      1\n",
       "CN      1\n",
       "KE      1\n",
       "VN      1\n",
       "MX      1\n",
       "IE      1\n",
       "AS      1\n",
       "MD      1\n",
       "SG      1\n",
       "Name: company_location, dtype: int64"
      ]
     },
     "execution_count": 16,
     "metadata": {},
     "output_type": "execute_result"
    }
   ],
   "source": [
    "training.company_location.value_counts()"
   ]
  },
  {
   "cell_type": "code",
   "execution_count": 17,
   "id": "6506fb5f",
   "metadata": {},
   "outputs": [
    {
     "data": {
      "text/plain": [
       "M    273\n",
       "L    165\n",
       "S     62\n",
       "Name: company_size, dtype: int64"
      ]
     },
     "execution_count": 17,
     "metadata": {},
     "output_type": "execute_result"
    }
   ],
   "source": [
    "training.company_size.value_counts()"
   ]
  },
  {
   "cell_type": "code",
   "execution_count": 18,
   "id": "e4224948",
   "metadata": {},
   "outputs": [
    {
     "data": {
      "text/html": [
       "<div>\n",
       "<style scoped>\n",
       "    .dataframe tbody tr th:only-of-type {\n",
       "        vertical-align: middle;\n",
       "    }\n",
       "\n",
       "    .dataframe tbody tr th {\n",
       "        vertical-align: top;\n",
       "    }\n",
       "\n",
       "    .dataframe thead th {\n",
       "        text-align: right;\n",
       "    }\n",
       "</style>\n",
       "<table border=\"1\" class=\"dataframe\">\n",
       "  <thead>\n",
       "    <tr style=\"text-align: right;\">\n",
       "      <th></th>\n",
       "      <th>count</th>\n",
       "      <th>unique</th>\n",
       "      <th>top</th>\n",
       "      <th>freq</th>\n",
       "      <th>mean</th>\n",
       "      <th>std</th>\n",
       "      <th>min</th>\n",
       "      <th>25%</th>\n",
       "      <th>50%</th>\n",
       "      <th>75%</th>\n",
       "      <th>max</th>\n",
       "    </tr>\n",
       "  </thead>\n",
       "  <tbody>\n",
       "    <tr>\n",
       "      <th>work_year</th>\n",
       "      <td>500.0</td>\n",
       "      <td>NaN</td>\n",
       "      <td>NaN</td>\n",
       "      <td>NaN</td>\n",
       "      <td>2021.414</td>\n",
       "      <td>0.683768</td>\n",
       "      <td>2020.0</td>\n",
       "      <td>2021.0</td>\n",
       "      <td>2022.0</td>\n",
       "      <td>2022.0</td>\n",
       "      <td>2022.0</td>\n",
       "    </tr>\n",
       "    <tr>\n",
       "      <th>experience_level</th>\n",
       "      <td>500</td>\n",
       "      <td>4</td>\n",
       "      <td>SE</td>\n",
       "      <td>243</td>\n",
       "      <td>NaN</td>\n",
       "      <td>NaN</td>\n",
       "      <td>NaN</td>\n",
       "      <td>NaN</td>\n",
       "      <td>NaN</td>\n",
       "      <td>NaN</td>\n",
       "      <td>NaN</td>\n",
       "    </tr>\n",
       "    <tr>\n",
       "      <th>employment_type</th>\n",
       "      <td>500</td>\n",
       "      <td>4</td>\n",
       "      <td>FT</td>\n",
       "      <td>484</td>\n",
       "      <td>NaN</td>\n",
       "      <td>NaN</td>\n",
       "      <td>NaN</td>\n",
       "      <td>NaN</td>\n",
       "      <td>NaN</td>\n",
       "      <td>NaN</td>\n",
       "      <td>NaN</td>\n",
       "    </tr>\n",
       "    <tr>\n",
       "      <th>job_title</th>\n",
       "      <td>500</td>\n",
       "      <td>48</td>\n",
       "      <td>Data Scientist</td>\n",
       "      <td>121</td>\n",
       "      <td>NaN</td>\n",
       "      <td>NaN</td>\n",
       "      <td>NaN</td>\n",
       "      <td>NaN</td>\n",
       "      <td>NaN</td>\n",
       "      <td>NaN</td>\n",
       "      <td>NaN</td>\n",
       "    </tr>\n",
       "    <tr>\n",
       "      <th>salary_in_usd</th>\n",
       "      <td>500.0</td>\n",
       "      <td>NaN</td>\n",
       "      <td>NaN</td>\n",
       "      <td>NaN</td>\n",
       "      <td>112996.216</td>\n",
       "      <td>69613.750601</td>\n",
       "      <td>2859.0</td>\n",
       "      <td>64594.5</td>\n",
       "      <td>103080.0</td>\n",
       "      <td>150000.0</td>\n",
       "      <td>450000.0</td>\n",
       "    </tr>\n",
       "    <tr>\n",
       "      <th>employee_residence</th>\n",
       "      <td>500</td>\n",
       "      <td>49</td>\n",
       "      <td>US</td>\n",
       "      <td>278</td>\n",
       "      <td>NaN</td>\n",
       "      <td>NaN</td>\n",
       "      <td>NaN</td>\n",
       "      <td>NaN</td>\n",
       "      <td>NaN</td>\n",
       "      <td>NaN</td>\n",
       "      <td>NaN</td>\n",
       "    </tr>\n",
       "    <tr>\n",
       "      <th>remote_ratio</th>\n",
       "      <td>500.0</td>\n",
       "      <td>NaN</td>\n",
       "      <td>NaN</td>\n",
       "      <td>NaN</td>\n",
       "      <td>71.8</td>\n",
       "      <td>40.472658</td>\n",
       "      <td>0.0</td>\n",
       "      <td>50.0</td>\n",
       "      <td>100.0</td>\n",
       "      <td>100.0</td>\n",
       "      <td>100.0</td>\n",
       "    </tr>\n",
       "    <tr>\n",
       "      <th>company_location</th>\n",
       "      <td>500</td>\n",
       "      <td>43</td>\n",
       "      <td>US</td>\n",
       "      <td>296</td>\n",
       "      <td>NaN</td>\n",
       "      <td>NaN</td>\n",
       "      <td>NaN</td>\n",
       "      <td>NaN</td>\n",
       "      <td>NaN</td>\n",
       "      <td>NaN</td>\n",
       "      <td>NaN</td>\n",
       "    </tr>\n",
       "    <tr>\n",
       "      <th>company_size</th>\n",
       "      <td>500</td>\n",
       "      <td>3</td>\n",
       "      <td>M</td>\n",
       "      <td>273</td>\n",
       "      <td>NaN</td>\n",
       "      <td>NaN</td>\n",
       "      <td>NaN</td>\n",
       "      <td>NaN</td>\n",
       "      <td>NaN</td>\n",
       "      <td>NaN</td>\n",
       "      <td>NaN</td>\n",
       "    </tr>\n",
       "  </tbody>\n",
       "</table>\n",
       "</div>"
      ],
      "text/plain": [
       "                    count unique             top freq        mean  \\\n",
       "work_year           500.0    NaN             NaN  NaN    2021.414   \n",
       "experience_level      500      4              SE  243         NaN   \n",
       "employment_type       500      4              FT  484         NaN   \n",
       "job_title             500     48  Data Scientist  121         NaN   \n",
       "salary_in_usd       500.0    NaN             NaN  NaN  112996.216   \n",
       "employee_residence    500     49              US  278         NaN   \n",
       "remote_ratio        500.0    NaN             NaN  NaN        71.8   \n",
       "company_location      500     43              US  296         NaN   \n",
       "company_size          500      3               M  273         NaN   \n",
       "\n",
       "                             std     min      25%       50%       75%  \\\n",
       "work_year               0.683768  2020.0   2021.0    2022.0    2022.0   \n",
       "experience_level             NaN     NaN      NaN       NaN       NaN   \n",
       "employment_type              NaN     NaN      NaN       NaN       NaN   \n",
       "job_title                    NaN     NaN      NaN       NaN       NaN   \n",
       "salary_in_usd       69613.750601  2859.0  64594.5  103080.0  150000.0   \n",
       "employee_residence           NaN     NaN      NaN       NaN       NaN   \n",
       "remote_ratio           40.472658     0.0     50.0     100.0     100.0   \n",
       "company_location             NaN     NaN      NaN       NaN       NaN   \n",
       "company_size                 NaN     NaN      NaN       NaN       NaN   \n",
       "\n",
       "                         max  \n",
       "work_year             2022.0  \n",
       "experience_level         NaN  \n",
       "employment_type          NaN  \n",
       "job_title                NaN  \n",
       "salary_in_usd       450000.0  \n",
       "employee_residence       NaN  \n",
       "remote_ratio           100.0  \n",
       "company_location         NaN  \n",
       "company_size             NaN  "
      ]
     },
     "execution_count": 18,
     "metadata": {},
     "output_type": "execute_result"
    }
   ],
   "source": [
    "training.describe(include='all').T"
   ]
  },
  {
   "cell_type": "code",
   "execution_count": 19,
   "id": "10ee6189",
   "metadata": {},
   "outputs": [
    {
     "data": {
      "text/html": [
       "<div>\n",
       "<style scoped>\n",
       "    .dataframe tbody tr th:only-of-type {\n",
       "        vertical-align: middle;\n",
       "    }\n",
       "\n",
       "    .dataframe tbody tr th {\n",
       "        vertical-align: top;\n",
       "    }\n",
       "\n",
       "    .dataframe thead th {\n",
       "        text-align: right;\n",
       "    }\n",
       "</style>\n",
       "<table border=\"1\" class=\"dataframe\">\n",
       "  <thead>\n",
       "    <tr style=\"text-align: right;\">\n",
       "      <th></th>\n",
       "      <th>work_year</th>\n",
       "      <th>salary_in_usd</th>\n",
       "      <th>remote_ratio</th>\n",
       "    </tr>\n",
       "  </thead>\n",
       "  <tbody>\n",
       "    <tr>\n",
       "      <th>work_year</th>\n",
       "      <td>1.000000</td>\n",
       "      <td>0.170159</td>\n",
       "      <td>0.096848</td>\n",
       "    </tr>\n",
       "    <tr>\n",
       "      <th>salary_in_usd</th>\n",
       "      <td>0.170159</td>\n",
       "      <td>1.000000</td>\n",
       "      <td>0.146204</td>\n",
       "    </tr>\n",
       "    <tr>\n",
       "      <th>remote_ratio</th>\n",
       "      <td>0.096848</td>\n",
       "      <td>0.146204</td>\n",
       "      <td>1.000000</td>\n",
       "    </tr>\n",
       "  </tbody>\n",
       "</table>\n",
       "</div>"
      ],
      "text/plain": [
       "               work_year  salary_in_usd  remote_ratio\n",
       "work_year       1.000000       0.170159      0.096848\n",
       "salary_in_usd   0.170159       1.000000      0.146204\n",
       "remote_ratio    0.096848       0.146204      1.000000"
      ]
     },
     "execution_count": 19,
     "metadata": {},
     "output_type": "execute_result"
    }
   ],
   "source": [
    "training.corr()\n"
   ]
  },
  {
   "cell_type": "code",
   "execution_count": 20,
   "id": "0c36157f",
   "metadata": {},
   "outputs": [
    {
     "data": {
      "image/png": "[encoded data removed]",
      "text/plain": [
       "<Figure size 1500x1000 with 2 Axes>"
      ]
     },
     "metadata": {},
     "output_type": "display_data"
    }
   ],
   "source": [
    "import pylab as plt\n",
    "import seaborn as sns\n",
    "\n",
    "import numpy as np\n",
    "\n",
    "%matplotlib inline\n",
    "\n",
    "plt.figure(figsize=(15, 10))\n",
    "\n",
    "sns.set(style='white')\n",
    "\n",
    "mask=np.triu(np.ones_like(training.corr(), dtype=bool))\n",
    "\n",
    "cmap=sns.diverging_palette(0, 10, as_cmap=True)\n",
    "\n",
    "\n",
    "sns.heatmap(training.corr(),\n",
    "           mask=mask,\n",
    "          cmap=cmap,\n",
    "          center=0,\n",
    "          square=True,\n",
    "          annot=True,\n",
    "          linewidths=0.5,\n",
    "          cbar_kws={'shrink': 0.5});"
   ]
  },
  {
   "cell_type": "code",
   "execution_count": 21,
   "id": "3a943dd8",
   "metadata": {},
   "outputs": [],
   "source": [
    "from sklearn.preprocessing import LabelEncoder  # pasar las columnas categoricas a numericas"
   ]
  },
  {
   "cell_type": "code",
   "execution_count": 22,
   "id": "c00f3804",
   "metadata": {},
   "outputs": [],
   "source": [
    "le = LabelEncoder()"
   ]
  },
  {
   "cell_type": "code",
   "execution_count": 23,
   "id": "0db6a841",
   "metadata": {},
   "outputs": [],
   "source": [
    "column=['experience_level', 'employment_type', 'job_title','company_size','employee_residence','company_location','company_size']"
   ]
  },
  {
   "cell_type": "code",
   "execution_count": 24,
   "id": "f635194f",
   "metadata": {},
   "outputs": [],
   "source": [
    "for column in training.columns:\n",
    "    if training[column].dtype == type(object):\n",
    "        training[column] = le.fit_transform(training[column])"
   ]
  },
  {
   "cell_type": "code",
   "execution_count": 25,
   "id": "4a57e586",
   "metadata": {},
   "outputs": [
    {
     "data": {
      "text/html": [
       "<div>\n",
       "<style scoped>\n",
       "    .dataframe tbody tr th:only-of-type {\n",
       "        vertical-align: middle;\n",
       "    }\n",
       "\n",
       "    .dataframe tbody tr th {\n",
       "        vertical-align: top;\n",
       "    }\n",
       "\n",
       "    .dataframe thead th {\n",
       "        text-align: right;\n",
       "    }\n",
       "</style>\n",
       "<table border=\"1\" class=\"dataframe\">\n",
       "  <thead>\n",
       "    <tr style=\"text-align: right;\">\n",
       "      <th></th>\n",
       "      <th>work_year</th>\n",
       "      <th>experience_level</th>\n",
       "      <th>employment_type</th>\n",
       "      <th>job_title</th>\n",
       "      <th>salary_in_usd</th>\n",
       "      <th>employee_residence</th>\n",
       "      <th>remote_ratio</th>\n",
       "      <th>company_location</th>\n",
       "      <th>company_size</th>\n",
       "    </tr>\n",
       "  </thead>\n",
       "  <tbody>\n",
       "    <tr>\n",
       "      <th>0</th>\n",
       "      <td>2022</td>\n",
       "      <td>3</td>\n",
       "      <td>2</td>\n",
       "      <td>17</td>\n",
       "      <td>140250</td>\n",
       "      <td>47</td>\n",
       "      <td>100</td>\n",
       "      <td>41</td>\n",
       "      <td>1</td>\n",
       "    </tr>\n",
       "    <tr>\n",
       "      <th>1</th>\n",
       "      <td>2022</td>\n",
       "      <td>3</td>\n",
       "      <td>2</td>\n",
       "      <td>17</td>\n",
       "      <td>135000</td>\n",
       "      <td>47</td>\n",
       "      <td>100</td>\n",
       "      <td>41</td>\n",
       "      <td>1</td>\n",
       "    </tr>\n",
       "    <tr>\n",
       "      <th>2</th>\n",
       "      <td>2021</td>\n",
       "      <td>2</td>\n",
       "      <td>2</td>\n",
       "      <td>5</td>\n",
       "      <td>100000</td>\n",
       "      <td>47</td>\n",
       "      <td>100</td>\n",
       "      <td>41</td>\n",
       "      <td>1</td>\n",
       "    </tr>\n",
       "    <tr>\n",
       "      <th>3</th>\n",
       "      <td>2021</td>\n",
       "      <td>2</td>\n",
       "      <td>0</td>\n",
       "      <td>36</td>\n",
       "      <td>270000</td>\n",
       "      <td>47</td>\n",
       "      <td>100</td>\n",
       "      <td>41</td>\n",
       "      <td>0</td>\n",
       "    </tr>\n",
       "    <tr>\n",
       "      <th>4</th>\n",
       "      <td>2021</td>\n",
       "      <td>2</td>\n",
       "      <td>2</td>\n",
       "      <td>17</td>\n",
       "      <td>26005</td>\n",
       "      <td>40</td>\n",
       "      <td>0</td>\n",
       "      <td>41</td>\n",
       "      <td>0</td>\n",
       "    </tr>\n",
       "    <tr>\n",
       "      <th>...</th>\n",
       "      <td>...</td>\n",
       "      <td>...</td>\n",
       "      <td>...</td>\n",
       "      <td>...</td>\n",
       "      <td>...</td>\n",
       "      <td>...</td>\n",
       "      <td>...</td>\n",
       "      <td>...</td>\n",
       "      <td>...</td>\n",
       "    </tr>\n",
       "    <tr>\n",
       "      <th>495</th>\n",
       "      <td>2022</td>\n",
       "      <td>3</td>\n",
       "      <td>2</td>\n",
       "      <td>17</td>\n",
       "      <td>100000</td>\n",
       "      <td>47</td>\n",
       "      <td>100</td>\n",
       "      <td>41</td>\n",
       "      <td>1</td>\n",
       "    </tr>\n",
       "    <tr>\n",
       "      <th>496</th>\n",
       "      <td>2021</td>\n",
       "      <td>0</td>\n",
       "      <td>2</td>\n",
       "      <td>7</td>\n",
       "      <td>5882</td>\n",
       "      <td>22</td>\n",
       "      <td>0</td>\n",
       "      <td>7</td>\n",
       "      <td>0</td>\n",
       "    </tr>\n",
       "    <tr>\n",
       "      <th>497</th>\n",
       "      <td>2022</td>\n",
       "      <td>3</td>\n",
       "      <td>2</td>\n",
       "      <td>16</td>\n",
       "      <td>90700</td>\n",
       "      <td>7</td>\n",
       "      <td>100</td>\n",
       "      <td>6</td>\n",
       "      <td>1</td>\n",
       "    </tr>\n",
       "    <tr>\n",
       "      <th>498</th>\n",
       "      <td>2021</td>\n",
       "      <td>2</td>\n",
       "      <td>2</td>\n",
       "      <td>17</td>\n",
       "      <td>82528</td>\n",
       "      <td>16</td>\n",
       "      <td>100</td>\n",
       "      <td>17</td>\n",
       "      <td>0</td>\n",
       "    </tr>\n",
       "    <tr>\n",
       "      <th>499</th>\n",
       "      <td>2021</td>\n",
       "      <td>0</td>\n",
       "      <td>2</td>\n",
       "      <td>11</td>\n",
       "      <td>70000</td>\n",
       "      <td>47</td>\n",
       "      <td>100</td>\n",
       "      <td>41</td>\n",
       "      <td>1</td>\n",
       "    </tr>\n",
       "  </tbody>\n",
       "</table>\n",
       "<p>500 rows × 9 columns</p>\n",
       "</div>"
      ],
      "text/plain": [
       "     work_year  experience_level  employment_type  job_title  salary_in_usd  \\\n",
       "0         2022                 3                2         17         140250   \n",
       "1         2022                 3                2         17         135000   \n",
       "2         2021                 2                2          5         100000   \n",
       "3         2021                 2                0         36         270000   \n",
       "4         2021                 2                2         17          26005   \n",
       "..         ...               ...              ...        ...            ...   \n",
       "495       2022                 3                2         17         100000   \n",
       "496       2021                 0                2          7           5882   \n",
       "497       2022                 3                2         16          90700   \n",
       "498       2021                 2                2         17          82528   \n",
       "499       2021                 0                2         11          70000   \n",
       "\n",
       "     employee_residence  remote_ratio  company_location  company_size  \n",
       "0                    47           100                41             1  \n",
       "1                    47           100                41             1  \n",
       "2                    47           100                41             1  \n",
       "3                    47           100                41             0  \n",
       "4                    40             0                41             0  \n",
       "..                  ...           ...               ...           ...  \n",
       "495                  47           100                41             1  \n",
       "496                  22             0                 7             0  \n",
       "497                   7           100                 6             1  \n",
       "498                  16           100                17             0  \n",
       "499                  47           100                41             1  \n",
       "\n",
       "[500 rows x 9 columns]"
      ]
     },
     "execution_count": 25,
     "metadata": {},
     "output_type": "execute_result"
    }
   ],
   "source": [
    "training"
   ]
  },
  {
   "cell_type": "code",
   "execution_count": 26,
   "id": "9bdd5718",
   "metadata": {},
   "outputs": [],
   "source": [
    "X=training[['work_year','experience_level','employment_type','job_title','employee_residence','remote_ratio','company_location','company_size']]\n",
    "y=training['salary_in_usd']  # definimos la X y la y"
   ]
  },
  {
   "cell_type": "code",
   "execution_count": 27,
   "id": "e911d04e",
   "metadata": {},
   "outputs": [],
   "source": [
    "from sklearn.preprocessing import StandardScaler  # Normalizamos los datos "
   ]
  },
  {
   "cell_type": "code",
   "execution_count": 28,
   "id": "9d91e57b",
   "metadata": {},
   "outputs": [],
   "source": [
    "scaler = StandardScaler()  # iniciamos el modelo"
   ]
  },
  {
   "cell_type": "code",
   "execution_count": 29,
   "id": "534da401",
   "metadata": {},
   "outputs": [],
   "source": [
    "X_scaled = scaler.fit_transform(X)"
   ]
  },
  {
   "cell_type": "code",
   "execution_count": 30,
   "id": "52a75e97",
   "metadata": {},
   "outputs": [],
   "source": [
    "from sklearn.model_selection import train_test_split as tts"
   ]
  },
  {
   "cell_type": "code",
   "execution_count": 31,
   "id": "be8347c7",
   "metadata": {},
   "outputs": [
    {
     "data": {
      "text/plain": [
       "((400, 8), (100, 8), (400,), (100,))"
      ]
     },
     "execution_count": 31,
     "metadata": {},
     "output_type": "execute_result"
    }
   ],
   "source": [
    "X_train, X_test, y_train, y_test  = tts(X, y, train_size=0.8, test_size=0.2, random_state=42)\n",
    "\n",
    "X_train.shape, X_test.shape, y_train.shape, y_test.shape"
   ]
  },
  {
   "cell_type": "code",
   "execution_count": 32,
   "id": "98a717c7",
   "metadata": {},
   "outputs": [],
   "source": [
    "from sklearn.ensemble import RandomForestClassifier\n",
    "from sklearn.metrics import mean_squared_error"
   ]
  },
  {
   "cell_type": "code",
   "execution_count": 34,
   "id": "4e8caec3",
   "metadata": {},
   "outputs": [],
   "source": [
    "rf = RandomForestClassifier(n_estimators=10000, random_state=42)"
   ]
  },
  {
   "cell_type": "code",
   "execution_count": 35,
   "id": "899ccebd",
   "metadata": {},
   "outputs": [
    {
     "data": {
      "text/plain": [
       "RandomForestClassifier(n_estimators=10000, random_state=42)"
      ]
     },
     "execution_count": 35,
     "metadata": {},
     "output_type": "execute_result"
    }
   ],
   "source": [
    "rf.fit(X_train, y_train)"
   ]
  },
  {
   "cell_type": "code",
   "execution_count": 36,
   "id": "0719368f",
   "metadata": {},
   "outputs": [
    {
     "data": {
      "text/plain": [
       "array([160000,  60000, 102100,  90320,  90320,  94665,  53192, 266400,\n",
       "        61300,  49268,  49646,  24000, 130000, 175000, 164996,  76940,\n",
       "       130000,  36643,  67000, 113476,  32974,  62000,  65438,  56738,\n",
       "        66022, 120000, 192400, 140000,  24342, 106000, 120000,  18442,\n",
       "       180000,  99000,  38400,  90320,  82500,  37825, 109000, 105000,\n",
       "       140000, 106000,  90734,  78526,  18442,  20171, 130000, 130000,\n",
       "       160000, 130000, 190200,  70500,  50000, 130000,  74130,  90320,\n",
       "        65438,  59102,  40189, 135000, 140000, 140000, 110000,  98158,\n",
       "        53192, 117789, 170000,  26005, 380000, 200000, 206699,  99000,\n",
       "       130000, 100000, 115500,  90320,  36643, 110037, 115500,  56256,\n",
       "       130000, 135000, 130000,  52351, 180000,  75774, 120000,  98158,\n",
       "       144000,  10000, 180000,  32974,  90320,  65000,  99000, 165000,\n",
       "       105000, 120000,  90320, 130000], dtype=int64)"
      ]
     },
     "execution_count": 36,
     "metadata": {},
     "output_type": "execute_result"
    }
   ],
   "source": [
    "y_pred = rf.predict(X_test)\n",
    "y_pred"
   ]
  },
  {
   "cell_type": "code",
   "execution_count": 38,
   "id": "e79180cd",
   "metadata": {},
   "outputs": [
    {
     "data": {
      "text/plain": [
       "61286.965138926564"
      ]
     },
     "execution_count": 38,
     "metadata": {},
     "output_type": "execute_result"
    }
   ],
   "source": [
    "mse = mean_squared_error(y_test, y_pred, squared=False)\n",
    "mse"
   ]
  },
  {
   "cell_type": "code",
   "execution_count": 39,
   "id": "fef06c62",
   "metadata": {},
   "outputs": [],
   "source": [
    "testing=pd.read_csv('testeo.csv')"
   ]
  },
  {
   "cell_type": "code",
   "execution_count": 75,
   "id": "b80dda17",
   "metadata": {},
   "outputs": [
    {
     "data": {
      "text/plain": [
       "array([168000,  19609, 100000,  79833,  38776, 109024,  47899,  79833,\n",
       "        76958,  60000,  18053,  47899, 100000,  51321,  59303,  59303,\n",
       "        24000,  59102,  18053,  60000, 110037,  63831,  75774, 113476,\n",
       "        47282,  49646,   6072,  66265,  46809,  21637,  33808,  59102,\n",
       "        71786,  66022,  63831,  74130, 113476,  74130,  63831,  24342,\n",
       "        99703, 110037,  59102,  24342,   9272,  19609,  33808,  67000,\n",
       "        59102,  18053,  21637,  56256,  54957,  43966,  65438,  65438,\n",
       "        43966,  43966,  43966,  43966,  43966,  18442,  43966,  65438,\n",
       "       117789,  43966,  43966,  43966,  65438,  87932,   5409,  62651,\n",
       "        18000,  32974,  61300,  65438,  32974,  32974,  20000,  79039,\n",
       "        32974,  32974,  79039,  79039,  43966,  65438,  65438,  43966,\n",
       "        43966,  18053, 118187,  43966, 122346,  37300,  43966,  18442,\n",
       "        65000,  61300,  67000,  65438,  43966,  43966,  43966,  43966,\n",
       "        43966,  67000,  65438], dtype=int64)"
      ]
     },
     "execution_count": 75,
     "metadata": {},
     "output_type": "execute_result"
    }
   ],
   "source": [
    "y_testing=rf.predict(testing)\n",
    "y_testing"
   ]
  },
  {
   "cell_type": "code",
   "execution_count": 42,
   "id": "d78c5ebb",
   "metadata": {},
   "outputs": [
    {
     "data": {
      "text/html": [
       "<div>\n",
       "<style scoped>\n",
       "    .dataframe tbody tr th:only-of-type {\n",
       "        vertical-align: middle;\n",
       "    }\n",
       "\n",
       "    .dataframe tbody tr th {\n",
       "        vertical-align: top;\n",
       "    }\n",
       "\n",
       "    .dataframe thead th {\n",
       "        text-align: right;\n",
       "    }\n",
       "</style>\n",
       "<table border=\"1\" class=\"dataframe\">\n",
       "  <thead>\n",
       "    <tr style=\"text-align: right;\">\n",
       "      <th></th>\n",
       "      <th>work_year</th>\n",
       "      <th>experience_level</th>\n",
       "      <th>employment_type</th>\n",
       "      <th>job_title</th>\n",
       "      <th>employee_residence</th>\n",
       "      <th>remote_ratio</th>\n",
       "      <th>company_location</th>\n",
       "      <th>company_size</th>\n",
       "    </tr>\n",
       "  </thead>\n",
       "  <tbody>\n",
       "    <tr>\n",
       "      <th>0</th>\n",
       "      <td>2020</td>\n",
       "      <td>SE</td>\n",
       "      <td>FT</td>\n",
       "      <td>Machine Learning Scientist</td>\n",
       "      <td>JP</td>\n",
       "      <td>0</td>\n",
       "      <td>JP</td>\n",
       "      <td>S</td>\n",
       "    </tr>\n",
       "    <tr>\n",
       "      <th>1</th>\n",
       "      <td>2020</td>\n",
       "      <td>MI</td>\n",
       "      <td>FT</td>\n",
       "      <td>Lead Data Analyst</td>\n",
       "      <td>US</td>\n",
       "      <td>100</td>\n",
       "      <td>US</td>\n",
       "      <td>L</td>\n",
       "    </tr>\n",
       "    <tr>\n",
       "      <th>2</th>\n",
       "      <td>2020</td>\n",
       "      <td>MI</td>\n",
       "      <td>FT</td>\n",
       "      <td>Data Analyst</td>\n",
       "      <td>US</td>\n",
       "      <td>100</td>\n",
       "      <td>US</td>\n",
       "      <td>L</td>\n",
       "    </tr>\n",
       "    <tr>\n",
       "      <th>3</th>\n",
       "      <td>2020</td>\n",
       "      <td>MI</td>\n",
       "      <td>FT</td>\n",
       "      <td>Machine Learning Engineer</td>\n",
       "      <td>CN</td>\n",
       "      <td>0</td>\n",
       "      <td>CN</td>\n",
       "      <td>M</td>\n",
       "    </tr>\n",
       "    <tr>\n",
       "      <th>4</th>\n",
       "      <td>2020</td>\n",
       "      <td>MI</td>\n",
       "      <td>FT</td>\n",
       "      <td>Product Data Analyst</td>\n",
       "      <td>IN</td>\n",
       "      <td>100</td>\n",
       "      <td>IN</td>\n",
       "      <td>L</td>\n",
       "    </tr>\n",
       "  </tbody>\n",
       "</table>\n",
       "</div>"
      ],
      "text/plain": [
       "   work_year experience_level employment_type                   job_title  \\\n",
       "0       2020               SE              FT  Machine Learning Scientist   \n",
       "1       2020               MI              FT           Lead Data Analyst   \n",
       "2       2020               MI              FT                Data Analyst   \n",
       "3       2020               MI              FT   Machine Learning Engineer   \n",
       "4       2020               MI              FT        Product Data Analyst   \n",
       "\n",
       "  employee_residence  remote_ratio company_location company_size  \n",
       "0                 JP             0               JP            S  \n",
       "1                 US           100               US            L  \n",
       "2                 US           100               US            L  \n",
       "3                 CN             0               CN            M  \n",
       "4                 IN           100               IN            L  "
      ]
     },
     "execution_count": 42,
     "metadata": {},
     "output_type": "execute_result"
    }
   ],
   "source": [
    "testing.head()"
   ]
  },
  {
   "cell_type": "code",
   "execution_count": 66,
   "id": "638daa86",
   "metadata": {},
   "outputs": [
    {
     "data": {
      "text/html": [
       "<div>\n",
       "<style scoped>\n",
       "    .dataframe tbody tr th:only-of-type {\n",
       "        vertical-align: middle;\n",
       "    }\n",
       "\n",
       "    .dataframe tbody tr th {\n",
       "        vertical-align: top;\n",
       "    }\n",
       "\n",
       "    .dataframe thead th {\n",
       "        text-align: right;\n",
       "    }\n",
       "</style>\n",
       "<table border=\"1\" class=\"dataframe\">\n",
       "  <thead>\n",
       "    <tr style=\"text-align: right;\">\n",
       "      <th></th>\n",
       "      <th>work_year</th>\n",
       "      <th>experience_level</th>\n",
       "      <th>employment_type</th>\n",
       "      <th>job_title</th>\n",
       "      <th>employee_residence</th>\n",
       "      <th>remote_ratio</th>\n",
       "      <th>company_location</th>\n",
       "      <th>company_size</th>\n",
       "    </tr>\n",
       "  </thead>\n",
       "  <tbody>\n",
       "    <tr>\n",
       "      <th>0</th>\n",
       "      <td>2020</td>\n",
       "      <td>3</td>\n",
       "      <td>1</td>\n",
       "      <td>22</td>\n",
       "      <td>17</td>\n",
       "      <td>0</td>\n",
       "      <td>18</td>\n",
       "      <td>2</td>\n",
       "    </tr>\n",
       "    <tr>\n",
       "      <th>1</th>\n",
       "      <td>2020</td>\n",
       "      <td>2</td>\n",
       "      <td>1</td>\n",
       "      <td>18</td>\n",
       "      <td>25</td>\n",
       "      <td>100</td>\n",
       "      <td>23</td>\n",
       "      <td>0</td>\n",
       "    </tr>\n",
       "    <tr>\n",
       "      <th>2</th>\n",
       "      <td>2020</td>\n",
       "      <td>2</td>\n",
       "      <td>1</td>\n",
       "      <td>8</td>\n",
       "      <td>25</td>\n",
       "      <td>100</td>\n",
       "      <td>23</td>\n",
       "      <td>0</td>\n",
       "    </tr>\n",
       "    <tr>\n",
       "      <th>3</th>\n",
       "      <td>2020</td>\n",
       "      <td>2</td>\n",
       "      <td>1</td>\n",
       "      <td>20</td>\n",
       "      <td>4</td>\n",
       "      <td>0</td>\n",
       "      <td>4</td>\n",
       "      <td>1</td>\n",
       "    </tr>\n",
       "    <tr>\n",
       "      <th>4</th>\n",
       "      <td>2020</td>\n",
       "      <td>2</td>\n",
       "      <td>1</td>\n",
       "      <td>27</td>\n",
       "      <td>14</td>\n",
       "      <td>100</td>\n",
       "      <td>15</td>\n",
       "      <td>0</td>\n",
       "    </tr>\n",
       "  </tbody>\n",
       "</table>\n",
       "</div>"
      ],
      "text/plain": [
       "   work_year  experience_level  employment_type  job_title  \\\n",
       "0       2020                 3                1         22   \n",
       "1       2020                 2                1         18   \n",
       "2       2020                 2                1          8   \n",
       "3       2020                 2                1         20   \n",
       "4       2020                 2                1         27   \n",
       "\n",
       "   employee_residence  remote_ratio  company_location  company_size  \n",
       "0                  17             0                18             2  \n",
       "1                  25           100                23             0  \n",
       "2                  25           100                23             0  \n",
       "3                   4             0                 4             1  \n",
       "4                  14           100                15             0  "
      ]
     },
     "execution_count": 66,
     "metadata": {},
     "output_type": "execute_result"
    }
   ],
   "source": [
    "testing.head()"
   ]
  },
  {
   "cell_type": "code",
   "execution_count": 43,
   "id": "7cda539b",
   "metadata": {},
   "outputs": [],
   "source": [
    "from sklearn.preprocessing import LabelEncoder"
   ]
  },
  {
   "cell_type": "code",
   "execution_count": 52,
   "id": "34acb54a",
   "metadata": {},
   "outputs": [],
   "source": [
    "column=['experience_level', 'employment_type', 'job_title','company_size','employee_residence','company_location','company_size']"
   ]
  },
  {
   "cell_type": "code",
   "execution_count": 53,
   "id": "5d365455",
   "metadata": {},
   "outputs": [],
   "source": [
    "le = LabelEncoder()"
   ]
  },
  {
   "cell_type": "code",
   "execution_count": 54,
   "id": "7413c79a",
   "metadata": {},
   "outputs": [],
   "source": [
    "for column in testing.columns:\n",
    "    if testing[column].dtype == type(object):\n",
    "        testing[column] = le.fit_transform(testing[column])"
   ]
  },
  {
   "cell_type": "code",
   "execution_count": 55,
   "id": "7d3797ce",
   "metadata": {},
   "outputs": [],
   "source": [
    "X=testing[['work_year','experience_level','employment_type','job_title','employee_residence','remote_ratio','company_location','company_size']]\n"
   ]
  },
  {
   "cell_type": "code",
   "execution_count": 56,
   "id": "6096fa38",
   "metadata": {},
   "outputs": [],
   "source": [
    "from sklearn.preprocessing import StandardScaler"
   ]
  },
  {
   "cell_type": "code",
   "execution_count": 57,
   "id": "73a971f3",
   "metadata": {},
   "outputs": [],
   "source": [
    "scaler = StandardScaler()"
   ]
  },
  {
   "cell_type": "code",
   "execution_count": 58,
   "id": "464d0b71",
   "metadata": {},
   "outputs": [],
   "source": [
    "X_scaled = scaler.fit_transform(X)"
   ]
  },
  {
   "cell_type": "code",
   "execution_count": 62,
   "id": "2c2bfe9a",
   "metadata": {},
   "outputs": [],
   "source": [
    "from sklearn.ensemble import RandomForestClassifier\n",
    "from sklearn.metrics import mean_squared_error"
   ]
  },
  {
   "cell_type": "code",
   "execution_count": 63,
   "id": "d9e47b9f",
   "metadata": {},
   "outputs": [],
   "source": [
    "rf = RandomForestClassifier(n_estimators=10000, random_state=42)"
   ]
  },
  {
   "cell_type": "code",
   "execution_count": 64,
   "id": "463c3130",
   "metadata": {},
   "outputs": [
    {
     "data": {
      "text/plain": [
       "RandomForestClassifier(n_estimators=10000, random_state=42)"
      ]
     },
     "execution_count": 64,
     "metadata": {},
     "output_type": "execute_result"
    }
   ],
   "source": [
    "rf.fit(X_train, y_train)"
   ]
  },
  {
   "cell_type": "code",
   "execution_count": 65,
   "id": "9e2fdd2c",
   "metadata": {},
   "outputs": [
    {
     "data": {
      "text/plain": [
       "array([160000,  60000, 102100,  90320,  90320,  94665,  53192, 266400,\n",
       "        61300,  49268,  49646,  24000, 130000, 175000, 164996,  76940,\n",
       "       130000,  36643,  67000, 113476,  32974,  62000,  65438,  56738,\n",
       "        66022, 120000, 192400, 140000,  24342, 106000, 120000,  18442,\n",
       "       180000,  99000,  38400,  90320,  82500,  37825, 109000, 105000,\n",
       "       140000, 106000,  90734,  78526,  18442,  20171, 130000, 130000,\n",
       "       160000, 130000, 190200,  70500,  50000, 130000,  74130,  90320,\n",
       "        65438,  59102,  40189, 135000, 140000, 140000, 110000,  98158,\n",
       "        53192, 117789, 170000,  26005, 380000, 200000, 206699,  99000,\n",
       "       130000, 100000, 115500,  90320,  36643, 110037, 115500,  56256,\n",
       "       130000, 135000, 130000,  52351, 180000,  75774, 120000,  98158,\n",
       "       144000,  10000, 180000,  32974,  90320,  65000,  99000, 165000,\n",
       "       105000, 120000,  90320, 130000], dtype=int64)"
      ]
     },
     "execution_count": 65,
     "metadata": {},
     "output_type": "execute_result"
    }
   ],
   "source": [
    "y_pred = rf.predict(X_test)\n",
    "y_pred"
   ]
  },
  {
   "cell_type": "code",
   "execution_count": 73,
   "id": "b6fd5286",
   "metadata": {},
   "outputs": [
    {
     "data": {
      "text/plain": [
       "array([168000,  19609, 100000,  79833,  38776, 109024,  47899,  79833,\n",
       "        76958,  60000,  18053,  47899, 100000,  51321,  59303,  59303,\n",
       "        24000,  59102,  18053,  60000, 110037,  63831,  75774, 113476,\n",
       "        47282,  49646,   6072,  66265,  46809,  21637,  33808,  59102,\n",
       "        71786,  66022,  63831,  74130, 113476,  74130,  63831,  24342,\n",
       "        99703, 110037,  59102,  24342,   9272,  19609,  33808,  67000,\n",
       "        59102,  18053,  21637,  56256,  54957,  43966,  65438,  65438,\n",
       "        43966,  43966,  43966,  43966,  43966,  18442,  43966,  65438,\n",
       "       117789,  43966,  43966,  43966,  65438,  87932,   5409,  62651,\n",
       "        18000,  32974,  61300,  65438,  32974,  32974,  20000,  79039,\n",
       "        32974,  32974,  79039,  79039,  43966,  65438,  65438,  43966,\n",
       "        43966,  18053, 118187,  43966, 122346,  37300,  43966,  18442,\n",
       "        65000,  61300,  67000,  65438,  43966,  43966,  43966,  43966,\n",
       "        43966,  67000,  65438], dtype=int64)"
      ]
     },
     "execution_count": 73,
     "metadata": {},
     "output_type": "execute_result"
    }
   ],
   "source": [
    "y_testing=rf.predict(testing)\n",
    "y_testing"
   ]
  },
  {
   "cell_type": "code",
   "execution_count": 82,
   "id": "5f05ad1d",
   "metadata": {},
   "outputs": [
    {
     "data": {
      "text/plain": [
       "(107, 8)"
      ]
     },
     "execution_count": 82,
     "metadata": {},
     "output_type": "execute_result"
    }
   ],
   "source": [
    "testing.shape"
   ]
  },
  {
   "cell_type": "code",
   "execution_count": 78,
   "id": "38cccd5e",
   "metadata": {},
   "outputs": [],
   "source": [
    "muestra1=pd.read_csv('muestra.csv')"
   ]
  },
  {
   "cell_type": "code",
   "execution_count": 85,
   "id": "5c25bd0b",
   "metadata": {},
   "outputs": [
    {
     "data": {
      "text/plain": [
       "(107, 2)"
      ]
     },
     "execution_count": 85,
     "metadata": {},
     "output_type": "execute_result"
    }
   ],
   "source": [
    "muestra1.shape"
   ]
  },
  {
   "cell_type": "code",
   "execution_count": 88,
   "id": "40cd535a",
   "metadata": {},
   "outputs": [
    {
     "data": {
      "text/plain": [
       "(500, 9)"
      ]
     },
     "execution_count": 88,
     "metadata": {},
     "output_type": "execute_result"
    }
   ],
   "source": [
    "training.shape"
   ]
  },
  {
   "cell_type": "code",
   "execution_count": 94,
   "id": "aeae4254",
   "metadata": {},
   "outputs": [
    {
     "ename": "ValueError",
     "evalue": "Length of values (100) does not match length of index (107)",
     "output_type": "error",
     "traceback": [
      "\u001b[1;31m---------------------------------------------------------------------------\u001b[0m",
      "\u001b[1;31mValueError\u001b[0m                                Traceback (most recent call last)",
      "\u001b[1;32m~\\AppData\\Local\\Temp\\ipykernel_4232\\4227202149.py\u001b[0m in \u001b[0;36m<module>\u001b[1;34m\u001b[0m\n\u001b[1;32m----> 1\u001b[1;33m \u001b[0mmuestra1\u001b[0m\u001b[1;33m[\u001b[0m\u001b[1;34m'salary_in_usd'\u001b[0m\u001b[1;33m]\u001b[0m\u001b[1;33m=\u001b[0m \u001b[0my_pred\u001b[0m\u001b[1;33m\u001b[0m\u001b[1;33m\u001b[0m\u001b[0m\n\u001b[0m",
      "\u001b[1;32m~\\anaconda3\\lib\\site-packages\\pandas\\core\\frame.py\u001b[0m in \u001b[0;36m__setitem__\u001b[1;34m(self, key, value)\u001b[0m\n\u001b[0;32m   3653\u001b[0m         \u001b[1;32melse\u001b[0m\u001b[1;33m:\u001b[0m\u001b[1;33m\u001b[0m\u001b[1;33m\u001b[0m\u001b[0m\n\u001b[0;32m   3654\u001b[0m             \u001b[1;31m# set column\u001b[0m\u001b[1;33m\u001b[0m\u001b[1;33m\u001b[0m\u001b[0m\n\u001b[1;32m-> 3655\u001b[1;33m             \u001b[0mself\u001b[0m\u001b[1;33m.\u001b[0m\u001b[0m_set_item\u001b[0m\u001b[1;33m(\u001b[0m\u001b[0mkey\u001b[0m\u001b[1;33m,\u001b[0m \u001b[0mvalue\u001b[0m\u001b[1;33m)\u001b[0m\u001b[1;33m\u001b[0m\u001b[1;33m\u001b[0m\u001b[0m\n\u001b[0m\u001b[0;32m   3656\u001b[0m \u001b[1;33m\u001b[0m\u001b[0m\n\u001b[0;32m   3657\u001b[0m     \u001b[1;32mdef\u001b[0m \u001b[0m_setitem_slice\u001b[0m\u001b[1;33m(\u001b[0m\u001b[0mself\u001b[0m\u001b[1;33m,\u001b[0m \u001b[0mkey\u001b[0m\u001b[1;33m:\u001b[0m \u001b[0mslice\u001b[0m\u001b[1;33m,\u001b[0m \u001b[0mvalue\u001b[0m\u001b[1;33m)\u001b[0m\u001b[1;33m:\u001b[0m\u001b[1;33m\u001b[0m\u001b[1;33m\u001b[0m\u001b[0m\n",
      "\u001b[1;32m~\\anaconda3\\lib\\site-packages\\pandas\\core\\frame.py\u001b[0m in \u001b[0;36m_set_item\u001b[1;34m(self, key, value)\u001b[0m\n\u001b[0;32m   3830\u001b[0m         \u001b[0mensure\u001b[0m \u001b[0mhomogeneity\u001b[0m\u001b[1;33m.\u001b[0m\u001b[1;33m\u001b[0m\u001b[1;33m\u001b[0m\u001b[0m\n\u001b[0;32m   3831\u001b[0m         \"\"\"\n\u001b[1;32m-> 3832\u001b[1;33m         \u001b[0mvalue\u001b[0m \u001b[1;33m=\u001b[0m \u001b[0mself\u001b[0m\u001b[1;33m.\u001b[0m\u001b[0m_sanitize_column\u001b[0m\u001b[1;33m(\u001b[0m\u001b[0mvalue\u001b[0m\u001b[1;33m)\u001b[0m\u001b[1;33m\u001b[0m\u001b[1;33m\u001b[0m\u001b[0m\n\u001b[0m\u001b[0;32m   3833\u001b[0m \u001b[1;33m\u001b[0m\u001b[0m\n\u001b[0;32m   3834\u001b[0m         if (\n",
      "\u001b[1;32m~\\anaconda3\\lib\\site-packages\\pandas\\core\\frame.py\u001b[0m in \u001b[0;36m_sanitize_column\u001b[1;34m(self, value)\u001b[0m\n\u001b[0;32m   4536\u001b[0m \u001b[1;33m\u001b[0m\u001b[0m\n\u001b[0;32m   4537\u001b[0m         \u001b[1;32mif\u001b[0m \u001b[0mis_list_like\u001b[0m\u001b[1;33m(\u001b[0m\u001b[0mvalue\u001b[0m\u001b[1;33m)\u001b[0m\u001b[1;33m:\u001b[0m\u001b[1;33m\u001b[0m\u001b[1;33m\u001b[0m\u001b[0m\n\u001b[1;32m-> 4538\u001b[1;33m             \u001b[0mcom\u001b[0m\u001b[1;33m.\u001b[0m\u001b[0mrequire_length_match\u001b[0m\u001b[1;33m(\u001b[0m\u001b[0mvalue\u001b[0m\u001b[1;33m,\u001b[0m \u001b[0mself\u001b[0m\u001b[1;33m.\u001b[0m\u001b[0mindex\u001b[0m\u001b[1;33m)\u001b[0m\u001b[1;33m\u001b[0m\u001b[1;33m\u001b[0m\u001b[0m\n\u001b[0m\u001b[0;32m   4539\u001b[0m         \u001b[1;32mreturn\u001b[0m \u001b[0msanitize_array\u001b[0m\u001b[1;33m(\u001b[0m\u001b[0mvalue\u001b[0m\u001b[1;33m,\u001b[0m \u001b[0mself\u001b[0m\u001b[1;33m.\u001b[0m\u001b[0mindex\u001b[0m\u001b[1;33m,\u001b[0m \u001b[0mcopy\u001b[0m\u001b[1;33m=\u001b[0m\u001b[1;32mTrue\u001b[0m\u001b[1;33m,\u001b[0m \u001b[0mallow_2d\u001b[0m\u001b[1;33m=\u001b[0m\u001b[1;32mTrue\u001b[0m\u001b[1;33m)\u001b[0m\u001b[1;33m\u001b[0m\u001b[1;33m\u001b[0m\u001b[0m\n\u001b[0;32m   4540\u001b[0m \u001b[1;33m\u001b[0m\u001b[0m\n",
      "\u001b[1;32m~\\anaconda3\\lib\\site-packages\\pandas\\core\\common.py\u001b[0m in \u001b[0;36mrequire_length_match\u001b[1;34m(data, index)\u001b[0m\n\u001b[0;32m    555\u001b[0m     \"\"\"\n\u001b[0;32m    556\u001b[0m     \u001b[1;32mif\u001b[0m \u001b[0mlen\u001b[0m\u001b[1;33m(\u001b[0m\u001b[0mdata\u001b[0m\u001b[1;33m)\u001b[0m \u001b[1;33m!=\u001b[0m \u001b[0mlen\u001b[0m\u001b[1;33m(\u001b[0m\u001b[0mindex\u001b[0m\u001b[1;33m)\u001b[0m\u001b[1;33m:\u001b[0m\u001b[1;33m\u001b[0m\u001b[1;33m\u001b[0m\u001b[0m\n\u001b[1;32m--> 557\u001b[1;33m         raise ValueError(\n\u001b[0m\u001b[0;32m    558\u001b[0m             \u001b[1;34m\"Length of values \"\u001b[0m\u001b[1;33m\u001b[0m\u001b[1;33m\u001b[0m\u001b[0m\n\u001b[0;32m    559\u001b[0m             \u001b[1;34mf\"({len(data)}) \"\u001b[0m\u001b[1;33m\u001b[0m\u001b[1;33m\u001b[0m\u001b[0m\n",
      "\u001b[1;31mValueError\u001b[0m: Length of values (100) does not match length of index (107)"
     ]
    }
   ],
   "source": [
    "muestra1['salary_in_usd']= y_pred"
   ]
  },
  {
   "cell_type": "code",
   "execution_count": null,
   "id": "5b9003a6",
   "metadata": {},
   "outputs": [],
   "source": []
  }
 ],
 "metadata": {
  "kernelspec": {
   "display_name": "Python 3 (ipykernel)",
   "language": "python",
   "name": "python3"
  },
  "language_info": {
   "codemirror_mode": {
    "name": "ipython",
    "version": 3
   },
   "file_extension": ".py",
   "mimetype": "text/x-python",
   "name": "python",
   "nbconvert_exporter": "python",
   "pygments_lexer": "ipython3",
   "version": "3.9.13"
  }
 },
 "nbformat": 4,
 "nbformat_minor": 5
}
