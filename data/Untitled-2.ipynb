{
 "cells": [
  {
   "cell_type": "code",
   "execution_count": 1,
   "metadata": {},
   "outputs": [],
   "source": [
    "import numpy as np\n",
    "import pandas as pd\n",
    "import matplotlib.pyplot as plt\n",
    "import seaborn as sns\n",
    "import warnings\n",
    "warnings.filterwarnings('ignore')"
   ]
  },
  {
   "cell_type": "code",
   "execution_count": 2,
   "metadata": {},
   "outputs": [],
   "source": [
    "salaries = pd.read_csv('salaries_data.csv')\n",
    "\n",
    "salaries_test = pd.read_csv('testeo.csv')"
   ]
  },
  {
   "cell_type": "code",
   "execution_count": 3,
   "metadata": {},
   "outputs": [
    {
     "data": {
      "text/html": [
       "<div>\n",
       "<style scoped>\n",
       "    .dataframe tbody tr th:only-of-type {\n",
       "        vertical-align: middle;\n",
       "    }\n",
       "\n",
       "    .dataframe tbody tr th {\n",
       "        vertical-align: top;\n",
       "    }\n",
       "\n",
       "    .dataframe thead th {\n",
       "        text-align: right;\n",
       "    }\n",
       "</style>\n",
       "<table border=\"1\" class=\"dataframe\">\n",
       "  <thead>\n",
       "    <tr style=\"text-align: right;\">\n",
       "      <th></th>\n",
       "      <th>work_year</th>\n",
       "      <th>experience_level</th>\n",
       "      <th>employment_type</th>\n",
       "      <th>job_title</th>\n",
       "      <th>salary_in_usd</th>\n",
       "      <th>employee_residence</th>\n",
       "      <th>remote_ratio</th>\n",
       "      <th>company_location</th>\n",
       "      <th>company_size</th>\n",
       "    </tr>\n",
       "  </thead>\n",
       "  <tbody>\n",
       "    <tr>\n",
       "      <th>0</th>\n",
       "      <td>2022</td>\n",
       "      <td>SE</td>\n",
       "      <td>FT</td>\n",
       "      <td>Data Engineer</td>\n",
       "      <td>140250</td>\n",
       "      <td>US</td>\n",
       "      <td>100</td>\n",
       "      <td>US</td>\n",
       "      <td>M</td>\n",
       "    </tr>\n",
       "    <tr>\n",
       "      <th>1</th>\n",
       "      <td>2022</td>\n",
       "      <td>SE</td>\n",
       "      <td>FT</td>\n",
       "      <td>Data Engineer</td>\n",
       "      <td>135000</td>\n",
       "      <td>US</td>\n",
       "      <td>100</td>\n",
       "      <td>US</td>\n",
       "      <td>M</td>\n",
       "    </tr>\n",
       "    <tr>\n",
       "      <th>2</th>\n",
       "      <td>2021</td>\n",
       "      <td>MI</td>\n",
       "      <td>FT</td>\n",
       "      <td>BI Data Analyst</td>\n",
       "      <td>100000</td>\n",
       "      <td>US</td>\n",
       "      <td>100</td>\n",
       "      <td>US</td>\n",
       "      <td>M</td>\n",
       "    </tr>\n",
       "    <tr>\n",
       "      <th>3</th>\n",
       "      <td>2021</td>\n",
       "      <td>MI</td>\n",
       "      <td>CT</td>\n",
       "      <td>ML Engineer</td>\n",
       "      <td>270000</td>\n",
       "      <td>US</td>\n",
       "      <td>100</td>\n",
       "      <td>US</td>\n",
       "      <td>L</td>\n",
       "    </tr>\n",
       "    <tr>\n",
       "      <th>4</th>\n",
       "      <td>2021</td>\n",
       "      <td>MI</td>\n",
       "      <td>FT</td>\n",
       "      <td>Data Engineer</td>\n",
       "      <td>26005</td>\n",
       "      <td>RO</td>\n",
       "      <td>0</td>\n",
       "      <td>US</td>\n",
       "      <td>L</td>\n",
       "    </tr>\n",
       "  </tbody>\n",
       "</table>\n",
       "</div>"
      ],
      "text/plain": [
       "   work_year experience_level employment_type        job_title  salary_in_usd  \\\n",
       "0       2022               SE              FT    Data Engineer         140250   \n",
       "1       2022               SE              FT    Data Engineer         135000   \n",
       "2       2021               MI              FT  BI Data Analyst         100000   \n",
       "3       2021               MI              CT      ML Engineer         270000   \n",
       "4       2021               MI              FT    Data Engineer          26005   \n",
       "\n",
       "  employee_residence  remote_ratio company_location company_size  \n",
       "0                 US           100               US            M  \n",
       "1                 US           100               US            M  \n",
       "2                 US           100               US            M  \n",
       "3                 US           100               US            L  \n",
       "4                 RO             0               US            L  "
      ]
     },
     "execution_count": 3,
     "metadata": {},
     "output_type": "execute_result"
    }
   ],
   "source": [
    "salaries.drop(columns=['salary', 'salary_currency'], inplace=True)\n",
    "\n",
    "salaries.head()"
   ]
  },
  {
   "cell_type": "code",
   "execution_count": 4,
   "metadata": {},
   "outputs": [
    {
     "data": {
      "text/plain": [
       "Data Scientist                              121\n",
       "Data Engineer                               111\n",
       "Data Analyst                                 81\n",
       "Machine Learning Engineer                    31\n",
       "Research Scientist                           12\n",
       "Data Science Manager                         12\n",
       "Data Architect                                8\n",
       "Machine Learning Scientist                    7\n",
       "Data Analytics Manager                        7\n",
       "Big Data Engineer                             7\n",
       "Director of Data Science                      7\n",
       "ML Engineer                                   6\n",
       "Lead Data Engineer                            6\n",
       "Principal Data Scientist                      6\n",
       "Applied Data Scientist                        5\n",
       "Data Engineering Manager                      5\n",
       "Data Science Consultant                       5\n",
       "AI Scientist                                  5\n",
       "BI Data Analyst                               5\n",
       "Head of Data                                  4\n",
       "Business Data Analyst                         4\n",
       "Computer Vision Engineer                      4\n",
       "Analytics Engineer                            3\n",
       "Lead Data Scientist                           3\n",
       "Applied Machine Learning Scientist            3\n",
       "Cloud Data Engineer                           2\n",
       "Machine Learning Infrastructure Engineer      2\n",
       "Lead Data Analyst                             2\n",
       "Data Analytics Engineer                       2\n",
       "Director of Data Engineering                  2\n",
       "ETL Developer                                 2\n",
       "Head of Data Science                          2\n",
       "Machine Learning Developer                    2\n",
       "Data Science Engineer                         2\n",
       "Machine Learning Manager                      1\n",
       "Staff Data Scientist                          1\n",
       "Head of Machine Learning                      1\n",
       "Finance Data Analyst                          1\n",
       "Financial Data Analyst                        1\n",
       "Data Analytics Lead                           1\n",
       "3D Computer Vision Researcher                 1\n",
       "Principal Data Analyst                        1\n",
       "Product Data Analyst                          1\n",
       "Big Data Architect                            1\n",
       "Data Specialist                               1\n",
       "Lead Machine Learning Engineer                1\n",
       "Marketing Data Analyst                        1\n",
       "Computer Vision Software Engineer             1\n",
       "Name: job_title, dtype: int64"
      ]
     },
     "execution_count": 4,
     "metadata": {},
     "output_type": "execute_result"
    }
   ],
   "source": [
    "salaries['job_title'].value_counts()"
   ]
  },
  {
   "cell_type": "code",
   "execution_count": 5,
   "metadata": {},
   "outputs": [],
   "source": [
    "#cambiar el nombre de los puestos de trabajo por Data los que contengan la palabra Data\n",
    "salaries['job_title'] = salaries['job_title'].apply(lambda x: 'Data' if 'Data' in x else x)"
   ]
  },
  {
   "cell_type": "code",
   "execution_count": 6,
   "metadata": {},
   "outputs": [
    {
     "data": {
      "text/plain": [
       "Data                                        418\n",
       "Machine Learning Engineer                    31\n",
       "Research Scientist                           12\n",
       "Machine Learning Scientist                    7\n",
       "ML Engineer                                   6\n",
       "AI Scientist                                  5\n",
       "Computer Vision Engineer                      4\n",
       "Analytics Engineer                            3\n",
       "Applied Machine Learning Scientist            3\n",
       "Machine Learning Infrastructure Engineer      2\n",
       "Machine Learning Developer                    2\n",
       "ETL Developer                                 2\n",
       "Head of Machine Learning                      1\n",
       "Machine Learning Manager                      1\n",
       "Lead Machine Learning Engineer                1\n",
       "3D Computer Vision Researcher                 1\n",
       "Computer Vision Software Engineer             1\n",
       "Name: job_title, dtype: int64"
      ]
     },
     "execution_count": 6,
     "metadata": {},
     "output_type": "execute_result"
    }
   ],
   "source": [
    "salaries['job_title'].value_counts()"
   ]
  },
  {
   "cell_type": "code",
   "execution_count": 7,
   "metadata": {},
   "outputs": [],
   "source": [
    "#cambiar el nombre de los puestos de trabajo por Machine Learning los que contengas la palabra Machine Learning o ML\n",
    "salaries['job_title'] = salaries['job_title'].apply(lambda x: 'Machine Learning' if 'Machine Learning' in x or 'ML' in x else x)"
   ]
  },
  {
   "cell_type": "code",
   "execution_count": 8,
   "metadata": {},
   "outputs": [
    {
     "data": {
      "text/plain": [
       "Data                                 418\n",
       "Machine Learning                      54\n",
       "Research Scientist                    12\n",
       "AI Scientist                           5\n",
       "Computer Vision Engineer               4\n",
       "Analytics Engineer                     3\n",
       "ETL Developer                          2\n",
       "3D Computer Vision Researcher          1\n",
       "Computer Vision Software Engineer      1\n",
       "Name: job_title, dtype: int64"
      ]
     },
     "execution_count": 8,
     "metadata": {},
     "output_type": "execute_result"
    }
   ],
   "source": [
    "salaries['job_title'].value_counts()"
   ]
  },
  {
   "cell_type": "code",
   "execution_count": 9,
   "metadata": {},
   "outputs": [],
   "source": [
    "#cambiar el nombre de los puestos de trabajo por Computer Vision los que contengan la palabra Computer Vision\n",
    "salaries['job_title'] = salaries['job_title'].apply(lambda x: 'Computer Vision' if 'Computer Vision' in x else x)"
   ]
  },
  {
   "cell_type": "code",
   "execution_count": 10,
   "metadata": {},
   "outputs": [
    {
     "data": {
      "text/plain": [
       "Data                  418\n",
       "Machine Learning       54\n",
       "Research Scientist     12\n",
       "Computer Vision         6\n",
       "AI Scientist            5\n",
       "Analytics Engineer      3\n",
       "ETL Developer           2\n",
       "Name: job_title, dtype: int64"
      ]
     },
     "execution_count": 10,
     "metadata": {},
     "output_type": "execute_result"
    }
   ],
   "source": [
    "salaries['job_title'].value_counts()"
   ]
  },
  {
   "cell_type": "code",
   "execution_count": 11,
   "metadata": {},
   "outputs": [],
   "source": [
    "#añadir en Data los que se llaman Analytics Engineer y ETL developer\n",
    "salaries['job_title'] = salaries['job_title'].apply(lambda x: 'Data' if 'Analytics Engineer' in x or 'ETL Developer' in x else x)"
   ]
  },
  {
   "cell_type": "code",
   "execution_count": 12,
   "metadata": {},
   "outputs": [
    {
     "data": {
      "text/plain": [
       "Data                  423\n",
       "Machine Learning       54\n",
       "Research Scientist     12\n",
       "Computer Vision         6\n",
       "AI Scientist            5\n",
       "Name: job_title, dtype: int64"
      ]
     },
     "execution_count": 12,
     "metadata": {},
     "output_type": "execute_result"
    }
   ],
   "source": [
    "salaries['job_title'].value_counts()"
   ]
  },
  {
   "cell_type": "code",
   "execution_count": 13,
   "metadata": {},
   "outputs": [],
   "source": [
    "#Cambiar el nombre de los puestos de trabajo de Data por Data Science\n",
    "salaries['job_title'] = salaries['job_title'].apply(lambda x: 'Data Science' if 'Data' in x else x)"
   ]
  },
  {
   "cell_type": "code",
   "execution_count": 14,
   "metadata": {},
   "outputs": [
    {
     "data": {
      "text/plain": [
       "Data Science          423\n",
       "Machine Learning       54\n",
       "Research Scientist     12\n",
       "Computer Vision         6\n",
       "AI Scientist            5\n",
       "Name: job_title, dtype: int64"
      ]
     },
     "execution_count": 14,
     "metadata": {},
     "output_type": "execute_result"
    }
   ],
   "source": [
    "salaries['job_title'].value_counts()"
   ]
  },
  {
   "cell_type": "code",
   "execution_count": 15,
   "metadata": {},
   "outputs": [],
   "source": [
    "#cambiar el nombre de los puestos de trabajo por Data los que contengan la palabra Data\n",
    "salaries_test['job_title'] = salaries_test['job_title'].apply(lambda x: 'Data' if 'Data' in x else x)\n",
    "#cambiar el nombre de los puestos de trabajo por Machine Learning los que contengas la palabra Machine Learning o ML\n",
    "salaries_test['job_title'] = salaries_test['job_title'].apply(lambda x: 'Machine Learning' if 'Machine Learning' in x or 'ML' in x else x)\n",
    "#cambiar el nombre de los puestos de trabajo por Computer Vision los que contengan la palabra Computer Vision\n",
    "salaries_test['job_title'] = salaries_test['job_title'].apply(lambda x: 'Computer Vision' if 'Computer Vision' in x else x)\n",
    "#añadir en Data los que se llaman Analytics Engineer y ETL developer\n",
    "salaries_test['job_title'] = salaries_test['job_title'].apply(lambda x: 'Data' if 'Analytics Engineer' in x or 'ETL Developer' in x else x)\n",
    "#Cambiar el nombre de los puestos de trabajo de Data por Data Science\n",
    "salaries_test['job_title'] = salaries_test['job_title'].apply(lambda x: 'Data Science' if 'Data' in x else x)\n",
    "#Cambiar el nombre del puesto de trabajo de NPL engineer por AI Scientist\n",
    "salaries_test['job_title'] = salaries_test['job_title'].apply(lambda x: 'AI Scientist' if 'NLP Engineer' in x else x)"
   ]
  },
  {
   "cell_type": "code",
   "execution_count": 16,
   "metadata": {},
   "outputs": [
    {
     "data": {
      "text/plain": [
       "Data Science          82\n",
       "Machine Learning      14\n",
       "Computer Vision        4\n",
       "Research Scientist     4\n",
       "AI Scientist           3\n",
       "Name: job_title, dtype: int64"
      ]
     },
     "execution_count": 16,
     "metadata": {},
     "output_type": "execute_result"
    }
   ],
   "source": [
    "salaries_test['job_title'].value_counts()"
   ]
  },
  {
   "cell_type": "code",
   "execution_count": 17,
   "metadata": {},
   "outputs": [],
   "source": [
    "#hacer get dummies de la columna job_title en salaries\n",
    "salaries = pd.get_dummies(salaries, columns=['job_title'], drop_first=True)\n",
    "#hacer get dummies de la columna job_title en salaries_test\n",
    "salaries_test = pd.get_dummies(salaries_test, columns=['job_title'], drop_first=True)"
   ]
  },
  {
   "cell_type": "code",
   "execution_count": 18,
   "metadata": {},
   "outputs": [
    {
     "data": {
      "text/html": [
       "<div>\n",
       "<style scoped>\n",
       "    .dataframe tbody tr th:only-of-type {\n",
       "        vertical-align: middle;\n",
       "    }\n",
       "\n",
       "    .dataframe tbody tr th {\n",
       "        vertical-align: top;\n",
       "    }\n",
       "\n",
       "    .dataframe thead th {\n",
       "        text-align: right;\n",
       "    }\n",
       "</style>\n",
       "<table border=\"1\" class=\"dataframe\">\n",
       "  <thead>\n",
       "    <tr style=\"text-align: right;\">\n",
       "      <th></th>\n",
       "      <th>work_year</th>\n",
       "      <th>experience_level</th>\n",
       "      <th>employment_type</th>\n",
       "      <th>employee_residence</th>\n",
       "      <th>remote_ratio</th>\n",
       "      <th>company_location</th>\n",
       "      <th>company_size</th>\n",
       "      <th>job_title_Computer Vision</th>\n",
       "      <th>job_title_Data Science</th>\n",
       "      <th>job_title_Machine Learning</th>\n",
       "      <th>job_title_Research Scientist</th>\n",
       "    </tr>\n",
       "  </thead>\n",
       "  <tbody>\n",
       "    <tr>\n",
       "      <th>0</th>\n",
       "      <td>2020</td>\n",
       "      <td>SE</td>\n",
       "      <td>FT</td>\n",
       "      <td>JP</td>\n",
       "      <td>0</td>\n",
       "      <td>JP</td>\n",
       "      <td>S</td>\n",
       "      <td>0</td>\n",
       "      <td>0</td>\n",
       "      <td>1</td>\n",
       "      <td>0</td>\n",
       "    </tr>\n",
       "    <tr>\n",
       "      <th>1</th>\n",
       "      <td>2020</td>\n",
       "      <td>MI</td>\n",
       "      <td>FT</td>\n",
       "      <td>US</td>\n",
       "      <td>100</td>\n",
       "      <td>US</td>\n",
       "      <td>L</td>\n",
       "      <td>0</td>\n",
       "      <td>1</td>\n",
       "      <td>0</td>\n",
       "      <td>0</td>\n",
       "    </tr>\n",
       "    <tr>\n",
       "      <th>2</th>\n",
       "      <td>2020</td>\n",
       "      <td>MI</td>\n",
       "      <td>FT</td>\n",
       "      <td>US</td>\n",
       "      <td>100</td>\n",
       "      <td>US</td>\n",
       "      <td>L</td>\n",
       "      <td>0</td>\n",
       "      <td>1</td>\n",
       "      <td>0</td>\n",
       "      <td>0</td>\n",
       "    </tr>\n",
       "    <tr>\n",
       "      <th>3</th>\n",
       "      <td>2020</td>\n",
       "      <td>MI</td>\n",
       "      <td>FT</td>\n",
       "      <td>CN</td>\n",
       "      <td>0</td>\n",
       "      <td>CN</td>\n",
       "      <td>M</td>\n",
       "      <td>0</td>\n",
       "      <td>0</td>\n",
       "      <td>1</td>\n",
       "      <td>0</td>\n",
       "    </tr>\n",
       "    <tr>\n",
       "      <th>4</th>\n",
       "      <td>2020</td>\n",
       "      <td>MI</td>\n",
       "      <td>FT</td>\n",
       "      <td>IN</td>\n",
       "      <td>100</td>\n",
       "      <td>IN</td>\n",
       "      <td>L</td>\n",
       "      <td>0</td>\n",
       "      <td>1</td>\n",
       "      <td>0</td>\n",
       "      <td>0</td>\n",
       "    </tr>\n",
       "  </tbody>\n",
       "</table>\n",
       "</div>"
      ],
      "text/plain": [
       "   work_year experience_level employment_type employee_residence  \\\n",
       "0       2020               SE              FT                 JP   \n",
       "1       2020               MI              FT                 US   \n",
       "2       2020               MI              FT                 US   \n",
       "3       2020               MI              FT                 CN   \n",
       "4       2020               MI              FT                 IN   \n",
       "\n",
       "   remote_ratio company_location company_size  job_title_Computer Vision  \\\n",
       "0             0               JP            S                          0   \n",
       "1           100               US            L                          0   \n",
       "2           100               US            L                          0   \n",
       "3             0               CN            M                          0   \n",
       "4           100               IN            L                          0   \n",
       "\n",
       "   job_title_Data Science  job_title_Machine Learning  \\\n",
       "0                       0                           1   \n",
       "1                       1                           0   \n",
       "2                       1                           0   \n",
       "3                       0                           1   \n",
       "4                       1                           0   \n",
       "\n",
       "   job_title_Research Scientist  \n",
       "0                             0  \n",
       "1                             0  \n",
       "2                             0  \n",
       "3                             0  \n",
       "4                             0  "
      ]
     },
     "execution_count": 18,
     "metadata": {},
     "output_type": "execute_result"
    }
   ],
   "source": [
    "salaries_test.head()\n"
   ]
  },
  {
   "cell_type": "code",
   "execution_count": 19,
   "metadata": {},
   "outputs": [
    {
     "data": {
      "text/html": [
       "<div>\n",
       "<style scoped>\n",
       "    .dataframe tbody tr th:only-of-type {\n",
       "        vertical-align: middle;\n",
       "    }\n",
       "\n",
       "    .dataframe tbody tr th {\n",
       "        vertical-align: top;\n",
       "    }\n",
       "\n",
       "    .dataframe thead th {\n",
       "        text-align: right;\n",
       "    }\n",
       "</style>\n",
       "<table border=\"1\" class=\"dataframe\">\n",
       "  <thead>\n",
       "    <tr style=\"text-align: right;\">\n",
       "      <th></th>\n",
       "      <th>work_year</th>\n",
       "      <th>experience_level</th>\n",
       "      <th>employment_type</th>\n",
       "      <th>salary_in_usd</th>\n",
       "      <th>employee_residence</th>\n",
       "      <th>remote_ratio</th>\n",
       "      <th>company_location</th>\n",
       "      <th>company_size</th>\n",
       "      <th>job_title_Computer Vision</th>\n",
       "      <th>job_title_Data Science</th>\n",
       "      <th>job_title_Machine Learning</th>\n",
       "      <th>job_title_Research Scientist</th>\n",
       "    </tr>\n",
       "  </thead>\n",
       "  <tbody>\n",
       "    <tr>\n",
       "      <th>0</th>\n",
       "      <td>2022</td>\n",
       "      <td>SE</td>\n",
       "      <td>FT</td>\n",
       "      <td>140250</td>\n",
       "      <td>US</td>\n",
       "      <td>100</td>\n",
       "      <td>US</td>\n",
       "      <td>M</td>\n",
       "      <td>0</td>\n",
       "      <td>1</td>\n",
       "      <td>0</td>\n",
       "      <td>0</td>\n",
       "    </tr>\n",
       "    <tr>\n",
       "      <th>1</th>\n",
       "      <td>2022</td>\n",
       "      <td>SE</td>\n",
       "      <td>FT</td>\n",
       "      <td>135000</td>\n",
       "      <td>US</td>\n",
       "      <td>100</td>\n",
       "      <td>US</td>\n",
       "      <td>M</td>\n",
       "      <td>0</td>\n",
       "      <td>1</td>\n",
       "      <td>0</td>\n",
       "      <td>0</td>\n",
       "    </tr>\n",
       "    <tr>\n",
       "      <th>2</th>\n",
       "      <td>2021</td>\n",
       "      <td>MI</td>\n",
       "      <td>FT</td>\n",
       "      <td>100000</td>\n",
       "      <td>US</td>\n",
       "      <td>100</td>\n",
       "      <td>US</td>\n",
       "      <td>M</td>\n",
       "      <td>0</td>\n",
       "      <td>1</td>\n",
       "      <td>0</td>\n",
       "      <td>0</td>\n",
       "    </tr>\n",
       "    <tr>\n",
       "      <th>3</th>\n",
       "      <td>2021</td>\n",
       "      <td>MI</td>\n",
       "      <td>CT</td>\n",
       "      <td>270000</td>\n",
       "      <td>US</td>\n",
       "      <td>100</td>\n",
       "      <td>US</td>\n",
       "      <td>L</td>\n",
       "      <td>0</td>\n",
       "      <td>0</td>\n",
       "      <td>1</td>\n",
       "      <td>0</td>\n",
       "    </tr>\n",
       "    <tr>\n",
       "      <th>4</th>\n",
       "      <td>2021</td>\n",
       "      <td>MI</td>\n",
       "      <td>FT</td>\n",
       "      <td>26005</td>\n",
       "      <td>RO</td>\n",
       "      <td>0</td>\n",
       "      <td>US</td>\n",
       "      <td>L</td>\n",
       "      <td>0</td>\n",
       "      <td>1</td>\n",
       "      <td>0</td>\n",
       "      <td>0</td>\n",
       "    </tr>\n",
       "  </tbody>\n",
       "</table>\n",
       "</div>"
      ],
      "text/plain": [
       "   work_year experience_level employment_type  salary_in_usd  \\\n",
       "0       2022               SE              FT         140250   \n",
       "1       2022               SE              FT         135000   \n",
       "2       2021               MI              FT         100000   \n",
       "3       2021               MI              CT         270000   \n",
       "4       2021               MI              FT          26005   \n",
       "\n",
       "  employee_residence  remote_ratio company_location company_size  \\\n",
       "0                 US           100               US            M   \n",
       "1                 US           100               US            M   \n",
       "2                 US           100               US            M   \n",
       "3                 US           100               US            L   \n",
       "4                 RO             0               US            L   \n",
       "\n",
       "   job_title_Computer Vision  job_title_Data Science  \\\n",
       "0                          0                       1   \n",
       "1                          0                       1   \n",
       "2                          0                       1   \n",
       "3                          0                       0   \n",
       "4                          0                       1   \n",
       "\n",
       "   job_title_Machine Learning  job_title_Research Scientist  \n",
       "0                           0                             0  \n",
       "1                           0                             0  \n",
       "2                           0                             0  \n",
       "3                           1                             0  \n",
       "4                           0                             0  "
      ]
     },
     "execution_count": 19,
     "metadata": {},
     "output_type": "execute_result"
    }
   ],
   "source": [
    "salaries.head()"
   ]
  },
  {
   "cell_type": "code",
   "execution_count": 20,
   "metadata": {},
   "outputs": [],
   "source": [
    "#hacer label encoder de las columnas experience_level, employment_type, employee_residence, company_location y company_size en salaries y salaries_test\n",
    "from sklearn.preprocessing import LabelEncoder\n",
    "le = LabelEncoder()\n",
    "salaries['experience_level'] = le.fit_transform(salaries['experience_level'])\n",
    "salaries['employment_type'] = le.fit_transform(salaries['employment_type'])\n",
    "salaries['employee_residence'] = le.fit_transform(salaries['employee_residence'])\n",
    "salaries['company_location'] = le.fit_transform(salaries['company_location'])\n",
    "salaries['company_size'] = le.fit_transform(salaries['company_size'])\n",
    "salaries_test['experience_level'] = le.fit_transform(salaries_test['experience_level'])\n",
    "salaries_test['employment_type'] = le.fit_transform(salaries_test['employment_type'])\n",
    "salaries_test['employee_residence'] = le.fit_transform(salaries_test['employee_residence'])\n",
    "salaries_test['company_location'] = le.fit_transform(salaries_test['company_location'])\n",
    "salaries_test['company_size'] = le.fit_transform(salaries_test['company_size'])"
   ]
  },
  {
   "cell_type": "code",
   "execution_count": 21,
   "metadata": {},
   "outputs": [],
   "source": [
    "X = salaries.drop(columns=['salary_in_usd'])\n",
    "\n",
    "y = salaries['salary_in_usd']"
   ]
  },
  {
   "cell_type": "code",
   "execution_count": 22,
   "metadata": {},
   "outputs": [
    {
     "data": {
      "text/plain": [
       "((400, 11), (100, 11), (400,), (100,))"
      ]
     },
     "execution_count": 22,
     "metadata": {},
     "output_type": "execute_result"
    }
   ],
   "source": [
    "from sklearn.model_selection import train_test_split as tts\n",
    "\n",
    "X_train, X_test, y_train, y_test  = tts(X, y, train_size=0.8, test_size=0.2, random_state=42)\n",
    "\n",
    "X_train.shape, X_test.shape, y_train.shape, y_test.shape"
   ]
  },
  {
   "cell_type": "code",
   "execution_count": 23,
   "metadata": {},
   "outputs": [],
   "source": [
    "from sklearn.linear_model import LinearRegression as LinReg   # alias es mio\n",
    "\n",
    "from sklearn.linear_model import Lasso        # regularizacion L1\n",
    "from sklearn.linear_model import Ridge        # regularizacion L2\n",
    "from sklearn.linear_model import ElasticNet   # regularizacion L1+L2\n",
    "\n",
    "\n",
    "# se inician los modelos\n",
    "\n",
    "linreg=LinReg()\n",
    "lasso=Lasso()\n",
    "ridge=Ridge()\n",
    "elastic=ElasticNet()"
   ]
  },
  {
   "cell_type": "code",
   "execution_count": 24,
   "metadata": {},
   "outputs": [],
   "source": [
    "from sklearn.svm import SVR  # support vector regressor\n",
    "\n",
    "svr=SVR()"
   ]
  },
  {
   "cell_type": "code",
   "execution_count": 25,
   "metadata": {},
   "outputs": [],
   "source": [
    "from sklearn.ensemble import RandomForestRegressor as RFR  \n",
    "\n",
    "from sklearn.tree import ExtraTreeRegressor as ETR\n",
    "\n",
    "rfr=RFR()\n",
    "\n",
    "etr=ETR()"
   ]
  },
  {
   "cell_type": "code",
   "execution_count": 26,
   "metadata": {},
   "outputs": [],
   "source": [
    "\n",
    "from sklearn.ensemble import GradientBoostingRegressor as GBR\n",
    "\n",
    "from xgboost import XGBRegressor as XGBR\n",
    "\n",
    "from catboost import CatBoostRegressor as CTR\n",
    "\n",
    "from lightgbm import LGBMRegressor as LGBMR\n",
    "\n",
    "\n",
    "gbr=GBR()\n",
    "xgbr=XGBR()\n",
    "ctr=CTR()\n",
    "lgbmr=LGBMR()"
   ]
  },
  {
   "cell_type": "code",
   "execution_count": 27,
   "metadata": {},
   "outputs": [
    {
     "data": {
      "text/plain": [
       "<lazypredict.Supervised.LazyRegressor at 0x7ff769bebd90>"
      ]
     },
     "execution_count": 27,
     "metadata": {},
     "output_type": "execute_result"
    }
   ],
   "source": [
    "from lazypredict.Supervised import LazyRegressor \n",
    "\n",
    "lazy=LazyRegressor()\n",
    "\n",
    "lazy"
   ]
  },
  {
   "cell_type": "code",
   "execution_count": 28,
   "metadata": {},
   "outputs": [
    {
     "name": "stderr",
     "output_type": "stream",
     "text": [
      "100%|██████████| 42/42 [00:02<00:00, 17.92it/s]\n"
     ]
    },
    {
     "data": {
      "text/plain": [
       "(                               Adjusted R-Squared  R-Squared      RMSE  \\\n",
       " Model                                                                    \n",
       " HistGradientBoostingRegressor                0.32       0.40  48629.95   \n",
       " GradientBoostingRegressor                    0.27       0.35  50546.37   \n",
       " LGBMRegressor                                0.26       0.34  50643.88   \n",
       " RandomForestRegressor                        0.24       0.33  51264.23   \n",
       " ExtraTreesRegressor                          0.24       0.32  51437.52   \n",
       " PassiveAggressiveRegressor                   0.24       0.32  51496.72   \n",
       " XGBRegressor                                 0.23       0.32  51582.84   \n",
       " BaggingRegressor                             0.21       0.30  52363.33   \n",
       " HuberRegressor                               0.21       0.30  52377.03   \n",
       " ElasticNet                                   0.18       0.27  53484.62   \n",
       " KNeighborsRegressor                          0.18       0.27  53495.39   \n",
       " BayesianRidge                                0.17       0.26  53765.42   \n",
       " LarsCV                                       0.17       0.26  53831.03   \n",
       " LassoLarsCV                                  0.17       0.26  53831.03   \n",
       " TweedieRegressor                             0.17       0.26  53849.56   \n",
       " LassoCV                                      0.17       0.26  53861.15   \n",
       " LassoLarsIC                                  0.16       0.26  53894.91   \n",
       " SGDRegressor                                 0.16       0.26  53979.99   \n",
       " RidgeCV                                      0.16       0.26  53987.49   \n",
       " GammaRegressor                               0.16       0.25  54055.82   \n",
       " LassoLars                                    0.16       0.25  54134.56   \n",
       " Ridge                                        0.16       0.25  54143.29   \n",
       " OrthogonalMatchingPursuit                    0.16       0.25  54164.02   \n",
       " Lasso                                        0.16       0.25  54170.97   \n",
       " Lars                                         0.16       0.25  54172.92   \n",
       " LinearRegression                             0.16       0.25  54172.92   \n",
       " TransformedTargetRegressor                   0.16       0.25  54172.92   \n",
       " OrthogonalMatchingPursuitCV                  0.14       0.23  54817.46   \n",
       " AdaBoostRegressor                            0.12       0.22  55362.70   \n",
       " PoissonRegressor                             0.11       0.21  55722.68   \n",
       " ExtraTreeRegressor                           0.02       0.13  58366.81   \n",
       " ElasticNetCV                                -0.09       0.03  61477.77   \n",
       " DecisionTreeRegressor                       -0.10       0.02  61810.46   \n",
       " NuSVR                                       -0.13      -0.00  62588.83   \n",
       " DummyRegressor                              -0.13      -0.00  62674.87   \n",
       " QuantileRegressor                           -0.14      -0.02  63040.21   \n",
       " SVR                                         -0.14      -0.02  63054.73   \n",
       " RANSACRegressor                             -1.41      -1.14  91560.38   \n",
       " GaussianProcessRegressor                    -3.23      -2.76 121302.01   \n",
       " KernelRidge                                 -3.29      -2.82 122218.57   \n",
       " LinearSVR                                   -3.57      -3.06 126076.52   \n",
       " MLPRegressor                                -3.59      -3.08 126370.09   \n",
       " \n",
       "                                Time Taken  \n",
       " Model                                      \n",
       " HistGradientBoostingRegressor        0.15  \n",
       " GradientBoostingRegressor            0.03  \n",
       " LGBMRegressor                        0.22  \n",
       " RandomForestRegressor                0.10  \n",
       " ExtraTreesRegressor                  0.08  \n",
       " PassiveAggressiveRegressor           0.02  \n",
       " XGBRegressor                         0.25  \n",
       " BaggingRegressor                     0.02  \n",
       " HuberRegressor                       0.01  \n",
       " ElasticNet                           0.00  \n",
       " KNeighborsRegressor                  0.01  \n",
       " BayesianRidge                        0.01  \n",
       " LarsCV                               0.01  \n",
       " LassoLarsCV                          0.01  \n",
       " TweedieRegressor                     0.01  \n",
       " LassoCV                              0.04  \n",
       " LassoLarsIC                          0.01  \n",
       " SGDRegressor                         0.01  \n",
       " RidgeCV                              0.00  \n",
       " GammaRegressor                       0.01  \n",
       " LassoLars                            0.01  \n",
       " Ridge                                0.00  \n",
       " OrthogonalMatchingPursuit            0.00  \n",
       " Lasso                                0.00  \n",
       " Lars                                 0.01  \n",
       " LinearRegression                     0.00  \n",
       " TransformedTargetRegressor           0.00  \n",
       " OrthogonalMatchingPursuitCV          0.01  \n",
       " AdaBoostRegressor                    0.02  \n",
       " PoissonRegressor                     0.01  \n",
       " ExtraTreeRegressor                   0.00  \n",
       " ElasticNetCV                         0.03  \n",
       " DecisionTreeRegressor                0.00  \n",
       " NuSVR                                0.01  \n",
       " DummyRegressor                       0.00  \n",
       " QuantileRegressor                    0.95  \n",
       " SVR                                  0.02  \n",
       " RANSACRegressor                      0.03  \n",
       " GaussianProcessRegressor             0.01  \n",
       " KernelRidge                          0.01  \n",
       " LinearSVR                            0.00  \n",
       " MLPRegressor                         0.20  ,\n",
       "                                Adjusted R-Squared  R-Squared      RMSE  \\\n",
       " Model                                                                    \n",
       " HistGradientBoostingRegressor                0.32       0.40  48629.95   \n",
       " GradientBoostingRegressor                    0.27       0.35  50546.37   \n",
       " LGBMRegressor                                0.26       0.34  50643.88   \n",
       " RandomForestRegressor                        0.24       0.33  51264.23   \n",
       " ExtraTreesRegressor                          0.24       0.32  51437.52   \n",
       " PassiveAggressiveRegressor                   0.24       0.32  51496.72   \n",
       " XGBRegressor                                 0.23       0.32  51582.84   \n",
       " BaggingRegressor                             0.21       0.30  52363.33   \n",
       " HuberRegressor                               0.21       0.30  52377.03   \n",
       " ElasticNet                                   0.18       0.27  53484.62   \n",
       " KNeighborsRegressor                          0.18       0.27  53495.39   \n",
       " BayesianRidge                                0.17       0.26  53765.42   \n",
       " LarsCV                                       0.17       0.26  53831.03   \n",
       " LassoLarsCV                                  0.17       0.26  53831.03   \n",
       " TweedieRegressor                             0.17       0.26  53849.56   \n",
       " LassoCV                                      0.17       0.26  53861.15   \n",
       " LassoLarsIC                                  0.16       0.26  53894.91   \n",
       " SGDRegressor                                 0.16       0.26  53979.99   \n",
       " RidgeCV                                      0.16       0.26  53987.49   \n",
       " GammaRegressor                               0.16       0.25  54055.82   \n",
       " LassoLars                                    0.16       0.25  54134.56   \n",
       " Ridge                                        0.16       0.25  54143.29   \n",
       " OrthogonalMatchingPursuit                    0.16       0.25  54164.02   \n",
       " Lasso                                        0.16       0.25  54170.97   \n",
       " Lars                                         0.16       0.25  54172.92   \n",
       " LinearRegression                             0.16       0.25  54172.92   \n",
       " TransformedTargetRegressor                   0.16       0.25  54172.92   \n",
       " OrthogonalMatchingPursuitCV                  0.14       0.23  54817.46   \n",
       " AdaBoostRegressor                            0.12       0.22  55362.70   \n",
       " PoissonRegressor                             0.11       0.21  55722.68   \n",
       " ExtraTreeRegressor                           0.02       0.13  58366.81   \n",
       " ElasticNetCV                                -0.09       0.03  61477.77   \n",
       " DecisionTreeRegressor                       -0.10       0.02  61810.46   \n",
       " NuSVR                                       -0.13      -0.00  62588.83   \n",
       " DummyRegressor                              -0.13      -0.00  62674.87   \n",
       " QuantileRegressor                           -0.14      -0.02  63040.21   \n",
       " SVR                                         -0.14      -0.02  63054.73   \n",
       " RANSACRegressor                             -1.41      -1.14  91560.38   \n",
       " GaussianProcessRegressor                    -3.23      -2.76 121302.01   \n",
       " KernelRidge                                 -3.29      -2.82 122218.57   \n",
       " LinearSVR                                   -3.57      -3.06 126076.52   \n",
       " MLPRegressor                                -3.59      -3.08 126370.09   \n",
       " \n",
       "                                Time Taken  \n",
       " Model                                      \n",
       " HistGradientBoostingRegressor        0.15  \n",
       " GradientBoostingRegressor            0.03  \n",
       " LGBMRegressor                        0.22  \n",
       " RandomForestRegressor                0.10  \n",
       " ExtraTreesRegressor                  0.08  \n",
       " PassiveAggressiveRegressor           0.02  \n",
       " XGBRegressor                         0.25  \n",
       " BaggingRegressor                     0.02  \n",
       " HuberRegressor                       0.01  \n",
       " ElasticNet                           0.00  \n",
       " KNeighborsRegressor                  0.01  \n",
       " BayesianRidge                        0.01  \n",
       " LarsCV                               0.01  \n",
       " LassoLarsCV                          0.01  \n",
       " TweedieRegressor                     0.01  \n",
       " LassoCV                              0.04  \n",
       " LassoLarsIC                          0.01  \n",
       " SGDRegressor                         0.01  \n",
       " RidgeCV                              0.00  \n",
       " GammaRegressor                       0.01  \n",
       " LassoLars                            0.01  \n",
       " Ridge                                0.00  \n",
       " OrthogonalMatchingPursuit            0.00  \n",
       " Lasso                                0.00  \n",
       " Lars                                 0.01  \n",
       " LinearRegression                     0.00  \n",
       " TransformedTargetRegressor           0.00  \n",
       " OrthogonalMatchingPursuitCV          0.01  \n",
       " AdaBoostRegressor                    0.02  \n",
       " PoissonRegressor                     0.01  \n",
       " ExtraTreeRegressor                   0.00  \n",
       " ElasticNetCV                         0.03  \n",
       " DecisionTreeRegressor                0.00  \n",
       " NuSVR                                0.01  \n",
       " DummyRegressor                       0.00  \n",
       " QuantileRegressor                    0.95  \n",
       " SVR                                  0.02  \n",
       " RANSACRegressor                      0.03  \n",
       " GaussianProcessRegressor             0.01  \n",
       " KernelRidge                          0.01  \n",
       " LinearSVR                            0.00  \n",
       " MLPRegressor                         0.20  )"
      ]
     },
     "execution_count": 28,
     "metadata": {},
     "output_type": "execute_result"
    }
   ],
   "source": [
    "linreg.fit(X_train, y_train)\n",
    "lasso.fit(X_train, y_train)\n",
    "ridge.fit(X_train, y_train)\n",
    "elastic.fit(X_train, y_train)\n",
    "svr.fit(X_train, y_train)\n",
    "rfr.fit(X_train, y_train)\n",
    "etr.fit(X_train, y_train)\n",
    "gbr.fit(X_train, y_train)\n",
    "xgbr.fit(X_train, y_train)\n",
    "ctr.fit(X_train, y_train, verbose=0)\n",
    "lgbmr.fit(X_train, y_train)\n",
    "lazy.fit(X_train, X_test, y_train, y_test)"
   ]
  },
  {
   "cell_type": "code",
   "execution_count": 29,
   "metadata": {},
   "outputs": [
    {
     "data": {
      "text/plain": [
       "48514.38526543821"
      ]
     },
     "execution_count": 29,
     "metadata": {},
     "output_type": "execute_result"
    }
   ],
   "source": [
    "#hacer el modelo  HistGradientBoostingRegressor  de sklearn\n",
    "from sklearn.ensemble import HistGradientBoostingRegressor as HGBR\n",
    "hgb=HGBR()\n",
    "hgb.fit(X_train, y_train)\n",
    "#predecir con el modelo HistGradientBoostingRegressor\n",
    "y_pred_hgb = hgb.predict(X_test)\n",
    "#calcular el mse con el modelo HistGradientBoostingRegressor\n",
    "from sklearn.metrics import mean_squared_error as mse\n",
    "mse(y_test, y_pred_hgb, squared=False)"
   ]
  },
  {
   "cell_type": "code",
   "execution_count": 30,
   "metadata": {},
   "outputs": [
    {
     "data": {
      "text/plain": [
       "48514.38526543821"
      ]
     },
     "execution_count": 30,
     "metadata": {},
     "output_type": "execute_result"
    }
   ],
   "source": [
    "#reentrear el modelo HistGradientBoostingRegressor con todos los datos\n",
    "hgb.fit(X, y)\n",
    "#predecir con el modelo HistGradientBoostingRegressor con los datos de test\n",
    "y_pred_hgb_test = hgb.predict(salaries_test)\n",
    "#calcular el mse con el modelo HistGradientBoostingRegressor\n",
    "mse(y_test, y_pred_hgb, squared=False)"
   ]
  },
  {
   "cell_type": "code",
   "execution_count": 31,
   "metadata": {},
   "outputs": [
    {
     "data": {
      "text/html": [
       "<div>\n",
       "<style scoped>\n",
       "    .dataframe tbody tr th:only-of-type {\n",
       "        vertical-align: middle;\n",
       "    }\n",
       "\n",
       "    .dataframe tbody tr th {\n",
       "        vertical-align: top;\n",
       "    }\n",
       "\n",
       "    .dataframe thead th {\n",
       "        text-align: right;\n",
       "    }\n",
       "</style>\n",
       "<table border=\"1\" class=\"dataframe\">\n",
       "  <thead>\n",
       "    <tr style=\"text-align: right;\">\n",
       "      <th></th>\n",
       "      <th>salary_in_usd</th>\n",
       "    </tr>\n",
       "  </thead>\n",
       "  <tbody>\n",
       "    <tr>\n",
       "      <th>0</th>\n",
       "      <td>78534.10</td>\n",
       "    </tr>\n",
       "    <tr>\n",
       "      <th>1</th>\n",
       "      <td>40038.00</td>\n",
       "    </tr>\n",
       "    <tr>\n",
       "      <th>2</th>\n",
       "      <td>40038.00</td>\n",
       "    </tr>\n",
       "    <tr>\n",
       "      <th>3</th>\n",
       "      <td>101032.25</td>\n",
       "    </tr>\n",
       "    <tr>\n",
       "      <th>4</th>\n",
       "      <td>42303.21</td>\n",
       "    </tr>\n",
       "    <tr>\n",
       "      <th>...</th>\n",
       "      <td>...</td>\n",
       "    </tr>\n",
       "    <tr>\n",
       "      <th>102</th>\n",
       "      <td>120534.63</td>\n",
       "    </tr>\n",
       "    <tr>\n",
       "      <th>103</th>\n",
       "      <td>120534.63</td>\n",
       "    </tr>\n",
       "    <tr>\n",
       "      <th>104</th>\n",
       "      <td>120534.63</td>\n",
       "    </tr>\n",
       "    <tr>\n",
       "      <th>105</th>\n",
       "      <td>66683.73</td>\n",
       "    </tr>\n",
       "    <tr>\n",
       "      <th>106</th>\n",
       "      <td>104823.55</td>\n",
       "    </tr>\n",
       "  </tbody>\n",
       "</table>\n",
       "<p>107 rows × 1 columns</p>\n",
       "</div>"
      ],
      "text/plain": [
       "     salary_in_usd\n",
       "0         78534.10\n",
       "1         40038.00\n",
       "2         40038.00\n",
       "3        101032.25\n",
       "4         42303.21\n",
       "..             ...\n",
       "102      120534.63\n",
       "103      120534.63\n",
       "104      120534.63\n",
       "105       66683.73\n",
       "106      104823.55\n",
       "\n",
       "[107 rows x 1 columns]"
      ]
     },
     "execution_count": 31,
     "metadata": {},
     "output_type": "execute_result"
    }
   ],
   "source": [
    "df = pd.DataFrame({'salary_in_usd': y_pred_hgb_test})\n",
    "df.to_csv('competi.csv', index=True, index_label='id')\n",
    "df"
   ]
  },
  {
   "cell_type": "code",
   "execution_count": null,
   "metadata": {},
   "outputs": [],
   "source": []
  }
 ],
 "metadata": {
  "kernelspec": {
   "display_name": "base",
   "language": "python",
   "name": "python3"
  },
  "language_info": {
   "codemirror_mode": {
    "name": "ipython",
    "version": 3
   },
   "file_extension": ".py",
   "mimetype": "text/x-python",
   "name": "python",
   "nbconvert_exporter": "python",
   "pygments_lexer": "ipython3",
   "version": "3.9.13"
  },
  "orig_nbformat": 4,
  "vscode": {
   "interpreter": {
    "hash": "d2c4068c2c8c269a5988ea04b5d610d8f7e2ec4f0cfc78369f236380ffcfebe5"
   }
  }
 },
 "nbformat": 4,
 "nbformat_minor": 2
}
