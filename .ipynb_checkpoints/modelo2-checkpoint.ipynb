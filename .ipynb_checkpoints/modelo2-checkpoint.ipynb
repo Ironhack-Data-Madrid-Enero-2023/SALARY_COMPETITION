{
 "cells": [
  {
   "cell_type": "code",
   "execution_count": 1,
   "id": "c77d81de",
   "metadata": {},
   "outputs": [],
   "source": [
    "import pandas as pd\n",
    "from sklearn.model_selection import train_test_split\n",
    "from sklearn.linear_model import LinearRegression\n",
    "from sklearn.metrics import mean_squared_error\n",
    "import numpy as np\n",
    "import matplotlib.pyplot as plt\n",
    "%matplotlib inline\n",
    "import seaborn as sns\n",
    "from pandas.plotting import scatter_matrix"
   ]
  },
  {
   "cell_type": "code",
   "execution_count": 2,
   "id": "4e85dca0",
   "metadata": {},
   "outputs": [],
   "source": [
    "salaries_data2 = pd.read_csv('C:/Users/usuario/Desktop/SALARY_COMPETITION/data/salaries_data.csv')\n"
   ]
  },
  {
   "cell_type": "code",
   "execution_count": 4,
   "id": "ccce51a8",
   "metadata": {},
   "outputs": [],
   "source": [
    "salaries_data2 = salaries_data2.drop(['salary', 'salary_currency'], axis=1)"
   ]
  },
  {
   "cell_type": "code",
   "execution_count": 6,
   "id": "e9c44a99",
   "metadata": {},
   "outputs": [
    {
     "name": "stdout",
     "output_type": "stream",
     "text": [
      "Hay 4 valores únicos en la columna 'employment_type'\n"
     ]
    }
   ],
   "source": [
    "unique_values = salaries_data2['employment_type'].nunique()\n",
    "\n",
    "# Imprimir número de valores únicos\n",
    "print(\"Hay {} valores únicos en la columna 'employment_type'\".format(unique_values))"
   ]
  },
  {
   "cell_type": "code",
   "execution_count": 7,
   "id": "3f98008b",
   "metadata": {},
   "outputs": [
    {
     "name": "stdout",
     "output_type": "stream",
     "text": [
      "FT    484\n",
      "PT      8\n",
      "CT      4\n",
      "FL      4\n",
      "Name: employment_type, dtype: int64\n"
     ]
    }
   ],
   "source": [
    "counts = salaries_data2['employment_type'].value_counts()\n",
    "\n",
    "# Imprimir conteo de ocurrencias\n",
    "print(counts)"
   ]
  },
  {
   "cell_type": "code",
   "execution_count": null,
   "id": "92eb6649",
   "metadata": {},
   "outputs": [],
   "source": [
    "#Podemos eliminar esa columna ya que el 98% de los datos son de un solo valor único"
   ]
  },
  {
   "cell_type": "code",
   "execution_count": 8,
   "id": "ad7943d2",
   "metadata": {},
   "outputs": [],
   "source": [
    "salaries_data2 = salaries_data2.drop(['employment_type'], axis=1)"
   ]
  },
  {
   "cell_type": "code",
   "execution_count": 9,
   "id": "22009a4c",
   "metadata": {},
   "outputs": [
    {
     "data": {
      "text/plain": [
       "'En este modelo voy a eliminar la columna work_year ya que está muy relacionada con experience_level y me quedo con esta última'"
      ]
     },
     "execution_count": 9,
     "metadata": {},
     "output_type": "execute_result"
    }
   ],
   "source": [
    "\"\"\"En este modelo voy a eliminar la columna work_year ya que está muy relacionada con experience_level y me quedo con esta última\"\"\""
   ]
  },
  {
   "cell_type": "code",
   "execution_count": 10,
   "id": "bf7c9e89",
   "metadata": {},
   "outputs": [],
   "source": [
    "salaries_data2 = salaries_data2.drop(['work_year'], axis=1)"
   ]
  },
  {
   "cell_type": "code",
   "execution_count": 11,
   "id": "b5969853",
   "metadata": {},
   "outputs": [
    {
     "data": {
      "text/html": [
       "<div>\n",
       "<style scoped>\n",
       "    .dataframe tbody tr th:only-of-type {\n",
       "        vertical-align: middle;\n",
       "    }\n",
       "\n",
       "    .dataframe tbody tr th {\n",
       "        vertical-align: top;\n",
       "    }\n",
       "\n",
       "    .dataframe thead th {\n",
       "        text-align: right;\n",
       "    }\n",
       "</style>\n",
       "<table border=\"1\" class=\"dataframe\">\n",
       "  <thead>\n",
       "    <tr style=\"text-align: right;\">\n",
       "      <th></th>\n",
       "      <th>experience_level</th>\n",
       "      <th>job_title</th>\n",
       "      <th>salary_in_usd</th>\n",
       "      <th>employee_residence</th>\n",
       "      <th>remote_ratio</th>\n",
       "      <th>company_location</th>\n",
       "      <th>company_size</th>\n",
       "    </tr>\n",
       "  </thead>\n",
       "  <tbody>\n",
       "    <tr>\n",
       "      <th>0</th>\n",
       "      <td>SE</td>\n",
       "      <td>Data Engineer</td>\n",
       "      <td>140250</td>\n",
       "      <td>US</td>\n",
       "      <td>100</td>\n",
       "      <td>US</td>\n",
       "      <td>M</td>\n",
       "    </tr>\n",
       "    <tr>\n",
       "      <th>1</th>\n",
       "      <td>SE</td>\n",
       "      <td>Data Engineer</td>\n",
       "      <td>135000</td>\n",
       "      <td>US</td>\n",
       "      <td>100</td>\n",
       "      <td>US</td>\n",
       "      <td>M</td>\n",
       "    </tr>\n",
       "    <tr>\n",
       "      <th>2</th>\n",
       "      <td>MI</td>\n",
       "      <td>BI Data Analyst</td>\n",
       "      <td>100000</td>\n",
       "      <td>US</td>\n",
       "      <td>100</td>\n",
       "      <td>US</td>\n",
       "      <td>M</td>\n",
       "    </tr>\n",
       "    <tr>\n",
       "      <th>3</th>\n",
       "      <td>MI</td>\n",
       "      <td>ML Engineer</td>\n",
       "      <td>270000</td>\n",
       "      <td>US</td>\n",
       "      <td>100</td>\n",
       "      <td>US</td>\n",
       "      <td>L</td>\n",
       "    </tr>\n",
       "    <tr>\n",
       "      <th>4</th>\n",
       "      <td>MI</td>\n",
       "      <td>Data Engineer</td>\n",
       "      <td>26005</td>\n",
       "      <td>RO</td>\n",
       "      <td>0</td>\n",
       "      <td>US</td>\n",
       "      <td>L</td>\n",
       "    </tr>\n",
       "  </tbody>\n",
       "</table>\n",
       "</div>"
      ],
      "text/plain": [
       "  experience_level        job_title  salary_in_usd employee_residence  \\\n",
       "0               SE    Data Engineer         140250                 US   \n",
       "1               SE    Data Engineer         135000                 US   \n",
       "2               MI  BI Data Analyst         100000                 US   \n",
       "3               MI      ML Engineer         270000                 US   \n",
       "4               MI    Data Engineer          26005                 RO   \n",
       "\n",
       "   remote_ratio company_location company_size  \n",
       "0           100               US            M  \n",
       "1           100               US            M  \n",
       "2           100               US            M  \n",
       "3           100               US            L  \n",
       "4             0               US            L  "
      ]
     },
     "execution_count": 11,
     "metadata": {},
     "output_type": "execute_result"
    }
   ],
   "source": [
    "salaries_data2.head()"
   ]
  },
  {
   "cell_type": "code",
   "execution_count": 12,
   "id": "59157641",
   "metadata": {},
   "outputs": [
    {
     "data": {
      "text/plain": [
       "'Quiero cambiar la columna Experience level pero esta vez asignadole un valor a cada variable, siendo EN=1, EX=2, MI=3 y SE=4'"
      ]
     },
     "execution_count": 12,
     "metadata": {},
     "output_type": "execute_result"
    }
   ],
   "source": [
    "\"\"\"Quiero cambiar la columna Experience level pero esta vez asignadole un valor a cada variable, siendo EN=1, EX=2, MI=3 y SE=4\"\"\""
   ]
  },
  {
   "cell_type": "code",
   "execution_count": 14,
   "id": "e9e939d2",
   "metadata": {},
   "outputs": [
    {
     "data": {
      "text/html": [
       "<div>\n",
       "<style scoped>\n",
       "    .dataframe tbody tr th:only-of-type {\n",
       "        vertical-align: middle;\n",
       "    }\n",
       "\n",
       "    .dataframe tbody tr th {\n",
       "        vertical-align: top;\n",
       "    }\n",
       "\n",
       "    .dataframe thead th {\n",
       "        text-align: right;\n",
       "    }\n",
       "</style>\n",
       "<table border=\"1\" class=\"dataframe\">\n",
       "  <thead>\n",
       "    <tr style=\"text-align: right;\">\n",
       "      <th></th>\n",
       "      <th>experience_level</th>\n",
       "      <th>job_title</th>\n",
       "      <th>salary_in_usd</th>\n",
       "      <th>employee_residence</th>\n",
       "      <th>remote_ratio</th>\n",
       "      <th>company_location</th>\n",
       "      <th>company_size</th>\n",
       "    </tr>\n",
       "  </thead>\n",
       "  <tbody>\n",
       "    <tr>\n",
       "      <th>0</th>\n",
       "      <td>4</td>\n",
       "      <td>Data Engineer</td>\n",
       "      <td>140250</td>\n",
       "      <td>US</td>\n",
       "      <td>100</td>\n",
       "      <td>US</td>\n",
       "      <td>M</td>\n",
       "    </tr>\n",
       "    <tr>\n",
       "      <th>1</th>\n",
       "      <td>4</td>\n",
       "      <td>Data Engineer</td>\n",
       "      <td>135000</td>\n",
       "      <td>US</td>\n",
       "      <td>100</td>\n",
       "      <td>US</td>\n",
       "      <td>M</td>\n",
       "    </tr>\n",
       "    <tr>\n",
       "      <th>2</th>\n",
       "      <td>3</td>\n",
       "      <td>BI Data Analyst</td>\n",
       "      <td>100000</td>\n",
       "      <td>US</td>\n",
       "      <td>100</td>\n",
       "      <td>US</td>\n",
       "      <td>M</td>\n",
       "    </tr>\n",
       "    <tr>\n",
       "      <th>3</th>\n",
       "      <td>3</td>\n",
       "      <td>ML Engineer</td>\n",
       "      <td>270000</td>\n",
       "      <td>US</td>\n",
       "      <td>100</td>\n",
       "      <td>US</td>\n",
       "      <td>L</td>\n",
       "    </tr>\n",
       "    <tr>\n",
       "      <th>4</th>\n",
       "      <td>3</td>\n",
       "      <td>Data Engineer</td>\n",
       "      <td>26005</td>\n",
       "      <td>RO</td>\n",
       "      <td>0</td>\n",
       "      <td>US</td>\n",
       "      <td>L</td>\n",
       "    </tr>\n",
       "  </tbody>\n",
       "</table>\n",
       "</div>"
      ],
      "text/plain": [
       "   experience_level        job_title  salary_in_usd employee_residence  \\\n",
       "0                 4    Data Engineer         140250                 US   \n",
       "1                 4    Data Engineer         135000                 US   \n",
       "2                 3  BI Data Analyst         100000                 US   \n",
       "3                 3      ML Engineer         270000                 US   \n",
       "4                 3    Data Engineer          26005                 RO   \n",
       "\n",
       "   remote_ratio company_location company_size  \n",
       "0           100               US            M  \n",
       "1           100               US            M  \n",
       "2           100               US            M  \n",
       "3           100               US            L  \n",
       "4             0               US            L  "
      ]
     },
     "execution_count": 14,
     "metadata": {},
     "output_type": "execute_result"
    }
   ],
   "source": [
    "\n",
    "replace_dict = {'EN': 1, 'EX': 2, 'MI': 3, 'SE': 4}\n",
    "\n",
    "# Reemplazar valores en la columna 'experience_level'\n",
    "salaries_data2['experience_level'] = salaries_data2['experience_level'].replace(replace_dict)\n",
    "\n",
    "# Imprimir los datos para verificar el reemplazo\n",
    "salaries_data2.head()"
   ]
  },
  {
   "cell_type": "code",
   "execution_count": null,
   "id": "9c8f5356",
   "metadata": {},
   "outputs": [],
   "source": [
    "\"\"\"podemos hacer lo mismo para la columna company_size\"\"\""
   ]
  },
  {
   "cell_type": "code",
   "execution_count": 23,
   "id": "91f4796b",
   "metadata": {},
   "outputs": [
    {
     "data": {
      "text/html": [
       "<div>\n",
       "<style scoped>\n",
       "    .dataframe tbody tr th:only-of-type {\n",
       "        vertical-align: middle;\n",
       "    }\n",
       "\n",
       "    .dataframe tbody tr th {\n",
       "        vertical-align: top;\n",
       "    }\n",
       "\n",
       "    .dataframe thead th {\n",
       "        text-align: right;\n",
       "    }\n",
       "</style>\n",
       "<table border=\"1\" class=\"dataframe\">\n",
       "  <thead>\n",
       "    <tr style=\"text-align: right;\">\n",
       "      <th></th>\n",
       "      <th>experience_level</th>\n",
       "      <th>salary_in_usd</th>\n",
       "      <th>employee_residence</th>\n",
       "      <th>remote_ratio</th>\n",
       "      <th>company_location</th>\n",
       "      <th>company_size</th>\n",
       "    </tr>\n",
       "  </thead>\n",
       "  <tbody>\n",
       "    <tr>\n",
       "      <th>0</th>\n",
       "      <td>4</td>\n",
       "      <td>140250</td>\n",
       "      <td>US</td>\n",
       "      <td>100</td>\n",
       "      <td>US</td>\n",
       "      <td>2</td>\n",
       "    </tr>\n",
       "    <tr>\n",
       "      <th>1</th>\n",
       "      <td>4</td>\n",
       "      <td>135000</td>\n",
       "      <td>US</td>\n",
       "      <td>100</td>\n",
       "      <td>US</td>\n",
       "      <td>2</td>\n",
       "    </tr>\n",
       "    <tr>\n",
       "      <th>2</th>\n",
       "      <td>3</td>\n",
       "      <td>100000</td>\n",
       "      <td>US</td>\n",
       "      <td>100</td>\n",
       "      <td>US</td>\n",
       "      <td>2</td>\n",
       "    </tr>\n",
       "    <tr>\n",
       "      <th>3</th>\n",
       "      <td>3</td>\n",
       "      <td>270000</td>\n",
       "      <td>US</td>\n",
       "      <td>100</td>\n",
       "      <td>US</td>\n",
       "      <td>1</td>\n",
       "    </tr>\n",
       "    <tr>\n",
       "      <th>4</th>\n",
       "      <td>3</td>\n",
       "      <td>26005</td>\n",
       "      <td>RO</td>\n",
       "      <td>0</td>\n",
       "      <td>US</td>\n",
       "      <td>1</td>\n",
       "    </tr>\n",
       "    <tr>\n",
       "      <th>5</th>\n",
       "      <td>3</td>\n",
       "      <td>153000</td>\n",
       "      <td>US</td>\n",
       "      <td>50</td>\n",
       "      <td>US</td>\n",
       "      <td>2</td>\n",
       "    </tr>\n",
       "    <tr>\n",
       "      <th>6</th>\n",
       "      <td>1</td>\n",
       "      <td>51321</td>\n",
       "      <td>FR</td>\n",
       "      <td>0</td>\n",
       "      <td>FR</td>\n",
       "      <td>3</td>\n",
       "    </tr>\n",
       "    <tr>\n",
       "      <th>7</th>\n",
       "      <td>1</td>\n",
       "      <td>49646</td>\n",
       "      <td>FR</td>\n",
       "      <td>50</td>\n",
       "      <td>FR</td>\n",
       "      <td>2</td>\n",
       "    </tr>\n",
       "    <tr>\n",
       "      <th>8</th>\n",
       "      <td>3</td>\n",
       "      <td>76940</td>\n",
       "      <td>GR</td>\n",
       "      <td>100</td>\n",
       "      <td>GR</td>\n",
       "      <td>2</td>\n",
       "    </tr>\n",
       "    <tr>\n",
       "      <th>9</th>\n",
       "      <td>1</td>\n",
       "      <td>59102</td>\n",
       "      <td>FR</td>\n",
       "      <td>50</td>\n",
       "      <td>FR</td>\n",
       "      <td>2</td>\n",
       "    </tr>\n",
       "    <tr>\n",
       "      <th>10</th>\n",
       "      <td>3</td>\n",
       "      <td>62726</td>\n",
       "      <td>FR</td>\n",
       "      <td>50</td>\n",
       "      <td>LU</td>\n",
       "      <td>3</td>\n",
       "    </tr>\n",
       "    <tr>\n",
       "      <th>11</th>\n",
       "      <td>4</td>\n",
       "      <td>110500</td>\n",
       "      <td>US</td>\n",
       "      <td>100</td>\n",
       "      <td>US</td>\n",
       "      <td>2</td>\n",
       "    </tr>\n",
       "    <tr>\n",
       "      <th>12</th>\n",
       "      <td>4</td>\n",
       "      <td>136994</td>\n",
       "      <td>US</td>\n",
       "      <td>100</td>\n",
       "      <td>US</td>\n",
       "      <td>2</td>\n",
       "    </tr>\n",
       "    <tr>\n",
       "      <th>13</th>\n",
       "      <td>3</td>\n",
       "      <td>24823</td>\n",
       "      <td>SI</td>\n",
       "      <td>50</td>\n",
       "      <td>SI</td>\n",
       "      <td>1</td>\n",
       "    </tr>\n",
       "    <tr>\n",
       "      <th>14</th>\n",
       "      <td>4</td>\n",
       "      <td>148261</td>\n",
       "      <td>DE</td>\n",
       "      <td>100</td>\n",
       "      <td>DE</td>\n",
       "      <td>2</td>\n",
       "    </tr>\n",
       "    <tr>\n",
       "      <th>15</th>\n",
       "      <td>4</td>\n",
       "      <td>175000</td>\n",
       "      <td>US</td>\n",
       "      <td>100</td>\n",
       "      <td>US</td>\n",
       "      <td>2</td>\n",
       "    </tr>\n",
       "    <tr>\n",
       "      <th>16</th>\n",
       "      <td>3</td>\n",
       "      <td>59303</td>\n",
       "      <td>DE</td>\n",
       "      <td>100</td>\n",
       "      <td>DE</td>\n",
       "      <td>3</td>\n",
       "    </tr>\n",
       "    <tr>\n",
       "      <th>17</th>\n",
       "      <td>3</td>\n",
       "      <td>112000</td>\n",
       "      <td>US</td>\n",
       "      <td>100</td>\n",
       "      <td>US</td>\n",
       "      <td>1</td>\n",
       "    </tr>\n",
       "    <tr>\n",
       "      <th>18</th>\n",
       "      <td>1</td>\n",
       "      <td>30428</td>\n",
       "      <td>IN</td>\n",
       "      <td>100</td>\n",
       "      <td>IN</td>\n",
       "      <td>1</td>\n",
       "    </tr>\n",
       "    <tr>\n",
       "      <th>19</th>\n",
       "      <td>4</td>\n",
       "      <td>109280</td>\n",
       "      <td>US</td>\n",
       "      <td>100</td>\n",
       "      <td>US</td>\n",
       "      <td>2</td>\n",
       "    </tr>\n",
       "  </tbody>\n",
       "</table>\n",
       "</div>"
      ],
      "text/plain": [
       "    experience_level  salary_in_usd employee_residence  remote_ratio  \\\n",
       "0                  4         140250                 US           100   \n",
       "1                  4         135000                 US           100   \n",
       "2                  3         100000                 US           100   \n",
       "3                  3         270000                 US           100   \n",
       "4                  3          26005                 RO             0   \n",
       "5                  3         153000                 US            50   \n",
       "6                  1          51321                 FR             0   \n",
       "7                  1          49646                 FR            50   \n",
       "8                  3          76940                 GR           100   \n",
       "9                  1          59102                 FR            50   \n",
       "10                 3          62726                 FR            50   \n",
       "11                 4         110500                 US           100   \n",
       "12                 4         136994                 US           100   \n",
       "13                 3          24823                 SI            50   \n",
       "14                 4         148261                 DE           100   \n",
       "15                 4         175000                 US           100   \n",
       "16                 3          59303                 DE           100   \n",
       "17                 3         112000                 US           100   \n",
       "18                 1          30428                 IN           100   \n",
       "19                 4         109280                 US           100   \n",
       "\n",
       "   company_location  company_size  \n",
       "0                US             2  \n",
       "1                US             2  \n",
       "2                US             2  \n",
       "3                US             1  \n",
       "4                US             1  \n",
       "5                US             2  \n",
       "6                FR             3  \n",
       "7                FR             2  \n",
       "8                GR             2  \n",
       "9                FR             2  \n",
       "10               LU             3  \n",
       "11               US             2  \n",
       "12               US             2  \n",
       "13               SI             1  \n",
       "14               DE             2  \n",
       "15               US             2  \n",
       "16               DE             3  \n",
       "17               US             1  \n",
       "18               IN             1  \n",
       "19               US             2  "
      ]
     },
     "execution_count": 23,
     "metadata": {},
     "output_type": "execute_result"
    }
   ],
   "source": [
    "replace_dict2 = {'L': 1, 'M': 2, 'S': 3}\n",
    "\n",
    "# Reemplazar valores en la columna 'experience_level'\n",
    "salaries_data2['company_size'] = salaries_data2['company_size'].replace(replace_dict2)\n",
    "\n",
    "# Imprimir los datos para verificar el reemplazo\n",
    "salaries_data2.head(20)"
   ]
  },
  {
   "cell_type": "code",
   "execution_count": 17,
   "id": "26586658",
   "metadata": {},
   "outputs": [
    {
     "data": {
      "text/plain": [
       "'Según nos damos cuenta parece que hay una relación entre la residencia del empleado según su salrio sin importar el Job_title que tenga. \\npor lo cual, podemos eliminar la columna job_title y la employee_residence pasarla a numérica mediante get.dummies'"
      ]
     },
     "execution_count": 17,
     "metadata": {},
     "output_type": "execute_result"
    }
   ],
   "source": [
    "\"\"\"Según nos damos cuenta parece que hay una relación entre la residencia del empleado según su salrio sin importar el Job_title que tenga. \n",
    "por lo cual, podemos eliminar la columna job_title y la employee_residence pasarla a numérica mediante get.dummies\"\"\""
   ]
  },
  {
   "cell_type": "code",
   "execution_count": 18,
   "id": "6bf8e400",
   "metadata": {},
   "outputs": [],
   "source": [
    "salaries_data2 = salaries_data2.drop(['job_title'], axis=1)"
   ]
  },
  {
   "cell_type": "code",
   "execution_count": 20,
   "id": "9e46dea6",
   "metadata": {},
   "outputs": [
    {
     "name": "stdout",
     "output_type": "stream",
     "text": [
      "100    320\n",
      "0      102\n",
      "50      78\n",
      "Name: remote_ratio, dtype: int64\n"
     ]
    }
   ],
   "source": [
    "counts2 = salaries_data2['remote_ratio'].value_counts()\n",
    "\n",
    "# Imprimir conteo de ocurrencias\n",
    "print(counts2)"
   ]
  },
  {
   "cell_type": "code",
   "execution_count": 21,
   "id": "ae91b122",
   "metadata": {},
   "outputs": [
    {
     "data": {
      "text/plain": [
       "'De momento la columna remote_ratio no me dice nada. '"
      ]
     },
     "execution_count": 21,
     "metadata": {},
     "output_type": "execute_result"
    }
   ],
   "source": [
    "\"\"\"De momento la columna remote_ratio no me dice nada. \"\"\""
   ]
  },
  {
   "cell_type": "code",
   "execution_count": 22,
   "id": "dd878c7c",
   "metadata": {},
   "outputs": [
    {
     "name": "stdout",
     "output_type": "stream",
     "text": [
      "US    278\n",
      "GB     38\n",
      "IN     25\n",
      "CA     24\n",
      "DE     19\n",
      "FR     14\n",
      "ES     13\n",
      "GR     11\n",
      "PK      6\n",
      "PT      6\n",
      "BR      5\n",
      "NL      4\n",
      "JP      4\n",
      "VN      3\n",
      "PL      3\n",
      "AT      3\n",
      "TR      3\n",
      "AE      3\n",
      "RO      2\n",
      "BE      2\n",
      "NG      2\n",
      "AU      2\n",
      "RU      2\n",
      "IT      2\n",
      "SI      2\n",
      "MY      1\n",
      "BO      1\n",
      "HN      1\n",
      "IE      1\n",
      "MT      1\n",
      "HU      1\n",
      "RS      1\n",
      "MD      1\n",
      "IR      1\n",
      "LU      1\n",
      "DZ      1\n",
      "MX      1\n",
      "PR      1\n",
      "CZ      1\n",
      "EE      1\n",
      "HK      1\n",
      "BG      1\n",
      "UA      1\n",
      "NZ      1\n",
      "JE      1\n",
      "CL      1\n",
      "CH      1\n",
      "KE      1\n",
      "SG      1\n",
      "Name: employee_residence, dtype: int64\n"
     ]
    }
   ],
   "source": [
    "counts3 = salaries_data2['employee_residence'].value_counts()\n",
    "\n",
    "# Imprimir conteo de ocurrencias\n",
    "print(counts3)"
   ]
  },
  {
   "cell_type": "code",
   "execution_count": 25,
   "id": "6cb69cd7",
   "metadata": {},
   "outputs": [
    {
     "data": {
      "text/plain": [
       "'Por lo que se ve, tiene más relevancia al columna employee_residence que la location_company a la hora de predercir los salarios\\npor lo que podemos prescindir de la columna location_company'"
      ]
     },
     "execution_count": 25,
     "metadata": {},
     "output_type": "execute_result"
    }
   ],
   "source": [
    "\"\"\"Por lo que se ve, tiene más relevancia al columna employee_residence que la location_company a la hora de predercir los salarios\n",
    "por lo que podemos prescindir de la columna company_location\"\"\""
   ]
  },
  {
   "cell_type": "code",
   "execution_count": 26,
   "id": "29e51683",
   "metadata": {},
   "outputs": [],
   "source": [
    "salaries_data2 = salaries_data2.drop(['company_location'], axis=1)"
   ]
  },
  {
   "cell_type": "code",
   "execution_count": 27,
   "id": "35222600",
   "metadata": {},
   "outputs": [
    {
     "data": {
      "text/plain": [
       "'Voy a crear un gráfico para ver la importancia de la columna employee_residence con el salario'"
      ]
     },
     "execution_count": 27,
     "metadata": {},
     "output_type": "execute_result"
    }
   ],
   "source": [
    "\"\"\"Voy a crear un gráfico para ver la importancia de la columna employee_residence con el salario\"\"\""
   ]
  },
  {
   "cell_type": "code",
   "execution_count": 28,
   "id": "3110bb16",
   "metadata": {},
   "outputs": [
    {
     "data": {
      "image/png": "[encoded data removed]",
      "text/plain": [
       "<Figure size 640x480 with 1 Axes>"
      ]
     },
     "metadata": {},
     "output_type": "display_data"
    }
   ],
   "source": [
    "salaries_data2.groupby('employee_residence')['salary_in_usd'].mean().plot(kind='bar')\n",
    "plt.ylabel('Salario promedio en USD')\n",
    "plt.show()"
   ]
  },
  {
   "cell_type": "code",
   "execution_count": 29,
   "id": "c2a42cca",
   "metadata": {},
   "outputs": [
    {
     "data": {
      "text/plain": [
       "'se observa que si tiene que ver la localización del empleado para el salario. por lo que puedo convertir esa columna en numérica'"
      ]
     },
     "execution_count": 29,
     "metadata": {},
     "output_type": "execute_result"
    }
   ],
   "source": [
    "\"\"\"se observa que si tiene que ver la localización del empleado para el salario. por lo que puedo convertir esa columna en numérica\"\"\""
   ]
  },
  {
   "cell_type": "code",
   "execution_count": 30,
   "id": "bf810844",
   "metadata": {},
   "outputs": [
    {
     "name": "stdout",
     "output_type": "stream",
     "text": [
      "Index(['US', 'RO', 'FR', 'GR', 'SI', 'DE', 'IN', 'GB', 'PK', 'MD', 'JP', 'CA',\n",
      "       'PT', 'IE', 'AE', 'IT', 'MX', 'VN', 'BE', 'KE', 'ES', 'CH', 'CL', 'JE',\n",
      "       'TR', 'NZ', 'UA', 'AU', 'NG', 'BG', 'HK', 'EE', 'CZ', 'RU', 'PR', 'AT',\n",
      "       'BR', 'DZ', 'IR', 'NL', 'RS', 'HU', 'PL', 'HN', 'MY', 'BO', 'MT', 'LU',\n",
      "       'SG'],\n",
      "      dtype='object')\n",
      "[ 0  1  2  3  4  5  6  7  8  9 10 11 12 13 14 15 16 17 18 19 20 21 22 23\n",
      " 24 25 26 27 28 29 30 31 32 33 34 35 36 37 38 39 40 41 42 43 44 45 46 47\n",
      " 48]\n"
     ]
    }
   ],
   "source": [
    "# Convertir la columna 'employee_residence' a valores numéricos\n",
    "salaries_data2['employee_residence'], categories = pd.factorize(salaries_data2['employee_residence'])\n",
    "\n",
    "# Imprimir las categorías originales y los valores numéricos asignados\n",
    "print(categories)\n",
    "print(salaries_data2['employee_residence'].unique())"
   ]
  },
  {
   "cell_type": "code",
   "execution_count": 31,
   "id": "d192af91",
   "metadata": {},
   "outputs": [
    {
     "data": {
      "text/html": [
       "<div>\n",
       "<style scoped>\n",
       "    .dataframe tbody tr th:only-of-type {\n",
       "        vertical-align: middle;\n",
       "    }\n",
       "\n",
       "    .dataframe tbody tr th {\n",
       "        vertical-align: top;\n",
       "    }\n",
       "\n",
       "    .dataframe thead th {\n",
       "        text-align: right;\n",
       "    }\n",
       "</style>\n",
       "<table border=\"1\" class=\"dataframe\">\n",
       "  <thead>\n",
       "    <tr style=\"text-align: right;\">\n",
       "      <th></th>\n",
       "      <th>experience_level</th>\n",
       "      <th>salary_in_usd</th>\n",
       "      <th>employee_residence</th>\n",
       "      <th>remote_ratio</th>\n",
       "      <th>company_size</th>\n",
       "    </tr>\n",
       "  </thead>\n",
       "  <tbody>\n",
       "    <tr>\n",
       "      <th>0</th>\n",
       "      <td>4</td>\n",
       "      <td>140250</td>\n",
       "      <td>0</td>\n",
       "      <td>100</td>\n",
       "      <td>2</td>\n",
       "    </tr>\n",
       "    <tr>\n",
       "      <th>1</th>\n",
       "      <td>4</td>\n",
       "      <td>135000</td>\n",
       "      <td>0</td>\n",
       "      <td>100</td>\n",
       "      <td>2</td>\n",
       "    </tr>\n",
       "    <tr>\n",
       "      <th>2</th>\n",
       "      <td>3</td>\n",
       "      <td>100000</td>\n",
       "      <td>0</td>\n",
       "      <td>100</td>\n",
       "      <td>2</td>\n",
       "    </tr>\n",
       "    <tr>\n",
       "      <th>3</th>\n",
       "      <td>3</td>\n",
       "      <td>270000</td>\n",
       "      <td>0</td>\n",
       "      <td>100</td>\n",
       "      <td>1</td>\n",
       "    </tr>\n",
       "    <tr>\n",
       "      <th>4</th>\n",
       "      <td>3</td>\n",
       "      <td>26005</td>\n",
       "      <td>1</td>\n",
       "      <td>0</td>\n",
       "      <td>1</td>\n",
       "    </tr>\n",
       "  </tbody>\n",
       "</table>\n",
       "</div>"
      ],
      "text/plain": [
       "   experience_level  salary_in_usd  employee_residence  remote_ratio  \\\n",
       "0                 4         140250                   0           100   \n",
       "1                 4         135000                   0           100   \n",
       "2                 3         100000                   0           100   \n",
       "3                 3         270000                   0           100   \n",
       "4                 3          26005                   1             0   \n",
       "\n",
       "   company_size  \n",
       "0             2  \n",
       "1             2  \n",
       "2             2  \n",
       "3             1  \n",
       "4             1  "
      ]
     },
     "execution_count": 31,
     "metadata": {},
     "output_type": "execute_result"
    }
   ],
   "source": [
    "salaries_data2.head()"
   ]
  },
  {
   "cell_type": "code",
   "execution_count": 32,
   "id": "784aa873",
   "metadata": {},
   "outputs": [
    {
     "data": {
      "text/plain": [
       "'Ahora ya tenemos las columnas que queremos numéricas. Pinto un gráfico para ver sus correlaciones que \\nen teoría deberían ser altas.'"
      ]
     },
     "execution_count": 32,
     "metadata": {},
     "output_type": "execute_result"
    }
   ],
   "source": [
    "\"\"\"Ahora ya tenemos las columnas que queremos numéricas. Pinto un gráfico para ver sus correlaciones que \n",
    "en teoría deberían ser altas.\"\"\""
   ]
  },
  {
   "cell_type": "code",
   "execution_count": 33,
   "id": "0c196985",
   "metadata": {},
   "outputs": [
    {
     "data": {
      "image/png": "[encoded data removed]",
      "text/plain": [
       "<Figure size 640x480 with 2 Axes>"
      ]
     },
     "metadata": {},
     "output_type": "display_data"
    }
   ],
   "source": [
    "corr_matrix = salaries_data2.corr()\n",
    "\n",
    "# Crear mapa de calor\n",
    "sns.heatmap(corr_matrix, annot=True, cmap='coolwarm')\n",
    "plt.show()\n"
   ]
  },
  {
   "cell_type": "code",
   "execution_count": 34,
   "id": "519ead89",
   "metadata": {},
   "outputs": [
    {
     "name": "stdout",
     "output_type": "stream",
     "text": [
      "MSE: 2609520704.6810875\n",
      "R^2: 0.33308348386033726\n"
     ]
    }
   ],
   "source": [
    "from sklearn.ensemble import RandomForestRegressor\n",
    "from sklearn.metrics import mean_squared_error, r2_score\n",
    "num_cols = ['experience_level', 'employee_residence','remote_ratio','company_size']\n",
    "X = salaries_data2[num_cols]\n",
    "y = salaries_data2['salary_in_usd']\n",
    "\n",
    "# Dividir los datos en conjuntos de entrenamiento y prueba\n",
    "X_train, X_test, y_train, y_test = train_test_split(X, y, test_size=0.2, random_state=42)\n",
    "\n",
    "# Crear modelo de bosques aleatorios y ajustar parámetros\n",
    "rf_model = RandomForestRegressor(n_estimators=100, max_depth=30, min_samples_leaf=5, random_state=42)\n",
    "rf_model.fit(X_train, y_train)\n",
    "\n",
    "# Hacer predicciones en conjunto de prueba y evaluar rendimiento\n",
    "y_pred = rf_model.predict(X_test)\n",
    "mse = mean_squared_error(y_test, y_pred)\n",
    "r2 = r2_score(y_test, y_pred)\n",
    "print('MSE:', mse)\n",
    "print('R^2:', r2)\n"
   ]
  },
  {
   "cell_type": "code",
   "execution_count": 35,
   "id": "1243a7c4",
   "metadata": {},
   "outputs": [
    {
     "name": "stdout",
     "output_type": "stream",
     "text": [
      "RMSE: 51083.46801736436\n"
     ]
    }
   ],
   "source": [
    "y_pred = rf_model.predict(X_test)\n",
    "rmse = mean_squared_error(y_test, y_pred, squared=False)\n",
    "print('RMSE:', rmse)"
   ]
  },
  {
   "cell_type": "code",
   "execution_count": 38,
   "id": "ea19cf74",
   "metadata": {},
   "outputs": [
    {
     "data": {
      "text/plain": [
       "'A priori, parece que este modelo debería funcionar mejor.\\nAhora vamos con el test'"
      ]
     },
     "execution_count": 38,
     "metadata": {},
     "output_type": "execute_result"
    }
   ],
   "source": [
    "\"\"\"A priori, parece que este modelo debería funcionar mejor.\n",
    "Ahora vamos con el test\"\"\""
   ]
  },
  {
   "cell_type": "code",
   "execution_count": 36,
   "id": "228ee296",
   "metadata": {},
   "outputs": [],
   "source": [
    "testeo_data2 = pd.read_csv('C:/Users/usuario/Desktop/SALARY_COMPETITION/data/testeo.csv')"
   ]
  },
  {
   "cell_type": "code",
   "execution_count": 39,
   "id": "251e6818",
   "metadata": {},
   "outputs": [],
   "source": [
    "testeo_data2 = testeo_data2.drop(['employment_type'], axis=1)"
   ]
  },
  {
   "cell_type": "code",
   "execution_count": 40,
   "id": "ac08b95c",
   "metadata": {},
   "outputs": [],
   "source": [
    "testeo_data2 = testeo_data2.drop(['work_year'], axis=1)"
   ]
  },
  {
   "cell_type": "code",
   "execution_count": 41,
   "id": "6a2180b5",
   "metadata": {},
   "outputs": [],
   "source": [
    "replace_dicttest = {'EN': 1, 'EX': 2, 'MI': 3, 'SE': 4}\n",
    "\n",
    "# Reemplazar valores en la columna 'experience_level'\n",
    "testeo_data2['experience_level'] = testeo_data2['experience_level'].replace(replace_dicttest)\n"
   ]
  },
  {
   "cell_type": "code",
   "execution_count": 42,
   "id": "a296d7b8",
   "metadata": {},
   "outputs": [
    {
     "data": {
      "text/html": [
       "<div>\n",
       "<style scoped>\n",
       "    .dataframe tbody tr th:only-of-type {\n",
       "        vertical-align: middle;\n",
       "    }\n",
       "\n",
       "    .dataframe tbody tr th {\n",
       "        vertical-align: top;\n",
       "    }\n",
       "\n",
       "    .dataframe thead th {\n",
       "        text-align: right;\n",
       "    }\n",
       "</style>\n",
       "<table border=\"1\" class=\"dataframe\">\n",
       "  <thead>\n",
       "    <tr style=\"text-align: right;\">\n",
       "      <th></th>\n",
       "      <th>experience_level</th>\n",
       "      <th>job_title</th>\n",
       "      <th>employee_residence</th>\n",
       "      <th>remote_ratio</th>\n",
       "      <th>company_location</th>\n",
       "      <th>company_size</th>\n",
       "    </tr>\n",
       "  </thead>\n",
       "  <tbody>\n",
       "    <tr>\n",
       "      <th>0</th>\n",
       "      <td>4</td>\n",
       "      <td>Machine Learning Scientist</td>\n",
       "      <td>JP</td>\n",
       "      <td>0</td>\n",
       "      <td>JP</td>\n",
       "      <td>3</td>\n",
       "    </tr>\n",
       "    <tr>\n",
       "      <th>1</th>\n",
       "      <td>3</td>\n",
       "      <td>Lead Data Analyst</td>\n",
       "      <td>US</td>\n",
       "      <td>100</td>\n",
       "      <td>US</td>\n",
       "      <td>1</td>\n",
       "    </tr>\n",
       "    <tr>\n",
       "      <th>2</th>\n",
       "      <td>3</td>\n",
       "      <td>Data Analyst</td>\n",
       "      <td>US</td>\n",
       "      <td>100</td>\n",
       "      <td>US</td>\n",
       "      <td>1</td>\n",
       "    </tr>\n",
       "    <tr>\n",
       "      <th>3</th>\n",
       "      <td>3</td>\n",
       "      <td>Machine Learning Engineer</td>\n",
       "      <td>CN</td>\n",
       "      <td>0</td>\n",
       "      <td>CN</td>\n",
       "      <td>2</td>\n",
       "    </tr>\n",
       "    <tr>\n",
       "      <th>4</th>\n",
       "      <td>3</td>\n",
       "      <td>Product Data Analyst</td>\n",
       "      <td>IN</td>\n",
       "      <td>100</td>\n",
       "      <td>IN</td>\n",
       "      <td>1</td>\n",
       "    </tr>\n",
       "    <tr>\n",
       "      <th>5</th>\n",
       "      <td>4</td>\n",
       "      <td>Data Engineer</td>\n",
       "      <td>MX</td>\n",
       "      <td>0</td>\n",
       "      <td>MX</td>\n",
       "      <td>3</td>\n",
       "    </tr>\n",
       "    <tr>\n",
       "      <th>6</th>\n",
       "      <td>4</td>\n",
       "      <td>Data Scientist</td>\n",
       "      <td>GR</td>\n",
       "      <td>100</td>\n",
       "      <td>US</td>\n",
       "      <td>1</td>\n",
       "    </tr>\n",
       "    <tr>\n",
       "      <th>7</th>\n",
       "      <td>3</td>\n",
       "      <td>Data Analyst</td>\n",
       "      <td>FR</td>\n",
       "      <td>50</td>\n",
       "      <td>FR</td>\n",
       "      <td>1</td>\n",
       "    </tr>\n",
       "    <tr>\n",
       "      <th>8</th>\n",
       "      <td>3</td>\n",
       "      <td>Data Scientist</td>\n",
       "      <td>PH</td>\n",
       "      <td>100</td>\n",
       "      <td>US</td>\n",
       "      <td>3</td>\n",
       "    </tr>\n",
       "    <tr>\n",
       "      <th>9</th>\n",
       "      <td>4</td>\n",
       "      <td>Data Engineer</td>\n",
       "      <td>US</td>\n",
       "      <td>100</td>\n",
       "      <td>US</td>\n",
       "      <td>1</td>\n",
       "    </tr>\n",
       "    <tr>\n",
       "      <th>10</th>\n",
       "      <td>1</td>\n",
       "      <td>AI Scientist</td>\n",
       "      <td>DK</td>\n",
       "      <td>50</td>\n",
       "      <td>DK</td>\n",
       "      <td>3</td>\n",
       "    </tr>\n",
       "    <tr>\n",
       "      <th>11</th>\n",
       "      <td>4</td>\n",
       "      <td>Data Scientist</td>\n",
       "      <td>US</td>\n",
       "      <td>50</td>\n",
       "      <td>US</td>\n",
       "      <td>1</td>\n",
       "    </tr>\n",
       "    <tr>\n",
       "      <th>12</th>\n",
       "      <td>3</td>\n",
       "      <td>Data Engineer</td>\n",
       "      <td>ES</td>\n",
       "      <td>100</td>\n",
       "      <td>US</td>\n",
       "      <td>2</td>\n",
       "    </tr>\n",
       "    <tr>\n",
       "      <th>13</th>\n",
       "      <td>1</td>\n",
       "      <td>Data Scientist</td>\n",
       "      <td>IT</td>\n",
       "      <td>50</td>\n",
       "      <td>IT</td>\n",
       "      <td>3</td>\n",
       "    </tr>\n",
       "    <tr>\n",
       "      <th>14</th>\n",
       "      <td>4</td>\n",
       "      <td>Machine Learning Engineer</td>\n",
       "      <td>HR</td>\n",
       "      <td>100</td>\n",
       "      <td>HR</td>\n",
       "      <td>3</td>\n",
       "    </tr>\n",
       "    <tr>\n",
       "      <th>15</th>\n",
       "      <td>3</td>\n",
       "      <td>Data Scientist</td>\n",
       "      <td>FR</td>\n",
       "      <td>50</td>\n",
       "      <td>FR</td>\n",
       "      <td>3</td>\n",
       "    </tr>\n",
       "    <tr>\n",
       "      <th>16</th>\n",
       "      <td>4</td>\n",
       "      <td>Data Analytics Engineer</td>\n",
       "      <td>DE</td>\n",
       "      <td>100</td>\n",
       "      <td>DE</td>\n",
       "      <td>1</td>\n",
       "    </tr>\n",
       "    <tr>\n",
       "      <th>17</th>\n",
       "      <td>3</td>\n",
       "      <td>Data Analytics Engineer</td>\n",
       "      <td>US</td>\n",
       "      <td>100</td>\n",
       "      <td>US</td>\n",
       "      <td>1</td>\n",
       "    </tr>\n",
       "    <tr>\n",
       "      <th>18</th>\n",
       "      <td>1</td>\n",
       "      <td>Data Science Consultant</td>\n",
       "      <td>DE</td>\n",
       "      <td>100</td>\n",
       "      <td>DE</td>\n",
       "      <td>3</td>\n",
       "    </tr>\n",
       "    <tr>\n",
       "      <th>19</th>\n",
       "      <td>3</td>\n",
       "      <td>Computer Vision Software Engineer</td>\n",
       "      <td>DE</td>\n",
       "      <td>100</td>\n",
       "      <td>US</td>\n",
       "      <td>3</td>\n",
       "    </tr>\n",
       "  </tbody>\n",
       "</table>\n",
       "</div>"
      ],
      "text/plain": [
       "    experience_level                          job_title employee_residence  \\\n",
       "0                  4         Machine Learning Scientist                 JP   \n",
       "1                  3                  Lead Data Analyst                 US   \n",
       "2                  3                       Data Analyst                 US   \n",
       "3                  3          Machine Learning Engineer                 CN   \n",
       "4                  3               Product Data Analyst                 IN   \n",
       "5                  4                      Data Engineer                 MX   \n",
       "6                  4                     Data Scientist                 GR   \n",
       "7                  3                       Data Analyst                 FR   \n",
       "8                  3                     Data Scientist                 PH   \n",
       "9                  4                      Data Engineer                 US   \n",
       "10                 1                       AI Scientist                 DK   \n",
       "11                 4                     Data Scientist                 US   \n",
       "12                 3                      Data Engineer                 ES   \n",
       "13                 1                     Data Scientist                 IT   \n",
       "14                 4          Machine Learning Engineer                 HR   \n",
       "15                 3                     Data Scientist                 FR   \n",
       "16                 4            Data Analytics Engineer                 DE   \n",
       "17                 3            Data Analytics Engineer                 US   \n",
       "18                 1            Data Science Consultant                 DE   \n",
       "19                 3  Computer Vision Software Engineer                 DE   \n",
       "\n",
       "    remote_ratio company_location  company_size  \n",
       "0              0               JP             3  \n",
       "1            100               US             1  \n",
       "2            100               US             1  \n",
       "3              0               CN             2  \n",
       "4            100               IN             1  \n",
       "5              0               MX             3  \n",
       "6            100               US             1  \n",
       "7             50               FR             1  \n",
       "8            100               US             3  \n",
       "9            100               US             1  \n",
       "10            50               DK             3  \n",
       "11            50               US             1  \n",
       "12           100               US             2  \n",
       "13            50               IT             3  \n",
       "14           100               HR             3  \n",
       "15            50               FR             3  \n",
       "16           100               DE             1  \n",
       "17           100               US             1  \n",
       "18           100               DE             3  \n",
       "19           100               US             3  "
      ]
     },
     "execution_count": 42,
     "metadata": {},
     "output_type": "execute_result"
    }
   ],
   "source": [
    "replace_dicttest2 = {'L': 1, 'M': 2, 'S': 3}\n",
    "\n",
    "# Reemplazar valores en la columna 'experience_level'\n",
    "testeo_data2['company_size'] = testeo_data2['company_size'].replace(replace_dicttest2)\n",
    "\n",
    "# Imprimir los datos para verificar el reemplazo\n",
    "testeo_data2.head(20)"
   ]
  },
  {
   "cell_type": "code",
   "execution_count": 43,
   "id": "9d612026",
   "metadata": {},
   "outputs": [],
   "source": [
    "testeo_data2 = testeo_data2.drop(['job_title'], axis=1)"
   ]
  },
  {
   "cell_type": "code",
   "execution_count": 44,
   "id": "724ab6a0",
   "metadata": {},
   "outputs": [],
   "source": [
    "testeo_data2 = testeo_data2.drop(['company_location'], axis=1)"
   ]
  },
  {
   "cell_type": "code",
   "execution_count": 45,
   "id": "c8b54cda",
   "metadata": {},
   "outputs": [
    {
     "name": "stdout",
     "output_type": "stream",
     "text": [
      "Index(['JP', 'US', 'CN', 'IN', 'MX', 'GR', 'FR', 'PH', 'DK', 'ES', 'IT', 'HR',\n",
      "       'DE', 'HU', 'GB', 'CA', 'IQ', 'SG', 'RU', 'CO', 'BR', 'NL', 'AR', 'TN',\n",
      "       'PL', 'AU'],\n",
      "      dtype='object')\n",
      "[ 0  1  2  3  4  5  6  7  8  9 10 11 12 13 14 15 16 17 18 19 20 21 22 23\n",
      " 24 25]\n"
     ]
    }
   ],
   "source": [
    "# Convertir la columna 'employee_residence' a valores numéricos\n",
    "testeo_data2['employee_residence'], categories = pd.factorize(testeo_data2['employee_residence'])\n",
    "\n",
    "# Imprimir las categorías originales y los valores numéricos asignados\n",
    "print(categories)\n",
    "print(testeo_data2['employee_residence'].unique())"
   ]
  },
  {
   "cell_type": "code",
   "execution_count": 46,
   "id": "f9f019af",
   "metadata": {},
   "outputs": [],
   "source": [
    "num_cols3 = ['experience_level', 'employee_residence','remote_ratio','company_size']\n",
    "X_test = testeo_data2[num_cols3]\n",
    "\n",
    "# Cargar modelo entrenado\n",
    "rf_model = RandomForestRegressor(n_estimators=100, max_depth=30, min_samples_leaf=5, random_state=42)\n",
    "rf_model.fit(X, y)\n",
    "\n",
    "# Hacer predicciones en datos de prueba\n",
    "y_pred = rf_model.predict(X_test)\n",
    "\n",
    "# Agregar las predicciones como columna en los datos de prueba\n",
    "testeo_data2['salary_in_usd'] = y_pred"
   ]
  },
  {
   "cell_type": "code",
   "execution_count": null,
   "id": "467804ff",
   "metadata": {},
   "outputs": [],
   "source": []
  },
  {
   "cell_type": "code",
   "execution_count": null,
   "id": "8cb9167e",
   "metadata": {},
   "outputs": [],
   "source": []
  },
  {
   "cell_type": "code",
   "execution_count": null,
   "id": "5c1ebaba",
   "metadata": {},
   "outputs": [],
   "source": []
  },
  {
   "cell_type": "code",
   "execution_count": null,
   "id": "99a896cf",
   "metadata": {},
   "outputs": [],
   "source": []
  },
  {
   "cell_type": "code",
   "execution_count": null,
   "id": "40602b50",
   "metadata": {},
   "outputs": [],
   "source": []
  }
 ],
 "metadata": {
  "kernelspec": {
   "display_name": "Python 3 (ipykernel)",
   "language": "python",
   "name": "python3"
  },
  "language_info": {
   "codemirror_mode": {
    "name": "ipython",
    "version": 3
   },
   "file_extension": ".py",
   "mimetype": "text/x-python",
   "name": "python",
   "nbconvert_exporter": "python",
   "pygments_lexer": "ipython3",
   "version": "3.9.13"
  }
 },
 "nbformat": 4,
 "nbformat_minor": 5
}
